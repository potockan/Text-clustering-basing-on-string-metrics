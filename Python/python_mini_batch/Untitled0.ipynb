{
 "metadata": {
  "name": ""
 },
 "nbformat": 3,
 "nbformat_minor": 0,
 "worksheets": [
  {
   "cells": [
    {
     "cell_type": "code",
     "collapsed": false,
     "input": [
      "def compute(n):\n",
      "    import time, socket\n",
      "    time.sleep(n)\n",
      "    host = socket.gethostname()\n",
      "    return (host, n)"
     ],
     "language": "python",
     "metadata": {},
     "outputs": [],
     "prompt_number": 1
    },
    {
     "cell_type": "code",
     "collapsed": false,
     "input": [
      "import dispy, random\n",
      "cluster = dispy.JobCluster(compute)\n"
     ],
     "language": "python",
     "metadata": {},
     "outputs": [
      {
       "output_type": "stream",
       "stream": "stderr",
       "text": [
        "2015-09-03 20:36:59,094 - dispy - Storing fault recovery information in \"_dispy_20150903203659\"\n"
       ]
      },
      {
       "output_type": "stream",
       "stream": "stderr",
       "text": [
        "INFO:dispy:Storing fault recovery information in \"_dispy_20150903203659\"\n"
       ]
      }
     ],
     "prompt_number": 2
    },
    {
     "cell_type": "code",
     "collapsed": false,
     "input": [
      "jobs = []\n",
      "for i in range(10):\n",
      "# schedule execution of 'compute' on a node (running 'dispynode')\n",
      "    # with a parameter (random number in this case)\n",
      "    job = cluster.submit(random.randint(5,20))\n",
      "    job.id = i # optionally associate an ID to job (if needed later)\n",
      "    jobs.append(job)\n",
      "    # cluster.wait() # wait for all scheduled jobs to finish\n",
      "for job in jobs:\n",
      "    host, n = job() # waits for job to finish and returns results\n",
      "    print('%s executed job %s at %s with %s' % (host, job.id, job.start_time, n))\n",
      "# other fields of 'job' that may be useful:\n",
      "# print(job.stdout, job.stderr, job.exception, job.ip_addr, job.start_time, job.end_time)\n",
      "cluster.stats()"
     ],
     "language": "python",
     "metadata": {},
     "outputs": [],
     "prompt_number": "*"
    },
    {
     "cell_type": "code",
     "collapsed": false,
     "input": [
      "dispy.ClusterStatus()"
     ],
     "language": "python",
     "metadata": {},
     "outputs": [],
     "prompt_number": "*"
    },
    {
     "cell_type": "code",
     "collapsed": false,
     "input": [
      "\n"
     ],
     "language": "python",
     "metadata": {},
     "outputs": [],
     "prompt_number": "*"
    },
    {
     "cell_type": "code",
     "collapsed": false,
     "input": [],
     "language": "python",
     "metadata": {},
     "outputs": [],
     "prompt_number": "*"
    },
    {
     "cell_type": "code",
     "collapsed": false,
     "input": [],
     "language": "python",
     "metadata": {},
     "outputs": []
    }
   ],
   "metadata": {}
  }
 ]
}