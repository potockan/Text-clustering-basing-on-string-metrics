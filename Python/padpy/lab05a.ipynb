{
 "cells": [
  {
   "cell_type": "markdown",
   "metadata": {},
   "source": [
    "## Projekty wielomodułowe i skrypty Pythona w powłoce (bashu)\n",
    "\n",
    "uruchamiamy spydera"
   ]
  },
  {
   "cell_type": "code",
   "execution_count": 1,
   "metadata": {
    "collapsed": false
   },
   "outputs": [
    {
     "data": {
      "text/plain": [
       "'/home/samba/potockan/python'"
      ]
     },
     "execution_count": 1,
     "metadata": {},
     "output_type": "execute_result"
    }
   ],
   "source": [
    "import os\n",
    "os.getcwd()"
   ]
  },
  {
   "cell_type": "markdown",
   "metadata": {},
   "source": [
    "Tworzymy skrypt pythonowy:\n",
    "\n",
    "\n",
    "```python\n",
    "\n",
    "\"\"\"\n",
    "Created on Tue Nov  3 16:40:36 2015\n",
    "\n",
    "@author: potockan\n",
    "docstring dla calego modulu\n",
    "\n",
    "To jest moj nie-pierwszy modul / skrypt pythonowy\n",
    "W tym momencie tworze dla niego docstrigna.\n",
    "\"\"\"\n",
    "\n",
    "\n",
    "print(\"Laduje modul o nazwie: \" +__name__)\n",
    "\n",
    "zmienna = 1\n",
    "\n",
    "def funkcja(x):\n",
    "    '''\n",
    "    Podnosi do kwadratu dana liczbe\n",
    "    '''\n",
    "    return x**2\n",
    "\n",
    "```"
   ]
  },
  {
   "cell_type": "code",
   "execution_count": 2,
   "metadata": {
    "collapsed": false
   },
   "outputs": [
    {
     "name": "stdout",
     "output_type": "stream",
     "text": [
      "Laduje modul o nazwie: modul1\n"
     ]
    }
   ],
   "source": [
    "import modul1 # bez .py!\n",
    "# domyslnie jest juz dodane,\n",
    "# dla modulow skompilowanych rozszerzenie .dll lub .so\n",
    "# dynamicznie ladowana biblioteka\n",
    "\n",
    "# uruchamia wszystko to, co jest w module"
   ]
  },
  {
   "cell_type": "markdown",
   "metadata": {},
   "source": [
    "Moduł jest w tym samym katalogu co bieżący katalog Jupytera, patrz też `os.chdir()`.\n",
    "\n",
    "Zaladowanie modulu == uruchomienie wszystkich instrukcji w danym skrypcie. \n",
    "To się wszystko uruchamia w nowym workspace o nazwie takiej jak nazwa modułu."
   ]
  },
  {
   "cell_type": "code",
   "execution_count": 2,
   "metadata": {
    "collapsed": false
   },
   "outputs": [
    {
     "data": {
      "text/plain": [
       "9"
      ]
     },
     "execution_count": 2,
     "metadata": {},
     "output_type": "execute_result"
    }
   ],
   "source": [
    "modul1.funkcja(3)"
   ]
  },
  {
   "cell_type": "code",
   "execution_count": 3,
   "metadata": {
    "collapsed": false
   },
   "outputs": [
    {
     "data": {
      "text/plain": [
       "1"
      ]
     },
     "execution_count": 3,
     "metadata": {},
     "output_type": "execute_result"
    }
   ],
   "source": [
    "modul1.zmienna"
   ]
  },
  {
   "cell_type": "code",
   "execution_count": 4,
   "metadata": {
    "collapsed": false
   },
   "outputs": [
    {
     "data": {
      "text/plain": [
       "2"
      ]
     },
     "execution_count": 4,
     "metadata": {},
     "output_type": "execute_result"
    }
   ],
   "source": [
    "# ciekawostka\n",
    "modul1.zmienna += 1\n",
    "modul1.zmienna"
   ]
  },
  {
   "cell_type": "markdown",
   "metadata": {},
   "source": [
    "Zadanie: zmieniamy plik modul1 tak, że dodajemy\n",
    "w nim nową zmienną o nazwie `_zmienna2` o wartości 10."
   ]
  },
  {
   "cell_type": "code",
   "execution_count": 6,
   "metadata": {
    "collapsed": true
   },
   "outputs": [],
   "source": [
    "import modul1"
   ]
  },
  {
   "cell_type": "markdown",
   "metadata": {},
   "source": [
    "Nic się nie stało! trzeba zrobić pełny reload"
   ]
  },
  {
   "cell_type": "code",
   "execution_count": 10,
   "metadata": {
    "collapsed": false
   },
   "outputs": [
    {
     "name": "stdout",
     "output_type": "stream",
     "text": [
      "Laduje modul o nazwie: modul1\n"
     ]
    },
    {
     "data": {
      "text/plain": [
       "<module 'modul1' from '/home/samba/potockan/python/modul1.py'>"
      ]
     },
     "execution_count": 10,
     "metadata": {},
     "output_type": "execute_result"
    }
   ],
   "source": [
    "import importlib\n",
    "importlib.reload(modul1)"
   ]
  },
  {
   "cell_type": "code",
   "execution_count": 11,
   "metadata": {
    "collapsed": false
   },
   "outputs": [
    {
     "data": {
      "text/plain": [
       "10"
      ]
     },
     "execution_count": 11,
     "metadata": {},
     "output_type": "execute_result"
    }
   ],
   "source": [
    "modul1.__zmienna2__"
   ]
  },
  {
   "cell_type": "code",
   "execution_count": 12,
   "metadata": {
    "collapsed": true
   },
   "outputs": [],
   "source": [
    "?modul1"
   ]
  },
  {
   "cell_type": "code",
   "execution_count": 13,
   "metadata": {
    "collapsed": true
   },
   "outputs": [],
   "source": [
    "?modul1.funkcja"
   ]
  },
  {
   "cell_type": "markdown",
   "metadata": {},
   "source": [
    "## Tworzymy pakiet\n",
    "... czyli zbiór modułów\n",
    "\n",
    "1. w kat. bieżącym tworzymy nowy katalog np. o nazwie `pakiet1`, np. `mkdir`\n",
    "\n",
    "2. W tym katalogu umieszczamy kilka skryptów, np.\n",
    "    * `pakiet1/modul1.py` np. funkcja `kwadrat`\n",
    "    * `pakiet1/modul2.py` np. funkcja `szescian`\n",
    "3. dodtakowpo w tym katalogu umieszczamy pusty plik tekstowy `pakiet1/__init__.py`\n",
    "- każdy pakiet pythona musi mieć taki skrypt, żeby był uznany przez pythona za pakiet"
   ]
  },
  {
   "cell_type": "code",
   "execution_count": 14,
   "metadata": {
    "collapsed": true
   },
   "outputs": [],
   "source": [
    "import pakiet1"
   ]
  },
  {
   "cell_type": "code",
   "execution_count": 15,
   "metadata": {
    "collapsed": false
   },
   "outputs": [
    {
     "ename": "AttributeError",
     "evalue": "'module' object has no attribute 'modul1'",
     "output_type": "error",
     "traceback": [
      "\u001b[1;31m---------------------------------------------------------------------------\u001b[0m",
      "\u001b[1;31mAttributeError\u001b[0m                            Traceback (most recent call last)",
      "\u001b[1;32m<ipython-input-15-f6eafe4f2147>\u001b[0m in \u001b[0;36m<module>\u001b[1;34m()\u001b[0m\n\u001b[1;32m----> 1\u001b[1;33m \u001b[0mpakiet1\u001b[0m\u001b[1;33m.\u001b[0m\u001b[0mmodul1\u001b[0m\u001b[1;33m.\u001b[0m\u001b[0mkwadrat\u001b[0m\u001b[1;33m(\u001b[0m\u001b[1;36m3\u001b[0m\u001b[1;33m)\u001b[0m\u001b[1;33m\u001b[0m\u001b[0m\n\u001b[0m",
      "\u001b[1;31mAttributeError\u001b[0m: 'module' object has no attribute 'modul1'"
     ]
    }
   ],
   "source": [
    "pakiet1.modul1.kwadrat(3)"
   ]
  },
  {
   "cell_type": "markdown",
   "metadata": {},
   "source": [
    "To jeszcze nie wystarcza..., por. np. `matplotlib`"
   ]
  },
  {
   "cell_type": "code",
   "execution_count": 16,
   "metadata": {
    "collapsed": false
   },
   "outputs": [
    {
     "name": "stdout",
     "output_type": "stream",
     "text": [
      "Laduje modul o nazwie: pakiet1.modul1\n"
     ]
    },
    {
     "data": {
      "text/plain": [
       "9"
      ]
     },
     "execution_count": 16,
     "metadata": {},
     "output_type": "execute_result"
    }
   ],
   "source": [
    "import pakiet1.modul1\n",
    "pakiet1.modul1.kwadrat(3)"
   ]
  },
  {
   "cell_type": "code",
   "execution_count": 17,
   "metadata": {
    "collapsed": false
   },
   "outputs": [
    {
     "name": "stdout",
     "output_type": "stream",
     "text": [
      "Laduje modul o nazwie: pakiet1.modul2\n"
     ]
    },
    {
     "data": {
      "text/plain": [
       "27"
      ]
     },
     "execution_count": 17,
     "metadata": {},
     "output_type": "execute_result"
    }
   ],
   "source": [
    "import pakiet1.modul2\n",
    "pakiet1.modul2.szescian(3)"
   ]
  },
  {
   "cell_type": "markdown",
   "metadata": {},
   "source": [
    "Tak naprawdę `import pakiet1` nie było potrzebne. Można było tak:"
   ]
  },
  {
   "cell_type": "code",
   "execution_count": 18,
   "metadata": {
    "collapsed": true
   },
   "outputs": [],
   "source": [
    "from pakiet1 import *"
   ]
  },
  {
   "cell_type": "code",
   "execution_count": 19,
   "metadata": {
    "collapsed": false
   },
   "outputs": [
    {
     "data": {
      "text/plain": [
       "9"
      ]
     },
     "execution_count": 19,
     "metadata": {},
     "output_type": "execute_result"
    }
   ],
   "source": [
    "modul1.kwadrat(3)"
   ]
  },
  {
   "cell_type": "markdown",
   "metadata": {},
   "source": [
    "Zauważmy jednak, że np. w numpy część modułów jest dostępna automatycznie"
   ]
  },
  {
   "cell_type": "code",
   "execution_count": 20,
   "metadata": {
    "collapsed": true
   },
   "outputs": [],
   "source": [
    "import numpy"
   ]
  },
  {
   "cell_type": "code",
   "execution_count": 21,
   "metadata": {
    "collapsed": false
   },
   "outputs": [
    {
     "data": {
      "text/plain": [
       "array([ 0.07855065, -0.14911416,  0.63089132, -1.19895833,  0.20628367,\n",
       "       -0.42384117, -0.05147079, -0.68099448, -1.99715693,  0.38234044])"
      ]
     },
     "execution_count": 21,
     "metadata": {},
     "output_type": "execute_result"
    }
   ],
   "source": [
    "numpy.random.randn(10)"
   ]
  },
  {
   "cell_type": "markdown",
   "metadata": {},
   "source": [
    "Żeby zrobić to samo, musimy zmodyfikować `__init__.py`"
   ]
  },
  {
   "cell_type": "markdown",
   "metadata": {},
   "source": [
    "Zadanie: w pliku `__init__.py` dodajmy polecenie `print(\"Laduje pakiet!\")` i przeladuj pakiet w Jupyterze"
   ]
  },
  {
   "cell_type": "code",
   "execution_count": 27,
   "metadata": {
    "collapsed": true
   },
   "outputs": [
    {
     "name": "stdout",
     "output_type": "stream",
     "text": [
      "Laduje pakiet!\n"
     ]
    },
    {
     "ename": "ImportError",
     "evalue": "No module named 'modul2'",
     "output_type": "error",
     "traceback": [
      "\u001b[1;31m---------------------------------------------------------------------------\u001b[0m",
      "\u001b[1;31mImportError\u001b[0m                               Traceback (most recent call last)",
      "\u001b[1;32m<ipython-input-27-f4bbe3bf15e9>\u001b[0m in \u001b[0;36m<module>\u001b[1;34m()\u001b[0m\n\u001b[0;32m      1\u001b[0m \u001b[1;32mimport\u001b[0m \u001b[0mimportlib\u001b[0m\u001b[1;33m\u001b[0m\u001b[0m\n\u001b[1;32m----> 2\u001b[1;33m \u001b[0mimportlib\u001b[0m\u001b[1;33m.\u001b[0m\u001b[0mreload\u001b[0m\u001b[1;33m(\u001b[0m\u001b[0mpakiet1\u001b[0m\u001b[1;33m)\u001b[0m\u001b[1;33m\u001b[0m\u001b[0m\n\u001b[0m",
      "\u001b[1;32m/opt/anaconda/lib/python3.4/importlib/__init__.py\u001b[0m in \u001b[0;36mreload\u001b[1;34m(module)\u001b[0m\n\u001b[0;32m    147\u001b[0m         \u001b[0mspec\u001b[0m \u001b[1;33m=\u001b[0m \u001b[0mmodule\u001b[0m\u001b[1;33m.\u001b[0m\u001b[0m__spec__\u001b[0m \u001b[1;33m=\u001b[0m \u001b[0m_bootstrap\u001b[0m\u001b[1;33m.\u001b[0m\u001b[0m_find_spec\u001b[0m\u001b[1;33m(\u001b[0m\u001b[0mname\u001b[0m\u001b[1;33m,\u001b[0m \u001b[0mpkgpath\u001b[0m\u001b[1;33m,\u001b[0m \u001b[0mtarget\u001b[0m\u001b[1;33m)\u001b[0m\u001b[1;33m\u001b[0m\u001b[0m\n\u001b[0;32m    148\u001b[0m         \u001b[0mmethods\u001b[0m \u001b[1;33m=\u001b[0m \u001b[0m_bootstrap\u001b[0m\u001b[1;33m.\u001b[0m\u001b[0m_SpecMethods\u001b[0m\u001b[1;33m(\u001b[0m\u001b[0mspec\u001b[0m\u001b[1;33m)\u001b[0m\u001b[1;33m\u001b[0m\u001b[0m\n\u001b[1;32m--> 149\u001b[1;33m         \u001b[0mmethods\u001b[0m\u001b[1;33m.\u001b[0m\u001b[0mexec\u001b[0m\u001b[1;33m(\u001b[0m\u001b[0mmodule\u001b[0m\u001b[1;33m)\u001b[0m\u001b[1;33m\u001b[0m\u001b[0m\n\u001b[0m\u001b[0;32m    150\u001b[0m         \u001b[1;31m# The module may have replaced itself in sys.modules!\u001b[0m\u001b[1;33m\u001b[0m\u001b[1;33m\u001b[0m\u001b[0m\n\u001b[0;32m    151\u001b[0m         \u001b[1;32mreturn\u001b[0m \u001b[0msys\u001b[0m\u001b[1;33m.\u001b[0m\u001b[0mmodules\u001b[0m\u001b[1;33m[\u001b[0m\u001b[0mname\u001b[0m\u001b[1;33m]\u001b[0m\u001b[1;33m\u001b[0m\u001b[0m\n",
      "\u001b[1;32m/opt/anaconda/lib/python3.4/importlib/_bootstrap.py\u001b[0m in \u001b[0;36mexec\u001b[1;34m(self, module)\u001b[0m\n",
      "\u001b[1;32m/opt/anaconda/lib/python3.4/importlib/_bootstrap.py\u001b[0m in \u001b[0;36m_exec\u001b[1;34m(self, module)\u001b[0m\n",
      "\u001b[1;32m/opt/anaconda/lib/python3.4/importlib/_bootstrap.py\u001b[0m in \u001b[0;36mexec_module\u001b[1;34m(self, module)\u001b[0m\n",
      "\u001b[1;32m/opt/anaconda/lib/python3.4/importlib/_bootstrap.py\u001b[0m in \u001b[0;36m_call_with_frames_removed\u001b[1;34m(f, *args, **kwds)\u001b[0m\n",
      "\u001b[1;32m/home/samba/potockan/python/pakiet1/__init__.py\u001b[0m in \u001b[0;36m<module>\u001b[1;34m()\u001b[0m\n\u001b[0;32m      1\u001b[0m \u001b[0mprint\u001b[0m\u001b[1;33m(\u001b[0m\u001b[1;34m\"Laduje pakiet!\"\u001b[0m\u001b[1;33m)\u001b[0m\u001b[1;33m\u001b[0m\u001b[0m\n\u001b[1;32m----> 2\u001b[1;33m \u001b[1;32mimport\u001b[0m \u001b[0mmodul1\u001b[0m\u001b[1;33m,\u001b[0m \u001b[0mmodul2\u001b[0m\u001b[1;33m\u001b[0m\u001b[0m\n\u001b[0m",
      "\u001b[1;31mImportError\u001b[0m: No module named 'modul2'"
     ]
    }
   ],
   "source": [
    "import importlib\n",
    "importlib.reload(pakiet1)"
   ]
  },
  {
   "cell_type": "markdown",
   "metadata": {},
   "source": [
    "Z tego wynika, że `__init__.py` jest ładowany automatycznie\n",
    "przy imporcie pakietu. Możemy to wykorzystać i nakazać pythonowi\n",
    "automatyczne ładowanie naszych dwóch modułów.\n",
    "\n",
    "Napiszmy `__init__.py` od nowa:\n",
    "\n",
    "```python\n",
    "from . import modul1, modul2\n",
    "# nazwy względem katalogu\n",
    "```\n",
    "\n",
    "Teraz trzeba niestety zrestartować kernel."
   ]
  },
  {
   "cell_type": "code",
   "execution_count": 1,
   "metadata": {
    "collapsed": false
   },
   "outputs": [
    {
     "name": "stdout",
     "output_type": "stream",
     "text": [
      "Laduje pakiet!\n",
      "Laduje modul o nazwie: pakiet1.modul1\n",
      "Laduje modul o nazwie: pakiet1.modul2\n"
     ]
    }
   ],
   "source": [
    "import pakiet1"
   ]
  },
  {
   "cell_type": "code",
   "execution_count": 2,
   "metadata": {
    "collapsed": false
   },
   "outputs": [
    {
     "data": {
      "text/plain": [
       "9"
      ]
     },
     "execution_count": 2,
     "metadata": {},
     "output_type": "execute_result"
    }
   ],
   "source": [
    "pakiet1.modul1.kwadrat(3)"
   ]
  },
  {
   "cell_type": "markdown",
   "metadata": {},
   "source": [
    "Można iść krok dalej i udosępnić zawartość\n",
    "wszystkich modułów jako `pakiet.cos` zamiast `pakiet.modul.cos`.\n",
    "Np. `numpy.ndarray` jest tak dostępny.\n",
    "\n",
    "Napiszmy `__init__.py` od nowa:\n",
    "\n",
    "```python\n",
    "from .modul1 import *\n",
    "from .modul2 import *\n",
    "del modul1 # zeby juz nie smiecic\n",
    "del modul2\n",
    "```\n",
    "\n",
    "Oczywiście uwaga na f-cje o tych samych nazwach w różnych modułach - bez `del` \n",
    "bysmy mieli podwójny dostęp też przez `pakiet1.modul1.kwadrat`\n",
    "\n",
    "Teraz trzeba niestety zrestartować kernel."
   ]
  },
  {
   "cell_type": "code",
   "execution_count": 1,
   "metadata": {
    "collapsed": false
   },
   "outputs": [
    {
     "name": "stdout",
     "output_type": "stream",
     "text": [
      "Laduje pakiet!\n",
      "Laduje modul o nazwie: pakiet1.modul1\n",
      "Laduje modul o nazwie: pakiet1.modul2\n"
     ]
    },
    {
     "data": {
      "text/plain": [
       "9"
      ]
     },
     "execution_count": 1,
     "metadata": {},
     "output_type": "execute_result"
    }
   ],
   "source": [
    "import pakiet1\n",
    "pakiet1.kwadrat(3)"
   ]
  },
  {
   "cell_type": "code",
   "execution_count": null,
   "metadata": {
    "collapsed": true
   },
   "outputs": [],
   "source": []
  }
 ],
 "metadata": {
  "kernelspec": {
   "display_name": "Python 3",
   "language": "python",
   "name": "python3"
  },
  "language_info": {
   "codemirror_mode": {
    "name": "ipython",
    "version": 3
   },
   "file_extension": ".py",
   "mimetype": "text/x-python",
   "name": "python",
   "nbconvert_exporter": "python",
   "pygments_lexer": "ipython3",
   "version": "3.4.3"
  }
 },
 "nbformat": 4,
 "nbformat_minor": 0
}
