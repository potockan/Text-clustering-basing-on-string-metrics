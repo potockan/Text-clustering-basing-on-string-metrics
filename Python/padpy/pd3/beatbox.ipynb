{
 "cells": [
  {
   "cell_type": "code",
   "execution_count": 90,
   "metadata": {
    "collapsed": false
   },
   "outputs": [
    {
     "data": {
      "text/plain": [
       "'/home/npotocka/mgr/Text-clustering-basing-on-string-metrics/Python/padpy/pd3'"
      ]
     },
     "execution_count": 90,
     "metadata": {},
     "output_type": "execute_result"
    }
   ],
   "source": [
    "import scipy.io.wavfile\n",
    "import os\n",
    "import numpy as np\n",
    "os.getcwd()"
   ]
  },
  {
   "cell_type": "code",
   "execution_count": 13,
   "metadata": {
    "collapsed": false
   },
   "outputs": [
    {
     "name": "stderr",
     "output_type": "stream",
     "text": [
      "/home/natalia/anaconda3/lib/python3.4/site-packages/scipy/io/wavfile.py:172: WavFileWarning: Chunk (non-data) not understood, skipping it.\n",
      "  WavFileWarning)\n"
     ]
    },
    {
     "data": {
      "text/plain": [
       "[\"Playing WAVE '../test8.wav' : Signed 16 bit Little Endian, Rate 44100 Hz, Mono\"]"
      ]
     },
     "execution_count": 13,
     "metadata": {},
     "output_type": "execute_result"
    }
   ],
   "source": [
    "\n",
    "\n",
    "fs1, y1 = scipy.io.wavfile.read(\"../Snare-Drum-2.wav\")\n",
    "fs2, y2 = scipy.io.wavfile.read(\"../Side-Stick-4.wav\")\n",
    "fs3, y3 = scipy.io.wavfile.read(\"../Deep-Kick.wav\")\n",
    "fs = fs1\n",
    "y1 = np.tile(y1[:len(y1/2)], 2)\n",
    "y2 = np.tile(y2[:len(y2/2)], 2)\n",
    "y3 = np.tile(y3[:len(y3/2)], 2)\n",
    "y = np.r_[y1, y2]\n",
    "#y = np.repeat(y, 4, axis = 0)\n",
    "y = np.tile(y, [4,4])\n",
    "y = np.mean(y, axis=1)\n",
    "y /= 32767\n",
    "\n",
    "\n",
    "scipy.io.wavfile.write(\"../test8.wav\", \n",
    "                       fs, \n",
    "                       np.int16(y/max(np.abs(y))*32767))\n",
    "!!aplay ../test8.wav"
   ]
  },
  {
   "cell_type": "code",
   "execution_count": 91,
   "metadata": {
    "collapsed": false
   },
   "outputs": [
    {
     "data": {
      "text/plain": [
       "'01\\n01\\n02\\n01\\n01\\n02\\n'"
      ]
     },
     "execution_count": 91,
     "metadata": {},
     "output_type": "execute_result"
    }
   ],
   "source": [
    "with open('utwor1/song.txt', 'r') as f:\n",
    "    song = f.read()\n",
    "song"
   ]
  },
  {
   "cell_type": "code",
   "execution_count": 92,
   "metadata": {
    "collapsed": false
   },
   "outputs": [
    {
     "name": "stdout",
     "output_type": "stream",
     "text": [
      "['01 02 03 04', '-- -- 03 --', '-- 02 03 --', '01 02 03 04', '-- -- 03 --', '-- 02 03 --', '01 02 03 04', '-- -- 03 --', '-- 02 03 --', '01 02 03 04', '-- -- 03 --', '-- 02 03 --', '01 02 03 04', '-- -- 03 --', '-- 02 03 --', '01 02 03 04', '-- -- 03 --', '-- 02 03 --', '01 -- 03 04', '01 -- 03 --', '-- 02 03 --', '01 02 03 04', '01 -- 03 04', '01 -- 03 --', '-- -- 03 --', '-- 02 03 --', '01 02 03 04', '01 -- 03 04', '01 -- 03 --', '-- 02 03 --', '01 02 03 04', '-- -- 03 --', '-- 02 03 --', '01 02 03 04', '-- -- 03 --', '-- 02 03 --', '01 02 03 04', '-- -- 03 --', '-- 02 03 --', '01 02 03 04', '-- -- 03 --', '-- 02 03 --', '01 02 03 04', '-- -- 03 --', '-- 02 03 --', '01 02 03 04', '-- -- 03 --', '-- 02 03 --', '01 -- 03 04', '01 -- 03 --', '-- 02 03 --', '01 02 03 04', '01 -- 03 04', '01 -- 03 --', '-- -- 03 --', '-- 02 03 --', '01 02 03 04', '01 -- 03 04', '01 -- 03 --', '-- 02 03 --']\n"
     ]
    }
   ],
   "source": [
    "tracks = []\n",
    "for i in song.splitlines():\n",
    "    with open('utwor1/track' + i +'.txt', 'r') as f:\n",
    "           tracks += (f.read().splitlines())\n",
    "            \n",
    "print(tracks)"
   ]
  },
  {
   "cell_type": "code",
   "execution_count": 93,
   "metadata": {
    "collapsed": false
   },
   "outputs": [
    {
     "name": "stdout",
     "output_type": "stream",
     "text": [
      "['04', '03', '01', '02']\n"
     ]
    }
   ],
   "source": [
    "sample = []\n",
    "for i in set(tracks):\n",
    "    sample += i.split()\n",
    "sample = [i for i in list(set(sample)) if i != '--']\n",
    "print(sample)"
   ]
  },
  {
   "cell_type": "code",
   "execution_count": 94,
   "metadata": {
    "collapsed": false
   },
   "outputs": [
    {
     "name": "stdout",
     "output_type": "stream",
     "text": [
      "(15313, 2)\n",
      "(13038, 2)\n",
      "(25448, 2)\n",
      "(115535, 2)\n"
     ]
    },
    {
     "name": "stderr",
     "output_type": "stream",
     "text": [
      "/home/npotocka/anaconda3/lib/python3.4/site-packages/scipy/io/wavfile.py:172: WavFileWarning: Chunk (non-data) not understood, skipping it.\n",
      "  WavFileWarning)\n"
     ]
    }
   ],
   "source": [
    "fs = []\n",
    "y = []\n",
    "for i, s in enumerate(sample):\n",
    "    fs1, y1 = scipy.io.wavfile.read('./utwor1/sample' + s + '.wav')\n",
    "    fs.append(fs1)\n",
    "    y.append(y1)\n",
    "    \n",
    "for x in y:\n",
    "    print(x.shape) #### TO DO HERE\n",
    "    \n",
    "s = min([x.shape[0] for x in y])\n",
    "y = [x[:s] for x in y]\n",
    "y2 = np.zeros(1)\n",
    "for x in y:\n",
    "    y2 = np.r_[y2 + np.tile(x, 2)]"
   ]
  },
  {
   "cell_type": "code",
   "execution_count": 95,
   "metadata": {
    "collapsed": false
   },
   "outputs": [
    {
     "name": "stdout",
     "output_type": "stream",
     "text": [
      "[[ -103.   -44.  -103.   -44.]\n",
      " [  -97.  -235.   -97.  -235.]\n",
      " [  994.   493.   994.   493.]\n",
      " ..., \n",
      " [ -748. -2151.  -748. -2151.]\n",
      " [ -767. -1982.  -767. -1982.]\n",
      " [ -678. -1707.  -678. -1707.]]\n",
      "float64\n",
      "<class 'numpy.ndarray'>\n",
      "[-0.00224311 -0.00506607  0.02269051 ..., -0.04423658 -0.04194769\n",
      " -0.03639332]\n",
      "[ -48 -110  494 ..., -963 -913 -792]\n",
      "(13038,)\n"
     ]
    },
    {
     "data": {
      "text/plain": [
       "[\"Playing WAVE 'pd_proba1.wav' : Signed 16 bit Little Endian, Rate 44100 Hz, Mono\"]"
      ]
     },
     "execution_count": 95,
     "metadata": {},
     "output_type": "execute_result"
    }
   ],
   "source": [
    "# y2 = np.r_[np.tile(y[0][:s], 2) +\n",
    "#            np.tile(y[1][:s], 2) + \n",
    "#            np.tile(y[2][:s], 2) + \n",
    "#            np.tile(y[3][:s], 2)]#np.tile(y1[:len(y1/2)], 2)\n",
    "print(y2)\n",
    "y2 = np.mean(y2, axis=1)\n",
    "y2 /= 32767\n",
    "print(y2.dtype)\n",
    "print(type(np.int16(y2/max(np.abs(y2))*32767)))\n",
    "print(y2)\n",
    "print(np.int16(y2/max(np.abs(y2))*32767))\n",
    "print(y2.shape)\n",
    "#?scipy.io.wavfile.write\n",
    "\n",
    "scipy.io.wavfile.write(\"pd_proba1.wav\", \n",
    "                       fs[0], \n",
    "                       np.int16(y2/max(np.abs(y2))*32767))\n",
    "!!aplay pd_proba1.wav"
   ]
  },
  {
   "cell_type": "code",
   "execution_count": 16,
   "metadata": {
    "collapsed": false
   },
   "outputs": [
    {
     "name": "stdout",
     "output_type": "stream",
     "text": [
      "[[ -2  -2]\n",
      " [ -2   0]\n",
      " [ -4  -2]\n",
      " ..., \n",
      " [-16 -25]\n",
      " [  0  -4]\n",
      " [  9   2]]\n"
     ]
    },
    {
     "name": "stderr",
     "output_type": "stream",
     "text": [
      "/home/npotocka/anaconda3/lib/python3.4/site-packages/scipy/io/wavfile.py:172: WavFileWarning: Chunk (non-data) not understood, skipping it.\n",
      "  WavFileWarning)\n"
     ]
    }
   ],
   "source": [
    "### SMIECI PONIZEJ\n",
    "\n",
    "\n",
    "fs1, y1 = scipy.io.wavfile.read(\"../Snare-Drum-2.wav\")\n",
    "fs2, y2 = scipy.io.wavfile.read(\"../Side-Stick-4.wav\")\n",
    "fs3, y3 = scipy.io.wavfile.read(\"../Deep-Kick.wav\")\n",
    "print(y2)"
   ]
  },
  {
   "cell_type": "code",
   "execution_count": 39,
   "metadata": {
    "collapsed": false
   },
   "outputs": [
    {
     "ename": "TypeError",
     "evalue": "unsupported operand type(s) for *: 'float' and '_io.TextIOWrapper'",
     "output_type": "error",
     "traceback": [
      "\u001b[1;31m---------------------------------------------------------------------------\u001b[0m",
      "\u001b[1;31mTypeError\u001b[0m                                 Traceback (most recent call last)",
      "\u001b[1;32m<ipython-input-39-5481c7c59c53>\u001b[0m in \u001b[0;36m<module>\u001b[1;34m()\u001b[0m\n\u001b[0;32m      1\u001b[0m y = np.r_[np.sin(2*np.pi*f*t) +\n\u001b[1;32m----> 2\u001b[1;33m           \u001b[0mnp\u001b[0m\u001b[1;33m.\u001b[0m\u001b[0msin\u001b[0m\u001b[1;33m(\u001b[0m\u001b[1;36m2\u001b[0m\u001b[1;33m*\u001b[0m\u001b[0mnp\u001b[0m\u001b[1;33m.\u001b[0m\u001b[0mpi\u001b[0m\u001b[1;33m*\u001b[0m\u001b[0mf\u001b[0m\u001b[1;33m*\u001b[0m\u001b[1;33m(\u001b[0m\u001b[0mconst\u001b[0m\u001b[1;33m**\u001b[0m\u001b[1;36m3\u001b[0m\u001b[1;33m)\u001b[0m\u001b[1;33m*\u001b[0m\u001b[0mt\u001b[0m\u001b[1;33m)\u001b[0m \u001b[1;33m+\u001b[0m\u001b[1;33m\u001b[0m\u001b[0m\n\u001b[0m\u001b[0;32m      3\u001b[0m           np.sin(2*np.pi*f*(const**7)*t) ]\n\u001b[0;32m      4\u001b[0m \u001b[1;33m\u001b[0m\u001b[0m\n\u001b[0;32m      5\u001b[0m scipy.io.wavfile.write(\"test4.wav\", \n",
      "\u001b[1;31mTypeError\u001b[0m: unsupported operand type(s) for *: 'float' and '_io.TextIOWrapper'"
     ]
    }
   ],
   "source": [
    "f = \n",
    "\n",
    "y = np.r_[np.sin(2*np.pi*f*t) +\n",
    "          np.sin(2*np.pi*f*(const**3)*t) +\n",
    "          np.sin(2*np.pi*f*(const**7)*t) ]\n",
    "\n",
    "scipy.io.wavfile.write(\"test4.wav\", \n",
    "                       fs, \n",
    "                       np.int16(y/max(np.abs(y))*32767))\n",
    "!!aplay /home/samba/potockan/python/test4.wav"
   ]
  },
  {
   "cell_type": "code",
   "execution_count": 49,
   "metadata": {
    "collapsed": false
   },
   "outputs": [
    {
     "data": {
      "text/plain": [
       "['--', '--', '03', '--']"
      ]
     },
     "execution_count": 49,
     "metadata": {},
     "output_type": "execute_result"
    }
   ],
   "source": [
    "tracks[1].split(' ')"
   ]
  },
  {
   "cell_type": "code",
   "execution_count": 61,
   "metadata": {
    "collapsed": false
   },
   "outputs": [
    {
     "data": {
      "text/plain": [
       "<enumerate at 0x7f1ab21e27e0>"
      ]
     },
     "execution_count": 61,
     "metadata": {},
     "output_type": "execute_result"
    }
   ],
   "source": []
  },
  {
   "cell_type": "code",
   "execution_count": 71,
   "metadata": {
    "collapsed": false
   },
   "outputs": [
    {
     "name": "stdout",
     "output_type": "stream",
     "text": [
      "[[ 30  38  30  38]\n",
      " [-37 -44 -37 -44]\n",
      " [ 46  54  46  54]\n",
      " ..., \n",
      " [-16 -25 -16 -25]\n",
      " [  0  -4   0  -4]\n",
      " [  9   2   9   2]]\n",
      "[ 34.  -40.5  50.  ..., -20.5  -2.    5.5]\n",
      "(113404,)\n"
     ]
    },
    {
     "name": "stderr",
     "output_type": "stream",
     "text": [
      "/home/npotocka/anaconda3/lib/python3.4/site-packages/scipy/io/wavfile.py:172: WavFileWarning: Chunk (non-data) not understood, skipping it.\n",
      "  WavFileWarning)\n"
     ]
    },
    {
     "data": {
      "text/plain": [
       "[\"Playing WAVE 'test8.wav' : Signed 16 bit Little Endian, Rate 44100 Hz, Mono\"]"
      ]
     },
     "execution_count": 71,
     "metadata": {},
     "output_type": "execute_result"
    }
   ],
   "source": [
    "fs1, y1 = scipy.io.wavfile.read(\"../Snare-Drum-2.wav\")\n",
    "fs2, y2 = scipy.io.wavfile.read(\"../Side-Stick-4.wav\")\n",
    "fs3, y3 = scipy.io.wavfile.read(\"../Deep-Kick.wav\")\n",
    "fs = fs1\n",
    "y1 = np.tile(y1[:len(y1/2)], 2)\n",
    "y2 = np.tile(y2[:len(y2/2)], 2)\n",
    "y3 = np.tile(y3[:len(y3/2)], 2)\n",
    "y = np.r_[y1, y2]\n",
    "print(y)\n",
    "#y = np.repeat(y, 4, axis = 0)\n",
    "y = np.tile(y, [4,4])\n",
    "y = np.mean(y, axis=1)\n",
    "print(y)\n",
    "y /= 32767\n",
    "print(y.shape)\n",
    "\n",
    "scipy.io.wavfile.write(\"test8.wav\", \n",
    "                       fs, \n",
    "                       np.int16(y/max(np.abs(y))*32767))\n",
    "!!aplay test8.wav"
   ]
  },
  {
   "cell_type": "code",
   "execution_count": null,
   "metadata": {
    "collapsed": true
   },
   "outputs": [],
   "source": []
  }
 ],
 "metadata": {
  "kernelspec": {
   "display_name": "Python 3",
   "language": "python",
   "name": "python3"
  },
  "language_info": {
   "codemirror_mode": {
    "name": "ipython",
    "version": 3
   },
   "file_extension": ".py",
   "mimetype": "text/x-python",
   "name": "python",
   "nbconvert_exporter": "python",
   "pygments_lexer": "ipython3",
   "version": "3.4.3"
  }
 },
 "nbformat": 4,
 "nbformat_minor": 0
}
