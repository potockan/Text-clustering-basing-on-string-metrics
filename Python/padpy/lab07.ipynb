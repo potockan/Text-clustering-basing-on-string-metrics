{
 "cells": [
  {
   "cell_type": "markdown",
   "metadata": {},
   "source": [
    "# Programowanie obiektowe\n",
    "\n",
    "paradygmat programowania\n",
    "\n",
    "definiujemy klasy (nowe typy danych), skladajace sie z:\n",
    "* metod\n",
    "* atrybutow (pol, wlasnosci)\n",
    "\n",
    "klasy moga po sobie dziedziczyc (mozna tworzyc podklasy danej klasy)\n",
    "\n",
    "obiekt == reprezentant klasy (reksio jest Psem\n",
    "element reksio nalezy do zbioru Pies\n",
    "reksio jest obiektem klasy Pies)\n",
    "\n",
    "\n"
   ]
  },
  {
   "cell_type": "code",
   "execution_count": 1,
   "metadata": {
    "collapsed": true
   },
   "outputs": [],
   "source": [
    "#pusta klasa - na poczatek\n",
    "class Zwierze:\n",
    "    \"\"\"\n",
    "    To jest docstring dla calej klasy\n",
    "    \"\"\"\n",
    "    pass"
   ]
  },
  {
   "cell_type": "code",
   "execution_count": 2,
   "metadata": {
    "collapsed": true
   },
   "outputs": [],
   "source": [
    "# tworzymy obiekt klasy Zwierze\n",
    "reksio = Zwierze()"
   ]
  },
  {
   "cell_type": "code",
   "execution_count": 3,
   "metadata": {
    "collapsed": false
   },
   "outputs": [
    {
     "data": {
      "text/plain": [
       "__main__.Zwierze"
      ]
     },
     "execution_count": 3,
     "metadata": {},
     "output_type": "execute_result"
    }
   ],
   "source": [
    "type(reksio)"
   ]
  },
  {
   "cell_type": "code",
   "execution_count": 4,
   "metadata": {
    "collapsed": false
   },
   "outputs": [
    {
     "data": {
      "text/plain": [
       "['__class__',\n",
       " '__delattr__',\n",
       " '__dict__',\n",
       " '__dir__',\n",
       " '__doc__',\n",
       " '__eq__',\n",
       " '__format__',\n",
       " '__ge__',\n",
       " '__getattribute__',\n",
       " '__gt__',\n",
       " '__hash__',\n",
       " '__init__',\n",
       " '__le__',\n",
       " '__lt__',\n",
       " '__module__',\n",
       " '__ne__',\n",
       " '__new__',\n",
       " '__reduce__',\n",
       " '__reduce_ex__',\n",
       " '__repr__',\n",
       " '__setattr__',\n",
       " '__sizeof__',\n",
       " '__str__',\n",
       " '__subclasshook__',\n",
       " '__weakref__']"
      ]
     },
     "execution_count": 4,
     "metadata": {},
     "output_type": "execute_result"
    }
   ],
   "source": [
    "dir(reksio) # jakies pola i metody ma (object)"
   ]
  },
  {
   "cell_type": "code",
   "execution_count": 5,
   "metadata": {
    "collapsed": true
   },
   "outputs": [],
   "source": [
    "# dodajemy metode\n",
    "class Zwierze:\n",
    "    def daj_glos(self):\n",
    "        # self - zwyczajona nazwa argumenty w metodzie\n",
    "        print(\"taki uogolniony grwuwufrrriiii\")"
   ]
  },
  {
   "cell_type": "code",
   "execution_count": 6,
   "metadata": {
    "collapsed": false
   },
   "outputs": [
    {
     "name": "stdout",
     "output_type": "stream",
     "text": [
      "taki uogolniony grwuwufrrriiii\n"
     ]
    }
   ],
   "source": [
    "burek = Zwierze()\n",
    "burek.daj_glos()"
   ]
  },
  {
   "cell_type": "code",
   "execution_count": 7,
   "metadata": {
    "collapsed": false
   },
   "outputs": [
    {
     "name": "stdout",
     "output_type": "stream",
     "text": [
      "taki uogolniony grwuwufrrriiii\n"
     ]
    }
   ],
   "source": [
    "Zwierze.daj_glos(burek) # to samo co burek.daj_glos()"
   ]
  },
  {
   "cell_type": "code",
   "execution_count": 8,
   "metadata": {
    "collapsed": false
   },
   "outputs": [
    {
     "data": {
      "text/plain": [
       "['daj_glos',\n",
       " '__setattr__',\n",
       " '__dir__',\n",
       " '__sizeof__',\n",
       " '__subclasshook__',\n",
       " '__weakref__',\n",
       " '__module__',\n",
       " '__class__',\n",
       " '__new__',\n",
       " '__dict__',\n",
       " '__le__',\n",
       " '__ne__',\n",
       " '__hash__',\n",
       " '__delattr__',\n",
       " '__eq__',\n",
       " '__lt__',\n",
       " '__reduce__',\n",
       " '__ge__',\n",
       " '__init__',\n",
       " '__format__',\n",
       " '__gt__',\n",
       " '__repr__',\n",
       " '__doc__',\n",
       " '__getattribute__',\n",
       " '__str__',\n",
       " '__reduce_ex__']"
      ]
     },
     "execution_count": 8,
     "metadata": {},
     "output_type": "execute_result"
    }
   ],
   "source": [
    "# dodajemburek.__dir__()"
   ]
  },
  {
   "cell_type": "code",
   "execution_count": 30,
   "metadata": {
    "collapsed": true
   },
   "outputs": [],
   "source": [
    "# dodajemy konstruktor\n",
    "# dodajemy pole imie\n",
    "# oraz jeszcze jedna metoda zwiazana z imieniem\n",
    "\n",
    "# dodajemy metode\n",
    "class Zwierze:\n",
    "    def __init__(self, imie_zwierzaka):\n",
    "        self.imie = imie_zwierzaka\n",
    "        \n",
    "    def podaj_imie(self): #zwraca imie zwierzaka\n",
    "        return self.imie\n",
    "    \n",
    "    def daj_glos(self):\n",
    "        # self - zwyczajona nazwa argumenty w metodzie\n",
    "        print(\"taki uogolniony glos zwierzaka o imieniu \" + self.imie)"
   ]
  },
  {
   "cell_type": "code",
   "execution_count": 31,
   "metadata": {
    "collapsed": false
   },
   "outputs": [
    {
     "data": {
      "text/plain": [
       "{'imie': 'Burek'}"
      ]
     },
     "execution_count": 31,
     "metadata": {},
     "output_type": "execute_result"
    }
   ],
   "source": [
    "burek = Zwierze(\"Burek\") # tak bedziemy przekazywali imie do zwierzaka\n",
    "reksio = Zwierze(\"Reksio\")\n",
    "burek.podaj_imie()\n",
    "burek.__dict__ # to sa wszystkie jego pola"
   ]
  },
  {
   "cell_type": "code",
   "execution_count": 32,
   "metadata": {
    "collapsed": false
   },
   "outputs": [
    {
     "data": {
      "text/plain": [
       "{'imie': 'Reksio'}"
      ]
     },
     "execution_count": 32,
     "metadata": {},
     "output_type": "execute_result"
    }
   ],
   "source": [
    "reksio.__dict__"
   ]
  },
  {
   "cell_type": "code",
   "execution_count": 33,
   "metadata": {
    "collapsed": false
   },
   "outputs": [
    {
     "name": "stdout",
     "output_type": "stream",
     "text": [
      "taki uogolniony glos zwierzaka o imieniu Burek\n"
     ]
    }
   ],
   "source": [
    "burek.daj_glos()"
   ]
  },
  {
   "cell_type": "code",
   "execution_count": 34,
   "metadata": {
    "collapsed": false
   },
   "outputs": [
    {
     "name": "stdout",
     "output_type": "stream",
     "text": [
      "taki uogolniony glos zwierzaka o imieniu Reksio\n"
     ]
    }
   ],
   "source": [
    "reksio.daj_glos()"
   ]
  },
  {
   "cell_type": "code",
   "execution_count": 35,
   "metadata": {
    "collapsed": false
   },
   "outputs": [
    {
     "data": {
      "text/plain": [
       "'Burek'"
      ]
     },
     "execution_count": 35,
     "metadata": {},
     "output_type": "execute_result"
    }
   ],
   "source": [
    "burek.imie # pole publiczne == kazdy ma dostep"
   ]
  },
  {
   "cell_type": "code",
   "execution_count": 36,
   "metadata": {
    "collapsed": false
   },
   "outputs": [
    {
     "data": {
      "text/plain": [
       "'Fafik'"
      ]
     },
     "execution_count": 36,
     "metadata": {},
     "output_type": "execute_result"
    }
   ],
   "source": [
    "burek.imie = \"Fafik\" # mozemy zmienic pole danego obiektu\n",
    "burek.podaj_imie()"
   ]
  },
  {
   "cell_type": "code",
   "execution_count": 37,
   "metadata": {
    "collapsed": false
   },
   "outputs": [
    {
     "data": {
      "text/plain": [
       "'Fafik'"
      ]
     },
     "execution_count": 37,
     "metadata": {},
     "output_type": "execute_result"
    }
   ],
   "source": [
    "Zwierze.podaj_imie(burek)"
   ]
  },
  {
   "cell_type": "code",
   "execution_count": 38,
   "metadata": {
    "collapsed": false
   },
   "outputs": [
    {
     "data": {
      "text/plain": [
       "'Fafik'"
      ]
     },
     "execution_count": 38,
     "metadata": {},
     "output_type": "execute_result"
    }
   ],
   "source": [
    "type(burek).podaj_imie(burek)"
   ]
  },
  {
   "cell_type": "code",
   "execution_count": 39,
   "metadata": {
    "collapsed": false
   },
   "outputs": [
    {
     "data": {
      "text/plain": [
       "'Fafik'"
      ]
     },
     "execution_count": 39,
     "metadata": {},
     "output_type": "execute_result"
    }
   ],
   "source": [
    "getattr(burek, \"imie\")"
   ]
  },
  {
   "cell_type": "code",
   "execution_count": 40,
   "metadata": {
    "collapsed": false
   },
   "outputs": [
    {
     "data": {
      "text/plain": [
       "False"
      ]
     },
     "execution_count": 40,
     "metadata": {},
     "output_type": "execute_result"
    }
   ],
   "source": [
    "hasattr(burek, \"liczba_lap\")"
   ]
  },
  {
   "cell_type": "code",
   "execution_count": 41,
   "metadata": {
    "collapsed": true
   },
   "outputs": [],
   "source": [
    "setattr(burek, \"imie\", \"Pluto\")"
   ]
  },
  {
   "cell_type": "code",
   "execution_count": 42,
   "metadata": {
    "collapsed": true
   },
   "outputs": [],
   "source": [
    "#mozna tez tworzyc nowe atrybuty:\n",
    "burek.sliski_nosek = True"
   ]
  },
  {
   "cell_type": "code",
   "execution_count": 43,
   "metadata": {
    "collapsed": false
   },
   "outputs": [
    {
     "data": {
      "text/plain": [
       "{'imie': 'Pluto', 'sliski_nosek': True}"
      ]
     },
     "execution_count": 43,
     "metadata": {},
     "output_type": "execute_result"
    }
   ],
   "source": [
    "burek.__dict__"
   ]
  },
  {
   "cell_type": "markdown",
   "metadata": {},
   "source": [
    "## Dziedziczenie\n",
    "\n",
    "uml - do rysowania klas, ich dziedziczenia, ich pol i metod"
   ]
  },
  {
   "cell_type": "code",
   "execution_count": 80,
   "metadata": {
    "collapsed": true
   },
   "outputs": [],
   "source": [
    "#jeszcze jedno pole - ile lapek\n",
    "class Zwierze:\n",
    "    def __init__(self, imie_zwierzaka, ile_lapek):\n",
    "        self.imie = imie_zwierzaka\n",
    "        self.ile_lapek = ile_lapek\n",
    "        \n",
    "    def podaj_imie(self): #zwraca imie zwierzaka\n",
    "        return self.imie\n",
    "    \n",
    "    def daj_glos(self):\n",
    "        # self - zwyczajona nazwa argumenty w metodzie\n",
    "        print(\"taki uogolniony glos zwierzaka o imieniu \" + self.imie)\n",
    "        \n",
    "#BTW piszac     class Zwierze\n",
    "# mamy na mysli class Zwierze(object)\n",
    "class Kot(Zwierze):\n",
    "    def __init__(self, imie, strach_ogorki):\n",
    "        # wywolujemy najpierw konstruktor klasy bazowej:\n",
    "        super().__init__(imie, 4) # to samo co \n",
    "        #super(Kot, self).__init__(imie, 4)\n",
    "        self.czy_boi_sie_ogorkow = strach_ogorki\n",
    "        \n",
    "    def postrasz_ogorkiem(self):\n",
    "        if self.czy_boi_sie_ogorkow:\n",
    "            print(\"AAAAaaaaaa!!! Ogorek! Ogorek! Ogorek\")\n",
    "        else:\n",
    "            print(\"No blagam... Mniam :)\")\n",
    "    \n",
    "    # przeciazamy metode daj_glos:\n",
    "    def daj_glos(self):\n",
    "        print(\"Miauuuuuuu, kotek \" + self.imie + \" mial.\")"
   ]
  },
  {
   "cell_type": "code",
   "execution_count": 81,
   "metadata": {
    "collapsed": false
   },
   "outputs": [],
   "source": [
    "filemon = Kot(\"Filemon\", True)\n",
    "bonifacy = Kot(\"Bonifacy\", False)"
   ]
  },
  {
   "cell_type": "code",
   "execution_count": 82,
   "metadata": {
    "collapsed": false
   },
   "outputs": [
    {
     "name": "stdout",
     "output_type": "stream",
     "text": [
      "AAAAaaaaaa!!! Ogorek! Ogorek! Ogorek\n"
     ]
    }
   ],
   "source": [
    "filemon.postrasz_ogorkiem()"
   ]
  },
  {
   "cell_type": "code",
   "execution_count": 83,
   "metadata": {
    "collapsed": false
   },
   "outputs": [
    {
     "name": "stdout",
     "output_type": "stream",
     "text": [
      "No blagam... Mniam :)\n"
     ]
    }
   ],
   "source": [
    "bonifacy.postrasz_ogorkiem()"
   ]
  },
  {
   "cell_type": "code",
   "execution_count": 84,
   "metadata": {
    "collapsed": false
   },
   "outputs": [
    {
     "data": {
      "text/plain": [
       "4"
      ]
     },
     "execution_count": 84,
     "metadata": {},
     "output_type": "execute_result"
    }
   ],
   "source": [
    "bonifacy.ile_lapek"
   ]
  },
  {
   "cell_type": "code",
   "execution_count": 85,
   "metadata": {
    "collapsed": false
   },
   "outputs": [
    {
     "data": {
      "text/plain": [
       "'Bonifacy'"
      ]
     },
     "execution_count": 85,
     "metadata": {},
     "output_type": "execute_result"
    }
   ],
   "source": [
    "bonifacy.podaj_imie()"
   ]
  },
  {
   "cell_type": "code",
   "execution_count": 86,
   "metadata": {
    "collapsed": false
   },
   "outputs": [
    {
     "name": "stdout",
     "output_type": "stream",
     "text": [
      "Miauuuuuuu, kotek Bonifacy mial.\n"
     ]
    }
   ],
   "source": [
    "bonifacy.daj_glos()"
   ]
  },
  {
   "cell_type": "code",
   "execution_count": 87,
   "metadata": {
    "collapsed": false
   },
   "outputs": [
    {
     "name": "stdout",
     "output_type": "stream",
     "text": [
      "taki uogolniony glos zwierzaka o imieniu Klemens\n",
      "Miauuuuuuu, kotek Klakier mial.\n"
     ]
    },
    {
     "data": {
      "text/plain": [
       "[None, None]"
      ]
     },
     "execution_count": 87,
     "metadata": {},
     "output_type": "execute_result"
    }
   ],
   "source": [
    "import numpy as np\n",
    "x = np.array([\n",
    "        Zwierze(\"Klemens\", 10),\n",
    "        Kot(\"Klakier\", False)\n",
    "    ])\n",
    "[e.daj_glos() for e in x]"
   ]
  },
  {
   "cell_type": "code",
   "execution_count": 88,
   "metadata": {
    "collapsed": false
   },
   "outputs": [
    {
     "data": {
      "text/plain": [
       "__main__.Kot"
      ]
     },
     "execution_count": 88,
     "metadata": {},
     "output_type": "execute_result"
    }
   ],
   "source": [
    "type(filemon)"
   ]
  },
  {
   "cell_type": "code",
   "execution_count": 89,
   "metadata": {
    "collapsed": false
   },
   "outputs": [
    {
     "data": {
      "text/plain": [
       "True"
      ]
     },
     "execution_count": 89,
     "metadata": {},
     "output_type": "execute_result"
    }
   ],
   "source": [
    "isinstance(filemon, Kot)"
   ]
  },
  {
   "cell_type": "code",
   "execution_count": 90,
   "metadata": {
    "collapsed": false
   },
   "outputs": [
    {
     "data": {
      "text/plain": [
       "True"
      ]
     },
     "execution_count": 90,
     "metadata": {},
     "output_type": "execute_result"
    }
   ],
   "source": [
    "isinstance(filemon, Zwierze)"
   ]
  },
  {
   "cell_type": "code",
   "execution_count": 91,
   "metadata": {
    "collapsed": false
   },
   "outputs": [
    {
     "data": {
      "text/plain": [
       "False"
      ]
     },
     "execution_count": 91,
     "metadata": {},
     "output_type": "execute_result"
    }
   ],
   "source": [
    "isinstance(filemon, int)"
   ]
  },
  {
   "cell_type": "code",
   "execution_count": 92,
   "metadata": {
    "collapsed": false
   },
   "outputs": [
    {
     "data": {
      "text/plain": [
       "True"
      ]
     },
     "execution_count": 92,
     "metadata": {},
     "output_type": "execute_result"
    }
   ],
   "source": [
    "issubclass(Kot, Zwierze)"
   ]
  },
  {
   "cell_type": "code",
   "execution_count": 93,
   "metadata": {
    "collapsed": false
   },
   "outputs": [
    {
     "data": {
      "text/plain": [
       "False"
      ]
     },
     "execution_count": 93,
     "metadata": {},
     "output_type": "execute_result"
    }
   ],
   "source": [
    "issubclass(Zwierze, Kot)"
   ]
  },
  {
   "cell_type": "code",
   "execution_count": 94,
   "metadata": {
    "collapsed": false
   },
   "outputs": [
    {
     "data": {
      "text/plain": [
       "True"
      ]
     },
     "execution_count": 94,
     "metadata": {},
     "output_type": "execute_result"
    }
   ],
   "source": [
    "issubclass(Kot, object)"
   ]
  },
  {
   "cell_type": "code",
   "execution_count": 95,
   "metadata": {
    "collapsed": false
   },
   "outputs": [
    {
     "data": {
      "text/plain": [
       "(__main__.Zwierze,)"
      ]
     },
     "execution_count": 95,
     "metadata": {},
     "output_type": "execute_result"
    }
   ],
   "source": [
    "filemon.__class__.__bases__ #po jakich klasach dziedziczy klasa kot\n",
    "# wielodziedziczenie, bo kot moze dziedziczy po paru klasach, np.\n",
    "# Zwierze:\n",
    "#  - Glaskalne:\n",
    "#    - Kot\n",
    "#  - Ssak:\n",
    "#    - Kot"
   ]
  },
  {
   "cell_type": "code",
   "execution_count": 96,
   "metadata": {
    "collapsed": false
   },
   "outputs": [
    {
     "data": {
      "text/plain": [
       "'Kot'"
      ]
     },
     "execution_count": 96,
     "metadata": {},
     "output_type": "execute_result"
    }
   ],
   "source": [
    "filemon.__class__.__name__"
   ]
  },
  {
   "cell_type": "code",
   "execution_count": 97,
   "metadata": {
    "collapsed": true
   },
   "outputs": [],
   "source": [
    "class Pies(Zwierze):\n",
    "    def __init__(self, imie, rasa):\n",
    "        # wywolujemy najpierw konstruktor klasy bazowej:\n",
    "        super().__init__(imie, 4) # to samo co \n",
    "        #super(Pies, self).__init__(imie, 4)\n",
    "        self.rasa = rasa\n",
    "        \n",
    "    def bierz_kota(self, kot):\n",
    "        print(self.imie + \" straszy kotka \" + kot.imie)\n",
    "        \n",
    "        if kot.czy_boi_sie_ogorkow:\n",
    "            kot.postrasz_ogorkiem()\n",
    "        \n",
    "        if self.rasa == 'jamnik':\n",
    "            kot.czy_boi_sie_ogorkow = True\n",
    "    \n",
    "    # przeciazamy metode daj_glos:\n",
    "    def daj_glos(self):\n",
    "        print(\"Hau hau hau, rzekl \" + self.imie)"
   ]
  },
  {
   "cell_type": "code",
   "execution_count": 102,
   "metadata": {
    "collapsed": false
   },
   "outputs": [
    {
     "name": "stdout",
     "output_type": "stream",
     "text": [
      "Hau hau hau, rzekl Kabanos\n"
     ]
    }
   ],
   "source": [
    "kabanos = Pies(\"Kabanos\", 'jamnik')\n",
    "kabanos.daj_glos()"
   ]
  },
  {
   "cell_type": "code",
   "execution_count": 103,
   "metadata": {
    "collapsed": false
   },
   "outputs": [
    {
     "name": "stdout",
     "output_type": "stream",
     "text": [
      "Kabanos straszy kotka Bonifacy\n"
     ]
    },
    {
     "data": {
      "text/plain": [
       "True"
      ]
     },
     "execution_count": 103,
     "metadata": {},
     "output_type": "execute_result"
    }
   ],
   "source": [
    "kabanos.bierz_kota(bonifacy)\n",
    "bonifacy.czy_boi_sie_ogorkow"
   ]
  },
  {
   "cell_type": "code",
   "execution_count": 104,
   "metadata": {
    "collapsed": false
   },
   "outputs": [
    {
     "name": "stdout",
     "output_type": "stream",
     "text": [
      "Kabanos straszy kotka Bonifacy\n",
      "AAAAaaaaaa!!! Ogorek! Ogorek! Ogorek\n"
     ]
    }
   ],
   "source": [
    "# warunkowanie w stylu Pawlowa\n",
    "kabanos.bierz_kota(bonifacy)"
   ]
  },
  {
   "cell_type": "markdown",
   "metadata": {},
   "source": [
    "# K-means like"
   ]
  },
  {
   "cell_type": "code",
   "execution_count": 126,
   "metadata": {
    "collapsed": true
   },
   "outputs": [],
   "source": [
    "class Metryka:\n",
    "    def odleglosc(self, x1, x2):\n",
    "        raise Exception(\"niezaimplementowane\")\n",
    "        \n",
    "    def srodek(self, X):\n",
    "        # X - obiekt iterowalny\n",
    "        # mozna zrobic odleglosc(X[i], X[j])\n",
    "        raise Exception(\"niezaimplementowane\")\n",
    "        \n",
    "\n",
    "\n",
    "class KMeansLikeAlgorithm:\n",
    "    def __init__(self, obiekty, metryka):\n",
    "        self.obiekty = obiekty\n",
    "        self.metryka = metryka\n",
    "    \n",
    "    def wylosuj_srodki(self, k):\n",
    "        # zwraca liste k losowych srodkow\n",
    "        # na poczatek algorytmu\n",
    "        return self.obiekty[0:k] # bardzo losowo...\n",
    "    \n",
    "    def podziel_najblizszy_srodek(self, srodki): \n",
    "        # bierze wszystkie punkty z X\n",
    "        # zwraca k elementowa liste\n",
    "        # podlist - przydzial punktow\n",
    "        # do skupien najblizszcyh\n",
    "        # odpowiadajacemu srodkowi\n",
    "        \n",
    "        # przydzielamy obserwacji jej najblizszy srodek\n",
    "        \n",
    "        Y = [[] for i in range(len(srodki))] \n",
    "        for x in self.obiekty:\n",
    "            i = np.argmin(np.array(\n",
    "                [self.metryka.odleglosc(x, m) \n",
    "                 for m in srodki]\n",
    "                ))\n",
    "            \n",
    "            Y[i].append(x)\n",
    "        return Y\n",
    "    \n",
    "    \n",
    "    def znajdz_srodki(self, k):\n",
    "        srodki = self.wylosuj_srodki(k)\n",
    "        for i in range(0, 100):\n",
    "            y = self.podziel_najblizszy_srodek(srodki)\n",
    "            srodki = [\n",
    "                self.metryka.srodek(grupa)\n",
    "                for grupa in y\n",
    "            ]\n",
    "            # analogicznie do poprzedniego\n",
    "            #for j in range(0, k):\n",
    "                #srodki[j] = self.metryka.srodek(y[j])\n",
    "        return srodki\n",
    "                \n",
    "import numpy as np\n",
    "        \n",
    "class CentroidL2(Metryka):\n",
    "    def odleglosc(self, x1, x2):\n",
    "            return np.sqrt(np.sum((x1-x2)**2))\n",
    "        \n",
    "    def srodek(self, X):\n",
    "        y = np.zeros(len(X[0]))\n",
    "        for x in X:\n",
    "            y += x\n",
    "        return y/len(X)\n",
    "        \n",
    "        \n",
    "        "
   ]
  },
  {
   "cell_type": "code",
   "execution_count": 108,
   "metadata": {
    "collapsed": false
   },
   "outputs": [
    {
     "data": {
      "text/plain": [
       "[[1, 2, 1, 2, 1, 2, 1, 2, 1, 2]]"
      ]
     },
     "execution_count": 108,
     "metadata": {},
     "output_type": "execute_result"
    }
   ],
   "source": [
    "[[1,2] * 5]"
   ]
  },
  {
   "cell_type": "code",
   "execution_count": 109,
   "metadata": {
    "collapsed": false
   },
   "outputs": [
    {
     "data": {
      "text/plain": [
       "[[1, 2], [1, 2], [1, 2], [1, 2], [1, 2]]"
      ]
     },
     "execution_count": 109,
     "metadata": {},
     "output_type": "execute_result"
    }
   ],
   "source": [
    "[[1,2]] * 5"
   ]
  },
  {
   "cell_type": "code",
   "execution_count": 115,
   "metadata": {
    "collapsed": false
   },
   "outputs": [
    {
     "data": {
      "text/plain": [
       "array([[ 3.5,  1.4],\n",
       "       [ 3. ,  1.4],\n",
       "       [ 3.2,  1.3],\n",
       "       [ 3.1,  1.5],\n",
       "       [ 3.6,  1.4],\n",
       "       [ 3.9,  1.7],\n",
       "       [ 3.4,  1.4],\n",
       "       [ 3.4,  1.5],\n",
       "       [ 2.9,  1.4],\n",
       "       [ 3.1,  1.5],\n",
       "       [ 3.7,  1.5],\n",
       "       [ 3.4,  1.6],\n",
       "       [ 3. ,  1.4],\n",
       "       [ 3. ,  1.1],\n",
       "       [ 4. ,  1.2],\n",
       "       [ 4.4,  1.5],\n",
       "       [ 3.9,  1.3],\n",
       "       [ 3.5,  1.4],\n",
       "       [ 3.8,  1.7],\n",
       "       [ 3.8,  1.5],\n",
       "       [ 3.4,  1.7],\n",
       "       [ 3.7,  1.5],\n",
       "       [ 3.6,  1. ],\n",
       "       [ 3.3,  1.7],\n",
       "       [ 3.4,  1.9],\n",
       "       [ 3. ,  1.6],\n",
       "       [ 3.4,  1.6],\n",
       "       [ 3.5,  1.5],\n",
       "       [ 3.4,  1.4],\n",
       "       [ 3.2,  1.6],\n",
       "       [ 3.1,  1.6],\n",
       "       [ 3.4,  1.5],\n",
       "       [ 4.1,  1.5],\n",
       "       [ 4.2,  1.4],\n",
       "       [ 3.1,  1.5],\n",
       "       [ 3.2,  1.2],\n",
       "       [ 3.5,  1.3],\n",
       "       [ 3.1,  1.5],\n",
       "       [ 3. ,  1.3],\n",
       "       [ 3.4,  1.5],\n",
       "       [ 3.5,  1.3],\n",
       "       [ 2.3,  1.3],\n",
       "       [ 3.2,  1.3],\n",
       "       [ 3.5,  1.6],\n",
       "       [ 3.8,  1.9],\n",
       "       [ 3. ,  1.4],\n",
       "       [ 3.8,  1.6],\n",
       "       [ 3.2,  1.4],\n",
       "       [ 3.7,  1.5],\n",
       "       [ 3.3,  1.4],\n",
       "       [ 3.2,  4.7],\n",
       "       [ 3.2,  4.5],\n",
       "       [ 3.1,  4.9],\n",
       "       [ 2.3,  4. ],\n",
       "       [ 2.8,  4.6],\n",
       "       [ 2.8,  4.5],\n",
       "       [ 3.3,  4.7],\n",
       "       [ 2.4,  3.3],\n",
       "       [ 2.9,  4.6],\n",
       "       [ 2.7,  3.9],\n",
       "       [ 2. ,  3.5],\n",
       "       [ 3. ,  4.2],\n",
       "       [ 2.2,  4. ],\n",
       "       [ 2.9,  4.7],\n",
       "       [ 2.9,  3.6],\n",
       "       [ 3.1,  4.4],\n",
       "       [ 3. ,  4.5],\n",
       "       [ 2.7,  4.1],\n",
       "       [ 2.2,  4.5],\n",
       "       [ 2.5,  3.9],\n",
       "       [ 3.2,  4.8],\n",
       "       [ 2.8,  4. ],\n",
       "       [ 2.5,  4.9],\n",
       "       [ 2.8,  4.7],\n",
       "       [ 2.9,  4.3],\n",
       "       [ 3. ,  4.4],\n",
       "       [ 2.8,  4.8],\n",
       "       [ 3. ,  5. ],\n",
       "       [ 2.9,  4.5],\n",
       "       [ 2.6,  3.5],\n",
       "       [ 2.4,  3.8],\n",
       "       [ 2.4,  3.7],\n",
       "       [ 2.7,  3.9],\n",
       "       [ 2.7,  5.1],\n",
       "       [ 3. ,  4.5],\n",
       "       [ 3.4,  4.5],\n",
       "       [ 3.1,  4.7],\n",
       "       [ 2.3,  4.4],\n",
       "       [ 3. ,  4.1],\n",
       "       [ 2.5,  4. ],\n",
       "       [ 2.6,  4.4],\n",
       "       [ 3. ,  4.6],\n",
       "       [ 2.6,  4. ],\n",
       "       [ 2.3,  3.3],\n",
       "       [ 2.7,  4.2],\n",
       "       [ 3. ,  4.2],\n",
       "       [ 2.9,  4.2],\n",
       "       [ 2.9,  4.3],\n",
       "       [ 2.5,  3. ],\n",
       "       [ 2.8,  4.1],\n",
       "       [ 3.3,  6. ],\n",
       "       [ 2.7,  5.1],\n",
       "       [ 3. ,  5.9],\n",
       "       [ 2.9,  5.6],\n",
       "       [ 3. ,  5.8],\n",
       "       [ 3. ,  6.6],\n",
       "       [ 2.5,  4.5],\n",
       "       [ 2.9,  6.3],\n",
       "       [ 2.5,  5.8],\n",
       "       [ 3.6,  6.1],\n",
       "       [ 3.2,  5.1],\n",
       "       [ 2.7,  5.3],\n",
       "       [ 3. ,  5.5],\n",
       "       [ 2.5,  5. ],\n",
       "       [ 2.8,  5.1],\n",
       "       [ 3.2,  5.3],\n",
       "       [ 3. ,  5.5],\n",
       "       [ 3.8,  6.7],\n",
       "       [ 2.6,  6.9],\n",
       "       [ 2.2,  5. ],\n",
       "       [ 3.2,  5.7],\n",
       "       [ 2.8,  4.9],\n",
       "       [ 2.8,  6.7],\n",
       "       [ 2.7,  4.9],\n",
       "       [ 3.3,  5.7],\n",
       "       [ 3.2,  6. ],\n",
       "       [ 2.8,  4.8],\n",
       "       [ 3. ,  4.9],\n",
       "       [ 2.8,  5.6],\n",
       "       [ 3. ,  5.8],\n",
       "       [ 2.8,  6.1],\n",
       "       [ 3.8,  6.4],\n",
       "       [ 2.8,  5.6],\n",
       "       [ 2.8,  5.1],\n",
       "       [ 2.6,  5.6],\n",
       "       [ 3. ,  6.1],\n",
       "       [ 3.4,  5.6],\n",
       "       [ 3.1,  5.5],\n",
       "       [ 3. ,  4.8],\n",
       "       [ 3.1,  5.4],\n",
       "       [ 3.1,  5.6],\n",
       "       [ 3.1,  5.1],\n",
       "       [ 2.7,  5.1],\n",
       "       [ 3.2,  5.9],\n",
       "       [ 3.3,  5.7],\n",
       "       [ 3. ,  5.2],\n",
       "       [ 2.5,  5. ],\n",
       "       [ 3. ,  5.2],\n",
       "       [ 3.4,  5.4],\n",
       "       [ 3. ,  5.1]])"
      ]
     },
     "execution_count": 115,
     "metadata": {},
     "output_type": "execute_result"
    }
   ],
   "source": [
    "import sklearn.datasets\n",
    "\n",
    "iris = sklearn.datasets.load_iris()\n",
    "X = iris.data[:, 1:3]\n",
    "(X[0], X[1], X[2])\n",
    "X"
   ]
  },
  {
   "cell_type": "code",
   "execution_count": 116,
   "metadata": {
    "collapsed": false
   },
   "outputs": [
    {
     "data": {
      "image/png": "[encoded data removed]",
      "text/plain": [
       "<matplotlib.figure.Figure at 0x7fac83ec6c18>"
      ]
     },
     "metadata": {},
     "output_type": "display_data"
    }
   ],
   "source": [
    "%matplotlib inline\n",
    "import matplotlib.pyplot as plt\n",
    "plt.scatter(X[:,0], X[:,1])\n",
    "plt.show()"
   ]
  },
  {
   "cell_type": "code",
   "execution_count": 127,
   "metadata": {
    "collapsed": false
   },
   "outputs": [
    {
     "data": {
      "text/plain": [
       "[array([ 3.4       ,  1.49411765]), array([ 2.87575758,  4.92525253])]"
      ]
     },
     "execution_count": 127,
     "metadata": {},
     "output_type": "execute_result"
    }
   ],
   "source": [
    "metryka = CentroidL2()\n",
    "skupienia = KMeansLikeAlgorithm(X, metryka)\n",
    "skupienia.znajdz_srodki(2)"
   ]
  },
  {
   "cell_type": "markdown",
   "metadata": {},
   "source": [
    "## Metody i zmienne statyczne"
   ]
  },
  {
   "cell_type": "code",
   "execution_count": 146,
   "metadata": {
    "collapsed": true
   },
   "outputs": [],
   "source": [
    "class Licznik:\n",
    "    ile = 0 # pole statyczne = w klasie, nie w obiekcie\n",
    "    \n",
    "    def __init__(self):\n",
    "        Licznik.ile += 1\n",
    "        self.ile = Licznik.ile\n",
    "        print(\"To jest obiekt #\" + str(Licznik.ile))\n",
    "        \n",
    "    def __del__(self):\n",
    "        print(\"Niszcze jest obiekt #\" + str(self.ile) + \". Zostalo jeszcze \" + str(Licznik.ile))\n",
    "        Licznik.ile -= 1\n",
    "        \n",
    "    @staticmethod\n",
    "    def policz():\n",
    "        return Licznik.ile"
   ]
  },
  {
   "cell_type": "code",
   "execution_count": 160,
   "metadata": {
    "collapsed": false
   },
   "outputs": [
    {
     "name": "stdout",
     "output_type": "stream",
     "text": [
      "To jest obiekt #3\n",
      "To jest obiekt #4\n",
      "Niszcze jest obiekt #4. Zostalo jeszcze 4\n",
      "To jest obiekt #4\n",
      "Niszcze jest obiekt #4. Zostalo jeszcze 4\n",
      "3\n",
      "Niszcze jest obiekt #3. Zostalo jeszcze 3\n"
     ]
    },
    {
     "data": {
      "text/plain": [
       "2"
      ]
     },
     "execution_count": 160,
     "metadata": {},
     "output_type": "execute_result"
    }
   ],
   "source": [
    "a = Licznik()\n",
    "b = Licznik()\n",
    "c = Licznik()\n",
    "\n",
    "# a = None\n",
    "\n",
    "print(Licznik.policz())\n",
    "\n",
    "del a\n",
    "# del b\n",
    "# del c\n",
    "\n",
    "b.policz()"
   ]
  },
  {
   "cell_type": "code",
   "execution_count": 157,
   "metadata": {
    "collapsed": false
   },
   "outputs": [
    {
     "name": "stdout",
     "output_type": "stream",
     "text": [
      "Niszcze jest obiekt #2. Zostalo jeszcze 2\n",
      "Niszcze jest obiekt #3. Zostalo jeszcze 1\n"
     ]
    }
   ],
   "source": [
    "a = b = c = None"
   ]
  },
  {
   "cell_type": "code",
   "execution_count": null,
   "metadata": {
    "collapsed": true
   },
   "outputs": [],
   "source": [
    "# design pattern\n",
    "# singleton\n",
    "# fabryka obiektow\n"
   ]
  },
  {
   "cell_type": "code",
   "execution_count": 161,
   "metadata": {
    "collapsed": true
   },
   "outputs": [],
   "source": [
    "class Smerf:\n",
    "    kolor = \"niebieski\""
   ]
  },
  {
   "cell_type": "code",
   "execution_count": 162,
   "metadata": {
    "collapsed": true
   },
   "outputs": [],
   "source": [
    "papa = Smerf()"
   ]
  },
  {
   "cell_type": "code",
   "execution_count": 163,
   "metadata": {
    "collapsed": false
   },
   "outputs": [
    {
     "data": {
      "text/plain": [
       "'niebieski'"
      ]
     },
     "execution_count": 163,
     "metadata": {},
     "output_type": "execute_result"
    }
   ],
   "source": [
    "papa.kolor"
   ]
  },
  {
   "cell_type": "code",
   "execution_count": 164,
   "metadata": {
    "collapsed": false
   },
   "outputs": [
    {
     "data": {
      "text/plain": [
       "'niebieski'"
      ]
     },
     "execution_count": 164,
     "metadata": {},
     "output_type": "execute_result"
    }
   ],
   "source": [
    "maruda = Smerf()\n",
    "maruda.kolor"
   ]
  },
  {
   "cell_type": "code",
   "execution_count": 165,
   "metadata": {
    "collapsed": true
   },
   "outputs": [],
   "source": [
    "papa.kolor = \"czerwony\""
   ]
  },
  {
   "cell_type": "code",
   "execution_count": 166,
   "metadata": {
    "collapsed": false
   },
   "outputs": [
    {
     "data": {
      "text/plain": [
       "('niebieski', 'czerwony', 'niebieski')"
      ]
     },
     "execution_count": 166,
     "metadata": {},
     "output_type": "execute_result"
    }
   ],
   "source": [
    "maruda.kolor, papa.kolor, Smerf.kolor"
   ]
  },
  {
   "cell_type": "markdown",
   "metadata": {},
   "source": [
    "## Metody specjalne"
   ]
  },
  {
   "cell_type": "code",
   "execution_count": 171,
   "metadata": {
    "collapsed": true
   },
   "outputs": [],
   "source": [
    "class Zwierze:\n",
    "    def __init__(self, imie_zwierzaka, ile_lapek):\n",
    "        self.imie = imie_zwierzaka\n",
    "        self.ile_lapek = ile_lapek\n",
    "        \n",
    "    def podaj_imie(self): #zwraca imie zwierzaka\n",
    "        return self.imie\n",
    "    \n",
    "    def daj_glos(self):\n",
    "        # self - zwyczajona nazwa argumenty w metodzie\n",
    "        print(\"taki uogolniony glos zwierzaka o imieniu \" + self.imie)\n",
    "        \n",
    "    def __repr__(self):\n",
    "        # zadanie: zwraca stringa\n",
    "        return \"Zwierze \" + self.imie"
   ]
  },
  {
   "cell_type": "code",
   "execution_count": 172,
   "metadata": {
    "collapsed": false
   },
   "outputs": [
    {
     "data": {
      "text/plain": [
       "Zwierze Klemens"
      ]
     },
     "execution_count": 172,
     "metadata": {},
     "output_type": "execute_result"
    }
   ],
   "source": [
    "Zwierze(\"Klemens\", 2)"
   ]
  },
  {
   "cell_type": "code",
   "execution_count": null,
   "metadata": {
    "collapsed": true
   },
   "outputs": [],
   "source": [
    "# __add__(self, other) #przeciazenie operatora '+'"
   ]
  },
  {
   "cell_type": "code",
   "execution_count": 176,
   "metadata": {
    "collapsed": true
   },
   "outputs": [],
   "source": [
    "class Zwierze:\n",
    "    def __init__(self, imie_zwierzaka, ile_lapek):\n",
    "        self.imie = imie_zwierzaka\n",
    "        self.ile_lapek = ile_lapek\n",
    "        \n",
    "    def podaj_imie(self): #zwraca imie zwierzaka\n",
    "        return self.imie\n",
    "    \n",
    "    def daj_glos(self):\n",
    "        # self - zwyczajona nazwa argumenty w metodzie\n",
    "        print(\"taki uogolniony glos zwierzaka o imieniu \" + self.imie)\n",
    "        \n",
    "    def __repr__(self):\n",
    "        # zadanie: zwraca stringa\n",
    "        return \"Zwierze \" + self.imie\n",
    "    \n",
    "    def __add__(self, other):\n",
    "        return Zwierze(self.imie + \" + \" + other.imie, (self.ile_lapek + other.ile_lapek) / 2)"
   ]
  },
  {
   "cell_type": "code",
   "execution_count": 177,
   "metadata": {
    "collapsed": true
   },
   "outputs": [],
   "source": [
    "z1 = Zwierze(\"Klemens\", 8) # pajak\n",
    "z2 = Zwierze(\"Marcel\", 0) # waz"
   ]
  },
  {
   "cell_type": "code",
   "execution_count": 180,
   "metadata": {
    "collapsed": false
   },
   "outputs": [
    {
     "data": {
      "text/plain": [
       "('Klemens + Marcel', 4.0)"
      ]
     },
     "execution_count": 180,
     "metadata": {},
     "output_type": "execute_result"
    }
   ],
   "source": [
    "z3 = z1 + z2\n",
    "z3.imie, z3.ile_lapek"
   ]
  },
  {
   "cell_type": "code",
   "execution_count": 181,
   "metadata": {
    "collapsed": true
   },
   "outputs": [],
   "source": [
    "# __mul__, sub, div, mod, and itd.\n",
    "# iadd, imul, np. +=\n",
    "# __abs__, __int__, __float__ # konwersja do typu int, float\n",
    "# ew, le, lt, ..."
   ]
  },
  {
   "cell_type": "code",
   "execution_count": 185,
   "metadata": {
    "collapsed": false
   },
   "outputs": [
    {
     "data": {
      "text/plain": [
       "mappingproxy({'__setattr__': <slot wrapper '__setattr__' of 'object' objects>, '__dir__': <method '__dir__' of 'object' objects>, '__gt__': <slot wrapper '__gt__' of 'object' objects>, '__subclasshook__': <method '__subclasshook__' of 'object' objects>, '__doc__': 'The most base type', '__ge__': <slot wrapper '__ge__' of 'object' objects>, '__class__': <attribute '__class__' of 'object' objects>, '__new__': <built-in method __new__ of type object at 0x7facb3639100>, '__le__': <slot wrapper '__le__' of 'object' objects>, '__ne__': <slot wrapper '__ne__' of 'object' objects>, '__hash__': <slot wrapper '__hash__' of 'object' objects>, '__delattr__': <slot wrapper '__delattr__' of 'object' objects>, '__eq__': <slot wrapper '__eq__' of 'object' objects>, '__lt__': <slot wrapper '__lt__' of 'object' objects>, '__reduce__': <method '__reduce__' of 'object' objects>, '__init__': <slot wrapper '__init__' of 'object' objects>, '__sizeof__': <method '__sizeof__' of 'object' objects>, '__repr__': <slot wrapper '__repr__' of 'object' objects>, '__format__': <method '__format__' of 'object' objects>, '__getattribute__': <slot wrapper '__getattribute__' of 'object' objects>, '__str__': <slot wrapper '__str__' of 'object' objects>, '__reduce_ex__': <method '__reduce_ex__' of 'object' objects>})"
      ]
     },
     "execution_count": 185,
     "metadata": {},
     "output_type": "execute_result"
    }
   ],
   "source": [
    "object.__str__"
   ]
  },
  {
   "cell_type": "markdown",
   "metadata": {},
   "source": [
    "## Slots\n",
    "\n",
    "Atrybuty trzymalismy w slowniku i mogly byc one\n",
    "tworzone dynamicznie i dodawane w razie potrzeby, a takze modyfikowane.\n",
    "\n",
    "Jednakze mozna ustalic z góry nazwy\n",
    "pol w klasie, dzięki czemu (frozem dict)\n",
    "nie mozna bedzie uzytkownikownikowi dodawac \n",
    "nowych pol a i wyszukiwanie ich po nazwie bedzire szybsze"
   ]
  },
  {
   "cell_type": "code",
   "execution_count": 186,
   "metadata": {
    "collapsed": true
   },
   "outputs": [],
   "source": [
    "class Zwierze:\n",
    "    \n",
    "    __slots__ = ['imie', 'ile_lapek']\n",
    "    \n",
    "    def __init__(self, imie_zwierzaka, ile_lapek):\n",
    "        self.imie = imie_zwierzaka\n",
    "        self.ile_lapek = ile_lapek\n",
    "        \n",
    "    def podaj_imie(self): #zwraca imie zwierzaka\n",
    "        return self.imie\n",
    "    \n",
    "    def daj_glos(self):\n",
    "        # self - zwyczajona nazwa argumenty w metodzie\n",
    "        print(\"taki uogolniony glos zwierzaka o imieniu \" + self.imie)\n",
    "        \n",
    "    def __repr__(self):\n",
    "        # zadanie: zwraca stringa\n",
    "        return \"Zwierze \" + self.imie\n",
    "    \n",
    "    def __add__(self, other):\n",
    "        return Zwierze(self.imie + \" + \" + other.imie, (self.ile_lapek + other.ile_lapek) / 2)"
   ]
  },
  {
   "cell_type": "code",
   "execution_count": 187,
   "metadata": {
    "collapsed": true
   },
   "outputs": [],
   "source": [
    "klemens = Zwierze(\"Klemens\", 6)"
   ]
  },
  {
   "cell_type": "code",
   "execution_count": 188,
   "metadata": {
    "collapsed": false
   },
   "outputs": [
    {
     "data": {
      "text/plain": [
       "'Klemens'"
      ]
     },
     "execution_count": 188,
     "metadata": {},
     "output_type": "execute_result"
    }
   ],
   "source": [
    "klemens.imie"
   ]
  },
  {
   "cell_type": "code",
   "execution_count": 190,
   "metadata": {
    "collapsed": false
   },
   "outputs": [],
   "source": [
    "klemens.ile_lapek = 8"
   ]
  },
  {
   "cell_type": "code",
   "execution_count": 191,
   "metadata": {
    "collapsed": false
   },
   "outputs": [
    {
     "ename": "AttributeError",
     "evalue": "'Zwierze' object has no attribute '__dict__'",
     "output_type": "error",
     "traceback": [
      "\u001b[1;31m---------------------------------------------------------------------------\u001b[0m",
      "\u001b[1;31mAttributeError\u001b[0m                            Traceback (most recent call last)",
      "\u001b[1;32m<ipython-input-191-f3aa399579c5>\u001b[0m in \u001b[0;36m<module>\u001b[1;34m()\u001b[0m\n\u001b[1;32m----> 1\u001b[1;33m \u001b[0mklemens\u001b[0m\u001b[1;33m.\u001b[0m\u001b[0m__dict__\u001b[0m\u001b[1;33m\u001b[0m\u001b[0m\n\u001b[0m",
      "\u001b[1;31mAttributeError\u001b[0m: 'Zwierze' object has no attribute '__dict__'"
     ]
    }
   ],
   "source": [
    "klemens.__dict__ # nie ma!"
   ]
  },
  {
   "cell_type": "code",
   "execution_count": 192,
   "metadata": {
    "collapsed": false
   },
   "outputs": [
    {
     "ename": "AttributeError",
     "evalue": "'Zwierze' object has no attribute 'nowe_pole'",
     "output_type": "error",
     "traceback": [
      "\u001b[1;31m---------------------------------------------------------------------------\u001b[0m",
      "\u001b[1;31mAttributeError\u001b[0m                            Traceback (most recent call last)",
      "\u001b[1;32m<ipython-input-192-2917a880360b>\u001b[0m in \u001b[0;36m<module>\u001b[1;34m()\u001b[0m\n\u001b[1;32m----> 1\u001b[1;33m \u001b[0mklemens\u001b[0m\u001b[1;33m.\u001b[0m\u001b[0mnowe_pole\u001b[0m \u001b[1;33m=\u001b[0m \u001b[1;36m7\u001b[0m\u001b[1;33m\u001b[0m\u001b[0m\n\u001b[0m",
      "\u001b[1;31mAttributeError\u001b[0m: 'Zwierze' object has no attribute 'nowe_pole'"
     ]
    }
   ],
   "source": [
    "klemens.nowe_pole = 7 # nie dziala!"
   ]
  },
  {
   "cell_type": "code",
   "execution_count": 193,
   "metadata": {
    "collapsed": false
   },
   "outputs": [
    {
     "data": {
      "text/plain": [
       "['daj_glos',\n",
       " 'imie',\n",
       " '__dir__',\n",
       " '__sizeof__',\n",
       " '__setattr__',\n",
       " '__subclasshook__',\n",
       " '__ge__',\n",
       " '__module__',\n",
       " '__class__',\n",
       " '__new__',\n",
       " '__hash__',\n",
       " '__le__',\n",
       " '__ne__',\n",
       " 'ile_lapek',\n",
       " '__delattr__',\n",
       " '__slots__',\n",
       " '__lt__',\n",
       " '__reduce__',\n",
       " '__add__',\n",
       " '__init__',\n",
       " '__eq__',\n",
       " '__gt__',\n",
       " '__repr__',\n",
       " '__doc__',\n",
       " 'podaj_imie',\n",
       " '__getattribute__',\n",
       " '__str__',\n",
       " '__format__',\n",
       " '__reduce_ex__']"
      ]
     },
     "execution_count": 193,
     "metadata": {},
     "output_type": "execute_result"
    }
   ],
   "source": [
    "klemens.__dir__()"
   ]
  },
  {
   "cell_type": "markdown",
   "metadata": {},
   "source": [
    "## Pola prywatne, publiczne\n",
    "\n",
    "Enkapsulacja - umozliwienie ukrycia \n",
    "pewnych danych przed uzytkownikiem\n",
    "\n",
    "Prywatne - w klasie A, to wtedy tylko mozna sie odwolac tylko majac obiekt typu A. Majac obiekt typu B, ktory dziedziczy po A, to juz nie bedziemy widziec.\n",
    "\n",
    "Protected - widac w klasach dziedziczacych, ale nie na zewnatrz"
   ]
  },
  {
   "cell_type": "code",
   "execution_count": 200,
   "metadata": {
    "collapsed": true
   },
   "outputs": [],
   "source": [
    "class Test:\n",
    "    def __init__(self):\n",
    "        self.publiczne = 1\n",
    "        self._chronione = 2\n",
    "        self.__prywatne = 3\n",
    "        \n",
    "    def dane(self):\n",
    "        return(self.publiczne, self._chronione, self.__prywatne)"
   ]
  },
  {
   "cell_type": "code",
   "execution_count": 201,
   "metadata": {
    "collapsed": false
   },
   "outputs": [
    {
     "data": {
      "text/plain": [
       "(1, 2, 3)"
      ]
     },
     "execution_count": 201,
     "metadata": {},
     "output_type": "execute_result"
    }
   ],
   "source": [
    "x = Test()\n",
    "x.dane()"
   ]
  },
  {
   "cell_type": "code",
   "execution_count": 202,
   "metadata": {
    "collapsed": false
   },
   "outputs": [
    {
     "data": {
      "text/plain": [
       "<bound method Test.dane of <__main__.Test object at 0x7fac83d6a2b0>>"
      ]
     },
     "execution_count": 202,
     "metadata": {},
     "output_type": "execute_result"
    }
   ],
   "source": [
    "x.publiczne = 7 #x.<TAB> nie podpowiada innych niz publiczne\n",
    "x.dane"
   ]
  },
  {
   "cell_type": "code",
   "execution_count": 203,
   "metadata": {
    "collapsed": false
   },
   "outputs": [
    {
     "data": {
      "text/plain": [
       "(7, 8, 3)"
      ]
     },
     "execution_count": 203,
     "metadata": {},
     "output_type": "execute_result"
    }
   ],
   "source": [
    "x._chronione = 8\n",
    "x.__prywatne = 9\n",
    "x.dane()"
   ]
  },
  {
   "cell_type": "code",
   "execution_count": 204,
   "metadata": {
    "collapsed": false
   },
   "outputs": [
    {
     "data": {
      "text/plain": [
       "9"
      ]
     },
     "execution_count": 204,
     "metadata": {},
     "output_type": "execute_result"
    }
   ],
   "source": [
    "x.__prywatne"
   ]
  },
  {
   "cell_type": "code",
   "execution_count": 208,
   "metadata": {
    "collapsed": true
   },
   "outputs": [],
   "source": [
    "def Test2(Test):\n",
    "    def zmien_chronione(self):\n",
    "        self._chronione += 1\n",
    "    def zmien_prywatne(self):\n",
    "        self.__prywatne += 1"
   ]
  },
  {
   "cell_type": "code",
   "execution_count": 209,
   "metadata": {
    "collapsed": true
   },
   "outputs": [],
   "source": [
    "y = Test2"
   ]
  },
  {
   "cell_type": "code",
   "execution_count": 210,
   "metadata": {
    "collapsed": false
   },
   "outputs": [
    {
     "ename": "AttributeError",
     "evalue": "'function' object has no attribute 'zmien_chronione'",
     "output_type": "error",
     "traceback": [
      "\u001b[1;31m---------------------------------------------------------------------------\u001b[0m",
      "\u001b[1;31mAttributeError\u001b[0m                            Traceback (most recent call last)",
      "\u001b[1;32m<ipython-input-210-3eb81291db69>\u001b[0m in \u001b[0;36m<module>\u001b[1;34m()\u001b[0m\n\u001b[1;32m----> 1\u001b[1;33m \u001b[0my\u001b[0m\u001b[1;33m.\u001b[0m\u001b[0mzmien_chronione\u001b[0m\u001b[1;33m(\u001b[0m\u001b[1;33m)\u001b[0m\u001b[1;33m\u001b[0m\u001b[0m\n\u001b[0m",
      "\u001b[1;31mAttributeError\u001b[0m: 'function' object has no attribute 'zmien_chronione'"
     ]
    }
   ],
   "source": [
    "y.zmien_chronione()"
   ]
  },
  {
   "cell_type": "code",
   "execution_count": 211,
   "metadata": {
    "collapsed": false
   },
   "outputs": [
    {
     "ename": "AttributeError",
     "evalue": "'function' object has no attribute 'zmien_prywatne'",
     "output_type": "error",
     "traceback": [
      "\u001b[1;31m---------------------------------------------------------------------------\u001b[0m",
      "\u001b[1;31mAttributeError\u001b[0m                            Traceback (most recent call last)",
      "\u001b[1;32m<ipython-input-211-189ca5a7bf8c>\u001b[0m in \u001b[0;36m<module>\u001b[1;34m()\u001b[0m\n\u001b[1;32m----> 1\u001b[1;33m \u001b[0my\u001b[0m\u001b[1;33m.\u001b[0m\u001b[0mzmien_prywatne\u001b[0m\u001b[1;33m(\u001b[0m\u001b[1;33m)\u001b[0m\u001b[1;33m\u001b[0m\u001b[0m\n\u001b[0m",
      "\u001b[1;31mAttributeError\u001b[0m: 'function' object has no attribute 'zmien_prywatne'"
     ]
    }
   ],
   "source": [
    "y.zmien_prywatne()"
   ]
  },
  {
   "cell_type": "markdown",
   "metadata": {},
   "source": [
    "# Obiekty iterowalne"
   ]
  },
  {
   "cell_type": "code",
   "execution_count": 212,
   "metadata": {
    "collapsed": true
   },
   "outputs": [],
   "source": [
    "\n",
    "def generuj():\n",
    "    yield(\"a\")\n",
    "    yield(\"b\")\n",
    "    yield(\"c\")\n",
    "    yield(\"d\")\n",
    "    yield(\"e\")\n",
    "    yield(\"f\")"
   ]
  },
  {
   "cell_type": "code",
   "execution_count": 213,
   "metadata": {
    "collapsed": true
   },
   "outputs": [],
   "source": [
    "x = generuj()"
   ]
  },
  {
   "cell_type": "code",
   "execution_count": 214,
   "metadata": {
    "collapsed": false
   },
   "outputs": [
    {
     "data": {
      "text/plain": [
       "<generator object generuj at 0x7fac83d82e58>"
      ]
     },
     "execution_count": 214,
     "metadata": {},
     "output_type": "execute_result"
    }
   ],
   "source": [
    "x"
   ]
  },
  {
   "cell_type": "code",
   "execution_count": 216,
   "metadata": {
    "collapsed": false
   },
   "outputs": [
    {
     "data": {
      "text/plain": [
       "'a'"
      ]
     },
     "execution_count": 216,
     "metadata": {},
     "output_type": "execute_result"
    }
   ],
   "source": [
    "next(x)"
   ]
  },
  {
   "cell_type": "code",
   "execution_count": 217,
   "metadata": {
    "collapsed": false
   },
   "outputs": [
    {
     "data": {
      "text/plain": [
       "'b'"
      ]
     },
     "execution_count": 217,
     "metadata": {},
     "output_type": "execute_result"
    }
   ],
   "source": [
    "next(x)"
   ]
  },
  {
   "cell_type": "code",
   "execution_count": 218,
   "metadata": {
    "collapsed": false
   },
   "outputs": [
    {
     "data": {
      "text/plain": [
       "'c'"
      ]
     },
     "execution_count": 218,
     "metadata": {},
     "output_type": "execute_result"
    }
   ],
   "source": [
    "next(x)"
   ]
  },
  {
   "cell_type": "code",
   "execution_count": 219,
   "metadata": {
    "collapsed": false
   },
   "outputs": [
    {
     "data": {
      "text/plain": [
       "['a', 'b', 'c', 'd', 'e', 'f']"
      ]
     },
     "execution_count": 219,
     "metadata": {},
     "output_type": "execute_result"
    }
   ],
   "source": [
    "[y for y in generuj()]"
   ]
  },
  {
   "cell_type": "code",
   "execution_count": 224,
   "metadata": {
    "collapsed": true
   },
   "outputs": [],
   "source": [
    "class IterTest:\n",
    "    __slots__ = ['ile', 'akt']\n",
    "    \n",
    "    def __init__(self, ile):\n",
    "        self.ile = ile\n",
    "        \n",
    "    def __iter__(self): #konstruuje obiekt iterowalny\n",
    "        self.akt = 0\n",
    "        return self # koniecznie!!\n",
    "        \n",
    "    def __next__(self):\n",
    "        if self.akt >= self.ile: #kiedy chcemy zakonczyc iterowanie\n",
    "            raise StopIteration\n",
    "        self.akt += 1\n",
    "        return self.akt ** 2"
   ]
  },
  {
   "cell_type": "code",
   "execution_count": 226,
   "metadata": {
    "collapsed": false
   },
   "outputs": [
    {
     "data": {
      "text/plain": [
       "[1, 4, 9, 16, 25]"
      ]
     },
     "execution_count": 226,
     "metadata": {},
     "output_type": "execute_result"
    }
   ],
   "source": [
    "[x for x in IterTest(5)]"
   ]
  },
  {
   "cell_type": "code",
   "execution_count": null,
   "metadata": {
    "collapsed": true
   },
   "outputs": [],
   "source": []
  }
 ],
 "metadata": {
  "kernelspec": {
   "display_name": "Python 3",
   "language": "python",
   "name": "python3"
  },
  "language_info": {
   "codemirror_mode": {
    "name": "ipython",
    "version": 3
   },
   "file_extension": ".py",
   "mimetype": "text/x-python",
   "name": "python",
   "nbconvert_exporter": "python",
   "pygments_lexer": "ipython3",
   "version": "3.4.3"
  }
 },
 "nbformat": 4,
 "nbformat_minor": 0
}
