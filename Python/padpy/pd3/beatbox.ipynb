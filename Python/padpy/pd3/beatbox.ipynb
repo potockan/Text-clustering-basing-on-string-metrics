{
 "cells": [
  {
   "cell_type": "code",
   "execution_count": 10,
   "metadata": {
    "collapsed": false
   },
   "outputs": [
    {
     "data": {
      "text/plain": [
       "'/home/natalia/Text-clustering-basing-on-string-metrics/Python/padpy/pd3'"
      ]
     },
     "execution_count": 10,
     "metadata": {},
     "output_type": "execute_result"
    }
   ],
   "source": [
    "import scipy.io.wavfile\n",
    "import os\n",
    "import numpy as np\n",
    "os.getcwd()"
   ]
  },
  {
   "cell_type": "code",
   "execution_count": 13,
   "metadata": {
    "collapsed": false
   },
   "outputs": [
    {
     "name": "stderr",
     "output_type": "stream",
     "text": [
      "/home/natalia/anaconda3/lib/python3.4/site-packages/scipy/io/wavfile.py:172: WavFileWarning: Chunk (non-data) not understood, skipping it.\n",
      "  WavFileWarning)\n"
     ]
    },
    {
     "data": {
      "text/plain": [
       "[\"Playing WAVE '../test8.wav' : Signed 16 bit Little Endian, Rate 44100 Hz, Mono\"]"
      ]
     },
     "execution_count": 13,
     "metadata": {},
     "output_type": "execute_result"
    }
   ],
   "source": [
    "\n",
    "\n",
    "fs1, y1 = scipy.io.wavfile.read(\"../Snare-Drum-2.wav\")\n",
    "fs2, y2 = scipy.io.wavfile.read(\"../Side-Stick-4.wav\")\n",
    "fs3, y3 = scipy.io.wavfile.read(\"../Deep-Kick.wav\")\n",
    "fs = fs1\n",
    "y1 = np.tile(y1[:len(y1/2)], 2)\n",
    "y2 = np.tile(y2[:len(y2/2)], 2)\n",
    "y3 = np.tile(y3[:len(y3/2)], 2)\n",
    "y = np.r_[y1, y2]\n",
    "#y = np.repeat(y, 4, axis = 0)\n",
    "y = np.tile(y, [4,4])\n",
    "y = np.mean(y, axis=1)\n",
    "y /= 32767\n",
    "\n",
    "\n",
    "scipy.io.wavfile.write(\"../test8.wav\", \n",
    "                       fs, \n",
    "                       np.int16(y/max(np.abs(y))*32767))\n",
    "!!aplay ../test8.wav"
   ]
  },
  {
   "cell_type": "code",
   "execution_count": 39,
   "metadata": {
    "collapsed": false
   },
   "outputs": [
    {
     "data": {
      "text/plain": [
       "'01\\n01\\n02\\n01\\n01\\n02\\n'"
      ]
     },
     "execution_count": 39,
     "metadata": {},
     "output_type": "execute_result"
    }
   ],
   "source": [
    "with open('utwor1/song.txt', 'r') as f:\n",
    "    song = f.read()\n",
    "read_data"
   ]
  },
  {
   "cell_type": "code",
   "execution_count": 40,
   "metadata": {
    "collapsed": false
   },
   "outputs": [
    {
     "name": "stdout",
     "output_type": "stream",
     "text": [
      "['01 02 03 04', '-- -- 03 --', '-- 02 03 --', '01 02 03 04', '-- -- 03 --', '-- 02 03 --', '01 02 03 04', '-- -- 03 --', '-- 02 03 --', '01 02 03 04', '-- -- 03 --', '-- 02 03 --', '01 02 03 04', '-- -- 03 --', '-- 02 03 --', '01 02 03 04', '-- -- 03 --', '-- 02 03 --', '01 -- 03 04', '01 -- 03 --', '-- 02 03 --', '01 02 03 04', '01 -- 03 04', '01 -- 03 --', '-- -- 03 --', '-- 02 03 --', '01 02 03 04', '01 -- 03 04', '01 -- 03 --', '-- 02 03 --', '01 02 03 04', '-- -- 03 --', '-- 02 03 --', '01 02 03 04', '-- -- 03 --', '-- 02 03 --', '01 02 03 04', '-- -- 03 --', '-- 02 03 --', '01 02 03 04', '-- -- 03 --', '-- 02 03 --', '01 02 03 04', '-- -- 03 --', '-- 02 03 --', '01 02 03 04', '-- -- 03 --', '-- 02 03 --', '01 -- 03 04', '01 -- 03 --', '-- 02 03 --', '01 02 03 04', '01 -- 03 04', '01 -- 03 --', '-- -- 03 --', '-- 02 03 --', '01 02 03 04', '01 -- 03 04', '01 -- 03 --', '-- 02 03 --']\n"
     ]
    }
   ],
   "source": [
    "tracks = []\n",
    "for i in song.splitlines():\n",
    "    with open('utwor1/track' + i +'.txt', 'r') as f:\n",
    "           tracks += (f.read().splitlines())\n",
    "            \n",
    "print(tracks)"
   ]
  },
  {
   "cell_type": "code",
   "execution_count": 59,
   "metadata": {
    "collapsed": false
   },
   "outputs": [
    {
     "name": "stdout",
     "output_type": "stream",
     "text": [
      "['01', '03', '04', '02']\n"
     ]
    }
   ],
   "source": [
    "sample = []\n",
    "for i in set(tracks):\n",
    "    sample += i.split()\n",
    "sample = [i for i in list(set(sample)) if i != '--']\n",
    "print(sample)"
   ]
  },
  {
   "cell_type": "code",
   "execution_count": 70,
   "metadata": {
    "collapsed": false
   },
   "outputs": [
    {
     "name": "stdout",
     "output_type": "stream",
     "text": [
      "(25448, 2)\n",
      "(13038, 2)\n",
      "(15313, 2)\n",
      "(115535, 2)\n"
     ]
    },
    {
     "name": "stderr",
     "output_type": "stream",
     "text": [
      "/home/natalia/anaconda3/lib/python3.4/site-packages/scipy/io/wavfile.py:172: WavFileWarning: Chunk (non-data) not understood, skipping it.\n",
      "  WavFileWarning)\n"
     ]
    }
   ],
   "source": [
    "fs = []\n",
    "y = []\n",
    "for i, s in enumerate(sample):\n",
    "    fs1, y1 = scipy.io.wavfile.read('./utwor1/sample' + s + '.wav')\n",
    "    fs.append(fs1)\n",
    "    y.append(y1)\n",
    "    \n",
    "for x in y:\n",
    "    print(x.shape) #### TO DO HERE"
   ]
  },
  {
   "cell_type": "code",
   "execution_count": null,
   "metadata": {
    "collapsed": true
   },
   "outputs": [],
   "source": [
    "y2 = np.r_[y[0] + y[1] + y[2] + y[3]]\n",
    "y2 /= 32767\n",
    "\n",
    "\n",
    "scipy.io.wavfile.write(\"pd_proba1.wav\", \n",
    "                       fs, \n",
    "                       np.int16(y2/max(np.abs(y2))*32767))\n",
    "!!aplay pd_proba1.wav"
   ]
  },
  {
   "cell_type": "code",
   "execution_count": 64,
   "metadata": {
    "collapsed": false
   },
   "outputs": [
    {
     "data": {
      "text/plain": [
       "[]"
      ]
     },
     "execution_count": 64,
     "metadata": {},
     "output_type": "execute_result"
    }
   ],
   "source": [
    "### SMIECI PONIZEJ\n",
    "\n",
    "\n",
    "fs1, y1 = scipy.io.wavfile.read(\"/home/samba/potockan/python/Snare-Drum-2.wav\")\n",
    "fs2, y2 = scipy.io.wavfile.read(\"/home/samba/potockan/python/Side-Stick-4.wav\")\n",
    "fs3, y3 = scipy.io.wavfile.read(\"/home/samba/potockan/python/Deep-Kick.wav\")"
   ]
  },
  {
   "cell_type": "code",
   "execution_count": 41,
   "metadata": {
    "collapsed": false
   },
   "outputs": [
    {
     "data": {
      "text/plain": [
       "{'-- -- 03 --', '-- 02 03 --', '01 -- 03 --', '01 -- 03 04', '01 02 03 04'}"
      ]
     },
     "execution_count": 41,
     "metadata": {},
     "output_type": "execute_result"
    }
   ],
   "source": [
    "y = np.r_[np.sin(2*np.pi*f*t) +\n",
    "          np.sin(2*np.pi*f*(const**3)*t) +\n",
    "          np.sin(2*np.pi*f*(const**7)*t) ]\n",
    "\n",
    "scipy.io.wavfile.write(\"/home/samba/potockan/python/test4.wav\", \n",
    "                       fs, \n",
    "                       np.int16(y/max(np.abs(y))*32767))\n",
    "!!aplay /home/samba/potockan/python/test4.wav"
   ]
  },
  {
   "cell_type": "code",
   "execution_count": 49,
   "metadata": {
    "collapsed": false
   },
   "outputs": [
    {
     "data": {
      "text/plain": [
       "['--', '--', '03', '--']"
      ]
     },
     "execution_count": 49,
     "metadata": {},
     "output_type": "execute_result"
    }
   ],
   "source": [
    "tracks[1].split(' ')"
   ]
  },
  {
   "cell_type": "code",
   "execution_count": 61,
   "metadata": {
    "collapsed": false
   },
   "outputs": [
    {
     "data": {
      "text/plain": [
       "<enumerate at 0x7f1ab21e27e0>"
      ]
     },
     "execution_count": 61,
     "metadata": {},
     "output_type": "execute_result"
    }
   ],
   "source": []
  },
  {
   "cell_type": "code",
   "execution_count": null,
   "metadata": {
    "collapsed": true
   },
   "outputs": [],
   "source": [
    "fs1, y1 = scipy.io.wavfile.read(\"/home/samba/potockan/python/Snare-Drum-2.wav\")\n",
    "fs2, y2 = scipy.io.wavfile.read(\"/home/samba/potockan/python/Side-Stick-4.wav\")\n",
    "fs3, y3 = scipy.io.wavfile.read(\"/home/samba/potockan/python/Deep-Kick.wav\")\n",
    "fs = fs1\n",
    "y1 = np.tile(y1[:len(y1/2)], 2)\n",
    "y2 = np.tile(y2[:len(y2/2)], 2)\n",
    "y3 = np.tile(y3[:len(y3/2)], 2)\n",
    "y = np.r_[y1, y2]\n",
    "#y = np.repeat(y, 4, axis = 0)\n",
    "y = np.tile(y, [4,4])\n",
    "y = np.mean(y, axis=1)\n",
    "y /= 32767\n",
    "\n",
    "\n",
    "scipy.io.wavfile.write(\"/home/samba/potockan/python/test8.wav\", \n",
    "                       fs, \n",
    "                       np.int16(y/max(np.abs(y))*32767))\n",
    "!!aplay /home/samba/potockan/python/test8.wav"
   ]
  }
 ],
 "metadata": {
  "kernelspec": {
   "display_name": "Python 3",
   "language": "python",
   "name": "python3"
  },
  "language_info": {
   "codemirror_mode": {
    "name": "ipython",
    "version": 3
   },
   "file_extension": ".py",
   "mimetype": "text/x-python",
   "name": "python",
   "nbconvert_exporter": "python",
   "pygments_lexer": "ipython3",
   "version": "3.4.3"
  }
 },
 "nbformat": 4,
 "nbformat_minor": 0
}
