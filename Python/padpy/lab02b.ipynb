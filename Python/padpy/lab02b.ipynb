{
 "cells": [
  {
   "cell_type": "markdown",
   "metadata": {},
   "source": [
    "# Wyklad 2\n",
    "\n",
    "* funckje\n",
    "* instr. sterujace\n",
    "* listy, krotki - c.d.\n",
    "\n",
    "\n",
    "dalej:\n",
    "\n",
    "* numpy\n",
    "* scipy"
   ]
  },
  {
   "cell_type": "code",
   "execution_count": 3,
   "metadata": {
    "collapsed": true
   },
   "outputs": [],
   "source": [
    "def nazwa_funkcji(arg1, arg2, itd):\n",
    "    '''\n",
    "    To jest moja pierwsza funkcja w Pythonie.\n",
    "    Ten napis to jest tzw. docstring (documentation string)\n",
    "    Dzieki temu ?nazwa_funkcji podpowie nam co funkcja robi.\n",
    "    Dobra praktyka jest zawsze taki docstring tworzyc.\n",
    "    '''\n",
    "    #kod funkcji\n",
    "    #kod funkcji\n",
    "    #liczba spacji we wciecia musi byc spojna, bo bedzie blad kompilacji\n",
    "    return None # None domyslnie"
   ]
  },
  {
   "cell_type": "code",
   "execution_count": 78,
   "metadata": {
    "collapsed": true
   },
   "outputs": [],
   "source": [
    "?nazwa_funkcji"
   ]
  },
  {
   "cell_type": "code",
   "execution_count": null,
   "metadata": {
    "collapsed": true
   },
   "outputs": [],
   "source": [
    "def f():\n",
    "    pass # instrukcja nicnierobiaca"
   ]
  },
  {
   "cell_type": "markdown",
   "metadata": {},
   "source": [
    "ciag Fibonacciego:\n",
    "\n",
    "$F(0) = F(1) = 1$\n",
    "$F(n) = F(n-1) + F(n-2)$ dla $n\\leq 2$"
   ]
  },
  {
   "cell_type": "code",
   "execution_count": 36,
   "metadata": {
    "collapsed": true
   },
   "outputs": [],
   "source": [
    "def fib(n):\n",
    "    '''\n",
    "    Wyznacza n-ty wyraz ciagu fib\n",
    "    '''\n",
    "    if n == 0 or n == 1:\n",
    "        return 1\n",
    "    else:\n",
    "        return fib(n-1) + fib(n-2)"
   ]
  },
  {
   "cell_type": "markdown",
   "metadata": {},
   "source": [
    "Napisz funkcje `max()`, ktora zwraca maksimum z trzech liczb."
   ]
  },
  {
   "cell_type": "code",
   "execution_count": 43,
   "metadata": {
    "collapsed": true
   },
   "outputs": [],
   "source": [
    "def maks(a, b, c):\n",
    "    '''\n",
    "    Wyznacza maksimum z trzech liczb\n",
    "    '''\n",
    "    if a > b:\n",
    "        if a > c:\n",
    "            return a\n",
    "        else:\n",
    "            return c\n",
    "    else:\n",
    "        if b > c:\n",
    "            return b\n",
    "        else:\n",
    "            return c"
   ]
  },
  {
   "cell_type": "code",
   "execution_count": 49,
   "metadata": {
    "collapsed": true
   },
   "outputs": [],
   "source": [
    "def maks2(a, b, c):\n",
    "    '''\n",
    "    Wyznacza maksimum z trzech liczb\n",
    "    '''\n",
    "    if   a >= b and a >= c: return a\n",
    "    elif b >= a <= c:       return b\n",
    "    else:                   return c"
   ]
  },
  {
   "cell_type": "code",
   "execution_count": 11,
   "metadata": {
    "collapsed": false
   },
   "outputs": [
    {
     "data": {
      "text/plain": [
       "3"
      ]
     },
     "execution_count": 11,
     "metadata": {},
     "output_type": "execute_result"
    }
   ],
   "source": [
    "maks(1, 2, 3)\n",
    "maks(3, 2, 1)\n",
    "maks(2, 1, 3)"
   ]
  },
  {
   "cell_type": "code",
   "execution_count": 50,
   "metadata": {
    "collapsed": false
   },
   "outputs": [
    {
     "data": {
      "text/plain": [
       "'zeby'"
      ]
     },
     "execution_count": 50,
     "metadata": {},
     "output_type": "execute_result"
    }
   ],
   "source": [
    "maks2('a', 'zeby', 'czyste')"
   ]
  },
  {
   "cell_type": "code",
   "execution_count": 41,
   "metadata": {
    "collapsed": false
   },
   "outputs": [],
   "source": [
    "def med3(a, b, c):\n",
    "    if a > b:\n",
    "        if b > c:\n",
    "            return b\n",
    "        elif a > c:\n",
    "            return c\n",
    "        else:\n",
    "            return a\n",
    "    else:\n",
    "        if a > c:\n",
    "            return a\n",
    "        elif b > c:\n",
    "            return c\n",
    "        else:\n",
    "            return b"
   ]
  },
  {
   "cell_type": "code",
   "execution_count": 42,
   "metadata": {
    "collapsed": false
   },
   "outputs": [
    {
     "name": "stdout",
     "output_type": "stream",
     "text": [
      "2\n",
      "2\n",
      "2\n",
      "2\n"
     ]
    }
   ],
   "source": [
    "print(med3(1,2,3))\n",
    "print(med3(2,3,1))\n",
    "print(med3(3,2,1))\n",
    "print(med3(1,3,2))"
   ]
  },
  {
   "cell_type": "code",
   "execution_count": 51,
   "metadata": {
    "collapsed": true
   },
   "outputs": [],
   "source": [
    "def f(a=1, b=2):\n",
    "    return (a, b)"
   ]
  },
  {
   "cell_type": "code",
   "execution_count": 52,
   "metadata": {
    "collapsed": false
   },
   "outputs": [
    {
     "data": {
      "text/plain": [
       "(1, 2)"
      ]
     },
     "execution_count": 52,
     "metadata": {},
     "output_type": "execute_result"
    }
   ],
   "source": [
    "f()"
   ]
  },
  {
   "cell_type": "code",
   "execution_count": 55,
   "metadata": {
    "collapsed": false
   },
   "outputs": [
    {
     "data": {
      "text/plain": [
       "(3, 2)"
      ]
     },
     "execution_count": 55,
     "metadata": {},
     "output_type": "execute_result"
    }
   ],
   "source": [
    "f(3)"
   ]
  },
  {
   "cell_type": "code",
   "execution_count": 56,
   "metadata": {
    "collapsed": false
   },
   "outputs": [
    {
     "data": {
      "text/plain": [
       "(1, 3)"
      ]
     },
     "execution_count": 56,
     "metadata": {},
     "output_type": "execute_result"
    }
   ],
   "source": [
    "f(b = 3)"
   ]
  },
  {
   "cell_type": "code",
   "execution_count": 57,
   "metadata": {
    "collapsed": false
   },
   "outputs": [
    {
     "name": "stdout",
     "output_type": "stream",
     "text": [
      "[1, 5, 3]\n"
     ]
    }
   ],
   "source": [
    "# przypominamy sobie glebokie i plytkie kopiowanie\n",
    "x = [1, 2, 3]\n",
    "y = x\n",
    "y[1] = 5\n",
    "print(x)"
   ]
  },
  {
   "cell_type": "code",
   "execution_count": 58,
   "metadata": {
    "collapsed": false
   },
   "outputs": [
    {
     "data": {
      "text/plain": [
       "[1, 2, 3, 4]"
      ]
     },
     "execution_count": 58,
     "metadata": {},
     "output_type": "execute_result"
    }
   ],
   "source": [
    "def f(x, n):\n",
    "    x.append(n)\n",
    "    return x\n",
    "\n",
    "z = [1, 2, 3]\n",
    "x = f(z, 4)\n",
    "z # tutaj lista sie zmienila, przekazane przez wskaznik"
   ]
  },
  {
   "cell_type": "code",
   "execution_count": 59,
   "metadata": {
    "collapsed": false
   },
   "outputs": [
    {
     "data": {
      "text/plain": [
       "7"
      ]
     },
     "execution_count": 59,
     "metadata": {},
     "output_type": "execute_result"
    }
   ],
   "source": [
    "def f(x, n):\n",
    "    x += n\n",
    "    return x\n",
    "\n",
    "z = 7\n",
    "x = f(z, 3)\n",
    "z # tutaj liczba sie nie zmienila, przekazane przez wartosc"
   ]
  },
  {
   "cell_type": "code",
   "execution_count": 62,
   "metadata": {
    "collapsed": false
   },
   "outputs": [
    {
     "name": "stdout",
     "output_type": "stream",
     "text": [
      "28\n",
      "3\n"
     ]
    }
   ],
   "source": [
    "# zmienne lokalne\n",
    "def f(x):\n",
    "    z = 7\n",
    "    return x*z\n",
    "\n",
    "z = 3\n",
    "print(f(4))\n",
    "print(z) #z niezmieniony"
   ]
  },
  {
   "cell_type": "code",
   "execution_count": 64,
   "metadata": {
    "collapsed": false
   },
   "outputs": [
    {
     "name": "stdout",
     "output_type": "stream",
     "text": [
      "139756495269256\n",
      "[1]\n",
      "139756495269256\n",
      "[1, 2]\n",
      "139756495269256\n",
      "[1, 2, 3]\n"
     ]
    }
   ],
   "source": [
    "def f(a, L=[]):\n",
    "    print(id(L))\n",
    "    L.append(a)\n",
    "    return L\n",
    "\n",
    "print(f(1))\n",
    "print(f(2))\n",
    "print(f(3))\n",
    "\n",
    "# arg. domyslne sa obliczanie raz - przy tworzeniu f-cji, \n",
    "# wskaznik byl stworzony raz i jest caly czas tam trzymany\n",
    "# mimo zmiany listy\n",
    "# zalezy to od tego czy obiekt jest mutable czy immutable"
   ]
  },
  {
   "cell_type": "code",
   "execution_count": 75,
   "metadata": {
    "collapsed": false
   },
   "outputs": [
    {
     "name": "stdout",
     "output_type": "stream",
     "text": [
      "1\n",
      "2\n",
      "3\n"
     ]
    }
   ],
   "source": [
    "def zewn():\n",
    "    x = 0\n",
    "    def wewn():\n",
    "        nonlocal x # chodzi o jedno srodowisko wyzej, global jest tylko jedno\n",
    "        x += 1\n",
    "        print(x)\n",
    "    return wewn\n",
    "\n",
    "f = zewn() # zwraca nowa f-cje, ktora mozna wywolac (tak jak mogloby zwracac 7l)\n",
    "f()\n",
    "f()\n",
    "f()"
   ]
  },
  {
   "cell_type": "code",
   "execution_count": 77,
   "metadata": {
    "collapsed": false
   },
   "outputs": [
    {
     "data": {
      "text/plain": [
       "[1, 2, 3, 1]"
      ]
     },
     "execution_count": 77,
     "metadata": {},
     "output_type": "execute_result"
    }
   ],
   "source": [
    "def f():\n",
    "    global y #bez globala dziala\n",
    "    y.append(1)\n",
    "\n",
    "y = [1, 2, 3]\n",
    "f()\n",
    "y"
   ]
  },
  {
   "cell_type": "markdown",
   "metadata": {},
   "source": [
    "# Moduły i pakiety"
   ]
  },
  {
   "cell_type": "markdown",
   "metadata": {},
   "source": [
    "```python\n",
    "import nazwa_pakietu\n",
    "nazwa_pakietu.funkcja\n",
    "\n",
    "import nazwa_pakietu2 as p\n",
    "p.funkcja2\n",
    "```\n",
    "\n",
    "```python\n",
    "# NIEZALECANE !!!\n",
    "from nazwa_pakietu import *\n",
    "funkcja\n",
    "from nazwa_pakietu import funkcja\n",
    "funkcja\n",
    "```"
   ]
  },
  {
   "cell_type": "markdown",
   "metadata": {},
   "source": [
    "## Pakiet random\n",
    "https://docs.python.org/3/library/random.html"
   ]
  },
  {
   "cell_type": "markdown",
   "metadata": {},
   "source": [
    "** Zadanie **\n",
    "Wylosuj wartosc z rozkladu geom (f-cja), z param. `p`. $X_1, X_2, ... $ iid `Bern(p)`, poki nie bedzie sukcesu i zwracamy pierwsze $i$, ze $X_i$ jest sukcesem."
   ]
  },
  {
   "cell_type": "code",
   "execution_count": 171,
   "metadata": {
    "collapsed": false
   },
   "outputs": [
    {
     "data": {
      "text/plain": [
       "1"
      ]
     },
     "execution_count": 171,
     "metadata": {},
     "output_type": "execute_result"
    }
   ],
   "source": [
    "import random\n",
    "def geom(p):\n",
    "    '''\n",
    "    Generator liczb z rozkladu geometrycznego,\n",
    "    z p-stwem sukcesu p\n",
    "    '''\n",
    "    assert p > 0 and p < 1\n",
    "    i = 1\n",
    "    while random.uniform(0, 1) >= p:\n",
    "        i += 1\n",
    "    return i\n",
    "\n",
    "geom(0.5)"
   ]
  },
  {
   "cell_type": "markdown",
   "metadata": {},
   "source": [
    "Ciekawe f-cje w pakiecie: `randrange`, `randint`, `choice`, `shuffle`, `sample`, `random`, `uniform`, `gauss`, `paretovariate`"
   ]
  },
  {
   "cell_type": "code",
   "execution_count": 172,
   "metadata": {
    "collapsed": false
   },
   "outputs": [
    {
     "data": {
      "text/plain": [
       "[3, 4, 2, 5, 1]"
      ]
     },
     "execution_count": 172,
     "metadata": {},
     "output_type": "execute_result"
    }
   ],
   "source": [
    "x = [1, 2, 3, 4, 5]\n",
    "random.shuffle(x) # robi to w miejscu\n",
    "x"
   ]
  },
  {
   "cell_type": "code",
   "execution_count": 176,
   "metadata": {
    "collapsed": false
   },
   "outputs": [
    {
     "data": {
      "text/plain": [
       "[2, 3, 1]"
      ]
     },
     "execution_count": 176,
     "metadata": {},
     "output_type": "execute_result"
    }
   ],
   "source": [
    "x = [1, 2, 3, 4, 5]\n",
    "random.sample(x, 3) # losowanie bez zwracania"
   ]
  },
  {
   "cell_type": "code",
   "execution_count": 178,
   "metadata": {
    "collapsed": false
   },
   "outputs": [
    {
     "name": "stdout",
     "output_type": "stream",
     "text": [
      "0.052363598850944326\n",
      "0.08718667752263232\n",
      "0.4072417636703983\n",
      "0.10770023493843905\n",
      "0.9011988779516946\n"
     ]
    }
   ],
   "source": [
    "random.seed(123)\n",
    "for i in range(5):\n",
    "    print(random.random())"
   ]
  },
  {
   "cell_type": "code",
   "execution_count": 180,
   "metadata": {
    "collapsed": false
   },
   "outputs": [
    {
     "name": "stdout",
     "output_type": "stream",
     "text": [
      "0.3372166571092755\n",
      "0.3337963946289553\n",
      "0.24516335251761112\n",
      "0.0016705535792228554\n",
      "0.4362757934152184\n"
     ]
    }
   ],
   "source": [
    "for i in range(5):\n",
    "    print(random.random())"
   ]
  },
  {
   "cell_type": "code",
   "execution_count": 182,
   "metadata": {
    "collapsed": false
   },
   "outputs": [
    {
     "name": "stdout",
     "output_type": "stream",
     "text": [
      "0.052363598850944326\n",
      "0.08718667752263232\n",
      "0.4072417636703983\n",
      "0.10770023493843905\n",
      "0.9011988779516946\n"
     ]
    }
   ],
   "source": [
    "random.seed(123)\n",
    "for i in range(5):\n",
    "    print(random.random())\n",
    "# to samo co dwa wyzej"
   ]
  },
  {
   "cell_type": "markdown",
   "metadata": {},
   "source": [
    "## Pakiet math"
   ]
  },
  {
   "cell_type": "markdown",
   "metadata": {},
   "source": [
    "## Pakiet statistics"
   ]
  },
  {
   "cell_type": "code",
   "execution_count": 186,
   "metadata": {
    "collapsed": false
   },
   "outputs": [
    {
     "name": "stdout",
     "output_type": "stream",
     "text": [
      "-0.9999987317275395\n",
      "1.0043016091968684\n",
      "1307674368000\n"
     ]
    }
   ],
   "source": [
    "import math\n",
    "print(math.cos(3.14))\n",
    "print(math.log(2.73))\n",
    "print(math.factorial(15))"
   ]
  },
  {
   "cell_type": "code",
   "execution_count": 189,
   "metadata": {
    "collapsed": false
   },
   "outputs": [
    {
     "name": "stdout",
     "output_type": "stream",
     "text": [
      "2.5\n",
      "9.12071817347735\n"
     ]
    }
   ],
   "source": [
    "import statistics as st\n",
    "print(st.mean([1,2,3,4]))\n",
    "print(st.pstdev([1,2,23,3]))"
   ]
  },
  {
   "cell_type": "markdown",
   "metadata": {},
   "source": [
    "W naszych obliczeniach bedziemy korzystac z pochodnych pakietu `numpy`, ktory oferuje zwektoryzowane wersje powyzszych"
   ]
  }
 ],
 "metadata": {
  "kernelspec": {
   "display_name": "Python 3",
   "language": "python",
   "name": "python3"
  },
  "language_info": {
   "codemirror_mode": {
    "name": "ipython",
    "version": 3
   },
   "file_extension": ".py",
   "mimetype": "text/x-python",
   "name": "python",
   "nbconvert_exporter": "python",
   "pygments_lexer": "ipython3",
   "version": "3.4.3"
  }
 },
 "nbformat": 4,
 "nbformat_minor": 0
}
