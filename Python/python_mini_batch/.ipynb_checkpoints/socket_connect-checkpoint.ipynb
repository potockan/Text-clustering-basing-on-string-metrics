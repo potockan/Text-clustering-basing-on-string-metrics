{
 "cells": [
  {
   "cell_type": "code",
   "execution_count": null,
   "metadata": {
    "collapsed": true
   },
   "outputs": [],
   "source": [
    "# -*- coding: utf-8 -*-\n",
    "\"\"\"\n",
    "Created on Mon Aug 31 19:48:40 2015\n",
    "\n",
    "@author: natalia\n",
    "\"\"\"\n",
    "\n",
    "\n",
    "#################\n",
    "# Echo client program\n",
    "import socket\n",
    "\n",
    "HOST = \"192.168.0.11\"\n",
    "PORT = 50007\n",
    "s = socket.socket(socket.AF_INET, socket.SOCK_STREAM)\n",
    "s.connect((HOST, PORT))\n",
    "s.sendall(str([1,2,3,3]))\n",
    "data = s.recv(1024)\n",
    "s.close()\n",
    "print 'Received', repr(data)\n",
    "#################\n",
    "\n",
    "#################\n",
    "# Echo server program\n",
    "import socket\n",
    "\n",
    "HOST = ''                 # Symbolic name meaning all available interfaces\n",
    "PORT = 50007              # Arbitrary non-privileged port\n",
    "s = socket.socket(socket.AF_INET, socket.SOCK_STREAM)\n",
    "s.bind((HOST, PORT))\n",
    "s.listen(1)\n",
    "conn, addr = s.accept()\n",
    "print 'Connected by', addr\n",
    "while 1:\n",
    "    data = conn.recv(1024)\n",
    "    if not data: break\n",
    "    conn.sendall(data)\n",
    "conn.close()\n",
    "#################"
   ]
  },
  {
   "cell_type": "code",
   "execution_count": 5,
   "metadata": {
    "collapsed": false
   },
   "outputs": [],
   "source": [
    "####################################################################\n",
    "########################### improvements ###########################\n",
    "####################################################################\n",
    "\n",
    "\n",
    "#################\n",
    "# Echo client program\n",
    "import socket, pickle, numpy as np\n",
    "\n",
    "HOST = \"10.0.0.108\"\n",
    "PORT = 50007\n",
    "s = socket.socket(socket.AF_INET, socket.SOCK_STREAM)"
   ]
  },
  {
   "cell_type": "code",
   "execution_count": 6,
   "metadata": {
    "collapsed": false
   },
   "outputs": [],
   "source": [
    "s.connect((HOST, PORT))"
   ]
  },
  {
   "cell_type": "code",
   "execution_count": 7,
   "metadata": {
    "collapsed": false
   },
   "outputs": [
    {
     "data": {
      "text/plain": [
       "189"
      ]
     },
     "execution_count": 7,
     "metadata": {},
     "output_type": "execute_result"
    }
   ],
   "source": [
    "\n",
    "arr = np.array([[1, 2], [3, 4]])\n",
    "data_string = pickle.dumps(arr)\n",
    "s.send(data_string)\n"
   ]
  },
  {
   "cell_type": "code",
   "execution_count": null,
   "metadata": {
    "collapsed": false
   },
   "outputs": [],
   "source": [
    "\n",
    "data = s.recv(4096)\n",
    "data_arr = pickle.loads(data)\n",
    "s.close()\n",
    "print ('Received', repr(data_arr))"
   ]
  },
  {
   "cell_type": "code",
   "execution_count": null,
   "metadata": {
    "collapsed": true
   },
   "outputs": [],
   "source": [
    "#################\n",
    "# Echo server program\n",
    "import socket, pickle, numpy as np\n",
    "\n",
    "HOST = ''\n",
    "PORT = 50007\n",
    "s = socket.socket(socket.AF_INET, socket.SOCK_STREAM)\n",
    "s.bind((HOST, PORT))\n",
    "s.listen(1)\n",
    "conn, addr = s.accept()\n",
    "print 'Connected by', addr\n",
    "while 1:\n",
    "    data = conn.recv(4096)\n",
    "    if not data: break\n",
    "    L = pickle.loads(data)\n",
    "    L = np.vstack((L, np.array([[5,6]])))\n",
    "    data_out = pickle.dumps(L)\n",
    "    conn.send(data_out)\n",
    "conn.close()\n",
    "s.close()"
   ]
  }
 ],
 "metadata": {
  "kernelspec": {
   "display_name": "Python 3",
   "language": "python",
   "name": "python3"
  },
  "language_info": {
   "codemirror_mode": {
    "name": "ipython",
    "version": 3
   },
   "file_extension": ".py",
   "mimetype": "text/x-python",
   "name": "python",
   "nbconvert_exporter": "python",
   "pygments_lexer": "ipython3",
   "version": "3.4.3"
  }
 },
 "nbformat": 4,
 "nbformat_minor": 0
}
