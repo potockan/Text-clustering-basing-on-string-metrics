{
 "cells": [
  {
   "cell_type": "code",
   "execution_count": 1,
   "metadata": {
    "collapsed": false
   },
   "outputs": [
    {
     "data": {
      "text/plain": [
       "'/home/npotocka/mgr/Text-clustering-basing-on-string-metrics/Python/padpy/pd3'"
      ]
     },
     "execution_count": 1,
     "metadata": {},
     "output_type": "execute_result"
    }
   ],
   "source": [
    "import scipy.io.wavfile\n",
    "import os\n",
    "import numpy as np\n",
    "os.getcwd()"
   ]
  },
  {
   "cell_type": "code",
   "execution_count": 13,
   "metadata": {
    "collapsed": false
   },
   "outputs": [
    {
     "name": "stderr",
     "output_type": "stream",
     "text": [
      "/home/natalia/anaconda3/lib/python3.4/site-packages/scipy/io/wavfile.py:172: WavFileWarning: Chunk (non-data) not understood, skipping it.\n",
      "  WavFileWarning)\n"
     ]
    },
    {
     "data": {
      "text/plain": [
       "[\"Playing WAVE '../test8.wav' : Signed 16 bit Little Endian, Rate 44100 Hz, Mono\"]"
      ]
     },
     "execution_count": 13,
     "metadata": {},
     "output_type": "execute_result"
    }
   ],
   "source": [
    "fs1, y1 = scipy.io.wavfile.read(\"../Snare-Drum-2.wav\")\n",
    "fs2, y2 = scipy.io.wavfile.read(\"../Side-Stick-4.wav\")\n",
    "fs3, y3 = scipy.io.wavfile.read(\"../Deep-Kick.wav\")\n",
    "fs = fs1\n",
    "y1 = np.tile(y1[:len(y1/2)], 2)\n",
    "y2 = np.tile(y2[:len(y2/2)], 2)\n",
    "y3 = np.tile(y3[:len(y3/2)], 2)\n",
    "y = np.r_[y1, y2]\n",
    "#y = np.repeat(y, 4, axis = 0)\n",
    "y = np.tile(y, [4,4])\n",
    "y = np.mean(y, axis=1)\n",
    "y /= 32767\n",
    "\n",
    "\n",
    "scipy.io.wavfile.write(\"../test8.wav\", \n",
    "                       fs, \n",
    "                       np.int16(y/max(np.abs(y))*32767))\n",
    "!!aplay ../test8.wav"
   ]
  },
  {
   "cell_type": "code",
   "execution_count": 2,
   "metadata": {
    "collapsed": false
   },
   "outputs": [
    {
     "data": {
      "text/plain": [
       "'01\\n01\\n02\\n01\\n01\\n02\\n'"
      ]
     },
     "execution_count": 2,
     "metadata": {},
     "output_type": "execute_result"
    }
   ],
   "source": [
    "with open('utwor1/song.txt', 'r') as f:\n",
    "    song = f.read()\n",
    "song"
   ]
  },
  {
   "cell_type": "code",
   "execution_count": 3,
   "metadata": {
    "collapsed": false
   },
   "outputs": [
    {
     "name": "stdout",
     "output_type": "stream",
     "text": [
      "['01 02 03 04', '-- -- 03 --', '-- 02 03 --', '01 02 03 04', '-- -- 03 --', '-- 02 03 --', '-- -- -- --', '01 02 03 04', '-- -- 03 --', '-- 02 03 --', '01 02 03 04', '-- -- 03 --', '-- 02 03 --', '01 02 03 04', '-- -- 03 --', '-- 02 03 --', '-- -- -- --', '01 02 03 04', '-- -- 03 --', '-- 02 03 --', '01 -- 03 04', '01 -- 03 --', '-- 02 03 --', '01 02 03 04', '01 -- 03 04', '01 -- 03 --', '-- -- 03 --', '-- 02 03 --', '01 02 03 04', '01 -- 03 04', '01 -- 03 --', '-- 02 03 --', '01 02 03 04', '-- -- 03 --', '-- 02 03 --', '01 02 03 04', '-- -- 03 --', '-- 02 03 --', '-- -- -- --', '01 02 03 04', '-- -- 03 --', '-- 02 03 --', '01 02 03 04', '-- -- 03 --', '-- 02 03 --', '01 02 03 04', '-- -- 03 --', '-- 02 03 --', '-- -- -- --', '01 02 03 04', '-- -- 03 --', '-- 02 03 --', '01 -- 03 04', '01 -- 03 --', '-- 02 03 --', '01 02 03 04', '01 -- 03 04', '01 -- 03 --', '-- -- 03 --', '-- 02 03 --', '01 02 03 04', '01 -- 03 04', '01 -- 03 --', '-- 02 03 --']\n"
     ]
    }
   ],
   "source": [
    "tracks = []\n",
    "for i in song.splitlines():\n",
    "    with open('utwor1/track' + i +'.txt', 'r') as f:\n",
    "           tracks += (f.read().splitlines())\n",
    "            \n",
    "print(tracks)"
   ]
  },
  {
   "cell_type": "code",
   "execution_count": 4,
   "metadata": {
    "collapsed": false
   },
   "outputs": [
    {
     "name": "stdout",
     "output_type": "stream",
     "text": [
      "['01', '02', '03', '04']\n"
     ]
    }
   ],
   "source": [
    "sample = []\n",
    "for i in set(tracks):\n",
    "    sample += i.split()\n",
    "sample = [i for i in list(set(sample)) if i != '--']\n",
    "sample.sort()\n",
    "print(sample)"
   ]
  },
  {
   "cell_type": "code",
   "execution_count": 5,
   "metadata": {
    "collapsed": false
   },
   "outputs": [
    {
     "name": "stdout",
     "output_type": "stream",
     "text": [
      "(25448, 2)\n",
      "(115535, 2)\n",
      "(13038, 2)\n",
      "(15313, 2)\n"
     ]
    },
    {
     "name": "stderr",
     "output_type": "stream",
     "text": [
      "/home/npotocka/anaconda3/lib/python3.4/site-packages/scipy/io/wavfile.py:172: WavFileWarning: Chunk (non-data) not understood, skipping it.\n",
      "  WavFileWarning)\n"
     ]
    }
   ],
   "source": [
    "fs = []\n",
    "y = []\n",
    "for i, s in enumerate(sample):\n",
    "    fs1, y1 = scipy.io.wavfile.read('./utwor1/sample' + s + '.wav')\n",
    "    fs.append(fs1)\n",
    "    y.append(y1)\n",
    "    \n",
    "for x in y:\n",
    "    print(x.shape) \n",
    "    \n",
    "s = min([x.shape[0] for x in y])\n",
    "y = [x[:s] for x in y]\n",
    "# y2 = np.zeros((1, 4))\n",
    "\n",
    "# for x in y:\n",
    "#     y2 = np.r_[y2 + np.tile(x, 2)]"
   ]
  },
  {
   "cell_type": "code",
   "execution_count": 12,
   "metadata": {
    "collapsed": false
   },
   "outputs": [
    {
     "name": "stdout",
     "output_type": "stream",
     "text": [
      "(847470, 4)\n"
     ]
    }
   ],
   "source": [
    "y2 = np.zeros(1)\n",
    "for a,i in enumerate(tracks):\n",
    "    idx = {x for x in set(i.split()) if x != '--'}\n",
    "    if idx:\n",
    "        #idx\n",
    "        kk = []\n",
    "        for j in idx:\n",
    "            kk.append(sample.index(j))\n",
    "        y3 = np.zeros(1)\n",
    "        for x in kk:\n",
    "            y3 = np.r_[y3 + np.tile(y[x], 2)]\n",
    "        if a == 0:\n",
    "            y2 = y3.copy()\n",
    "        y2 = np.r_[y2,y3]\n",
    "    else:\n",
    "        y2 = np.r_[y2,np.zeros((s, 4))]\n",
    "    \n",
    "print(y2.shape)"
   ]
  },
  {
   "cell_type": "code",
   "execution_count": 13,
   "metadata": {
    "collapsed": false
   },
   "outputs": [
    {
     "name": "stdout",
     "output_type": "stream",
     "text": [
      "[[ -103.   -44.  -103.   -44.]\n",
      " [  -97.  -235.   -97.  -235.]\n",
      " [  994.   493.   994.   493.]\n",
      " ..., \n",
      " [-1066. -2108. -1066. -2108.]\n",
      " [-1126. -1967. -1126. -1967.]\n",
      " [-1072. -1712. -1072. -1712.]]\n",
      "float64\n",
      "<class 'numpy.ndarray'>\n",
      "[-0.00224311 -0.00506607  0.02269051 ..., -0.04843287 -0.04719687\n",
      " -0.04248177]\n",
      "[  -48  -110   494 ..., -1055 -1028  -925]\n",
      "(847470,)\n"
     ]
    }
   ],
   "source": [
    "print(y2)\n",
    "y2 = np.mean(y2, axis=1)\n",
    "y2 /= 32767\n",
    "print(y2.dtype)\n",
    "print(type(np.int16(y2/max(np.abs(y2))*32767)))\n",
    "print(y2)\n",
    "print(np.int16(y2/max(np.abs(y2))*32767))\n",
    "print(y2.shape)\n",
    "#?scipy.io.wavfile.write\n",
    "\n",
    "scipy.io.wavfile.write(\"pd_proba1.wav\", \n",
    "                       fs[0], \n",
    "                       np.int16(y2/max(np.abs(y2))*32767))\n",
    "!!aplay pd_proba1.wav\n",
    "os.remove(\"pd_proba1.wav\")"
   ]
  },
  {
   "cell_type": "code",
   "execution_count": null,
   "metadata": {
    "collapsed": true
   },
   "outputs": [],
   "source": []
  }
 ],
 "metadata": {
  "kernelspec": {
   "display_name": "Python 3",
   "language": "python",
   "name": "python3"
  },
  "language_info": {
   "codemirror_mode": {
    "name": "ipython",
    "version": 3
   },
   "file_extension": ".py",
   "mimetype": "text/x-python",
   "name": "python",
   "nbconvert_exporter": "python",
   "pygments_lexer": "ipython3",
   "version": "3.4.3"
  }
 },
 "nbformat": 4,
 "nbformat_minor": 0
}
