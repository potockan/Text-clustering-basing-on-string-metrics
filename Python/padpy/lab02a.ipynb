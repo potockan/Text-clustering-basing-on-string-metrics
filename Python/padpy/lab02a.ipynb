{
 "cells": [
  {
   "cell_type": "markdown",
   "metadata": {},
   "source": [
    "# Intrukcje sterujące"
   ]
  },
  {
   "cell_type": "code",
   "execution_count": 2,
   "metadata": {
    "collapsed": false
   },
   "outputs": [
    {
     "ename": "IndentationError",
     "evalue": "expected an indented block (<ipython-input-2-474b1538c374>, line 4)",
     "output_type": "error",
     "traceback": [
      "\u001b[1;36m  File \u001b[1;32m\"<ipython-input-2-474b1538c374>\"\u001b[1;36m, line \u001b[1;32m4\u001b[0m\n\u001b[1;33m    elif inny_warunek:\u001b[0m\n\u001b[1;37m       ^\u001b[0m\n\u001b[1;31mIndentationError\u001b[0m\u001b[1;31m:\u001b[0m expected an indented block\n"
     ]
    }
   ],
   "source": [
    "if warunek_logiczny:\n",
    "    # co sie dzieje\n",
    "    # gdy war. log. jesy spelniony\n",
    "elif inny_warunek:\n",
    "    # itd.\n",
    "elif jeszcze_jeden:\n",
    "    # itd.\n",
    "else:\n",
    "    # itd.\n",
    "    \n",
    "# oczywiscie czesci elif.. oraz else.. moga byc pominieta"
   ]
  },
  {
   "cell_type": "code",
   "execution_count": 3,
   "metadata": {
    "collapsed": false
   },
   "outputs": [
    {
     "name": "stdout",
     "output_type": "stream",
     "text": [
      "wiekszy od 4\n"
     ]
    }
   ],
   "source": [
    "x = 5\n",
    "if x > 4:\n",
    "    print(\"wiekszy od 4\")\n",
    "else:\n",
    "    print(\"nie wiekszy od 4\")"
   ]
  },
  {
   "cell_type": "code",
   "execution_count": 5,
   "metadata": {
    "collapsed": false
   },
   "outputs": [
    {
     "name": "stdout",
     "output_type": "stream",
     "text": [
      "nie wiekszy od 4\n",
      "4\n"
     ]
    }
   ],
   "source": [
    "# gdy tylko jedna linia:\n",
    "x = 4\n",
    "if x > 4: print(\"wiekszy od 4\")\n",
    "else: print(\"nie wiekszy od 4\"); print(\"4\") #ale tak b. brzydko"
   ]
  },
  {
   "cell_type": "code",
   "execution_count": 6,
   "metadata": {
    "collapsed": true
   },
   "outputs": [],
   "source": [
    "# operator ?? \"ternaty operator\"\n",
    "y = True if x > 4 else False"
   ]
  },
  {
   "cell_type": "code",
   "execution_count": 7,
   "metadata": {
    "collapsed": false
   },
   "outputs": [
    {
     "data": {
      "text/plain": [
       "False"
      ]
     },
     "execution_count": 7,
     "metadata": {},
     "output_type": "execute_result"
    }
   ],
   "source": [
    "y"
   ]
  },
  {
   "cell_type": "markdown",
   "metadata": {},
   "source": [
    "Dobre praktyki nt. pisania kodu\n",
    "* 4 spacje - wciecia\n",
    "* zawijanie wierszy (liczba znakow w wierszu <= 79)\n",
    "* spacje tak: `a = 1 + 2`, a nie `a=1+ 2`\n",
    "* wywolanie f-cji `a = f(2, 3)`\n",
    "* zmienna, nazwa_funkcji, nazwa_metody, NazwaKlasy"
   ]
  },
  {
   "cell_type": "markdown",
   "metadata": {
    "collapsed": true
   },
   "source": [
    "```python\n",
    "while warunek:\n",
    "    # co robimy\n",
    "    # pokki war\n",
    "    # jest spelniony\n",
    "```"
   ]
  },
  {
   "cell_type": "markdown",
   "metadata": {},
   "source": [
    "**Zadanie** Napisz f-cje `logarytm()`, ktora dla danego `n` oblicza $\\max\\{k \\in N_0: 2^k \\leq n\\}$"
   ]
  },
  {
   "cell_type": "code",
   "execution_count": 14,
   "metadata": {
    "collapsed": false
   },
   "outputs": [
    {
     "data": {
      "text/plain": [
       "9"
      ]
     },
     "execution_count": 14,
     "metadata": {},
     "output_type": "execute_result"
    }
   ],
   "source": [
    "def logarytm(n):\n",
    "    '''\n",
    "    funkcja wyznaczajaca cos jak logarytm\n",
    "    '''\n",
    "    k = 0\n",
    "    s = 1\n",
    "    while s <= n:\n",
    "        s *= 2\n",
    "        k += 1  \n",
    "    return k-1\n",
    "\n",
    "logarytm(1000)"
   ]
  },
  {
   "cell_type": "markdown",
   "metadata": {},
   "source": [
    "```python\n",
    "for nazwa in obiekt_iterowalny:\n",
    "    # zrob cos w obiekcie nazwa\n",
    "    # w kolejnej iteracji\n",
    "    # bedzie to kolejny elem\n",
    "    # obiektu_iterowalnego\n",
    "```"
   ]
  },
  {
   "cell_type": "markdown",
   "metadata": {},
   "source": [
    "** Zadanie ** \n",
    "Napisz f-cje `minimaks()`, ktora dla danej listy zwarca jako krotke elem. najmn. i najw.\n",
    "(najlepiej uzyc tylko jednej petli `for`)"
   ]
  },
  {
   "cell_type": "code",
   "execution_count": 19,
   "metadata": {
    "collapsed": false
   },
   "outputs": [
    {
     "name": "stdout",
     "output_type": "stream",
     "text": [
      "(0, 9)\n",
      "('a', 't')\n"
     ]
    }
   ],
   "source": [
    "def minimaks(x):\n",
    "    '''\n",
    "    Zwraca minimum i maksimum z danego obiektu sekwencyjnego x\n",
    "    '''\n",
    "    mn = x[0]\n",
    "    mx = x[0]\n",
    "    for i in x[1:]:\n",
    "        if i < mn:   mn = i\n",
    "        elif i > mx: mx = i\n",
    "            \n",
    "    return (mn, mx)\n",
    "\n",
    "print(minimaks([1,4,7,3,9,6,0,9,3]))\n",
    "print(minimaks('alamakota'))        "
   ]
  },
  {
   "cell_type": "markdown",
   "metadata": {},
   "source": [
    "** Zadanie ** Napisz f-cje min3, ktora zwaraca 3. najmn. element w danym obiekcie iterowalnym"
   ]
  },
  {
   "cell_type": "code",
   "execution_count": 23,
   "metadata": {
    "collapsed": false
   },
   "outputs": [
    {
     "data": {
      "text/plain": [
       "['ala', 'ma', 'kotka', 'pieknego']"
      ]
     },
     "execution_count": 23,
     "metadata": {},
     "output_type": "execute_result"
    }
   ],
   "source": [
    "words = ['ala', 'ma', 'kotka', 'pieknego']\n",
    "for w in words:\n",
    "    if len(w) > 3:\n",
    "        w = w + \"!\" # nie mozemy zmodyfikowac elementow w liscie\n",
    "        \n",
    "words"
   ]
  },
  {
   "cell_type": "code",
   "execution_count": 26,
   "metadata": {
    "collapsed": false
   },
   "outputs": [
    {
     "data": {
      "text/plain": [
       "[1, 2, 3]"
      ]
     },
     "execution_count": 26,
     "metadata": {},
     "output_type": "execute_result"
    }
   ],
   "source": [
    "words = [1, 2, 3]\n",
    "for w in words:\n",
    "    w += 1\n",
    "        \n",
    "words # nie zmienia wartosci"
   ]
  },
  {
   "cell_type": "code",
   "execution_count": 29,
   "metadata": {
    "collapsed": false
   },
   "outputs": [
    {
     "data": {
      "text/plain": [
       "[[1], [1], [1]]"
      ]
     },
     "execution_count": 29,
     "metadata": {},
     "output_type": "execute_result"
    }
   ],
   "source": [
    "words = [[], [], []]\n",
    "for w in words:\n",
    "    w.append(1)\n",
    "        \n",
    "words # nie zmienia wartosci"
   ]
  },
  {
   "cell_type": "code",
   "execution_count": 31,
   "metadata": {
    "collapsed": false
   },
   "outputs": [
    {
     "ename": "KeyboardInterrupt",
     "evalue": "",
     "output_type": "error",
     "traceback": [
      "\u001b[1;31m---------------------------------------------------------------------------\u001b[0m",
      "\u001b[1;31mKeyboardInterrupt\u001b[0m                         Traceback (most recent call last)",
      "\u001b[1;32m<ipython-input-31-9762e9b3c1e1>\u001b[0m in \u001b[0;36m<module>\u001b[1;34m()\u001b[0m\n\u001b[0;32m      1\u001b[0m \u001b[0mwords\u001b[0m \u001b[1;33m=\u001b[0m \u001b[1;33m[\u001b[0m\u001b[1;33m[\u001b[0m\u001b[1;33m]\u001b[0m\u001b[1;33m,\u001b[0m \u001b[1;33m[\u001b[0m\u001b[1;33m]\u001b[0m\u001b[1;33m,\u001b[0m \u001b[1;33m[\u001b[0m\u001b[1;33m]\u001b[0m\u001b[1;33m]\u001b[0m\u001b[1;33m\u001b[0m\u001b[0m\n\u001b[0;32m      2\u001b[0m \u001b[1;32mfor\u001b[0m \u001b[0mw\u001b[0m \u001b[1;32min\u001b[0m \u001b[0mwords\u001b[0m\u001b[1;33m:\u001b[0m\u001b[1;33m\u001b[0m\u001b[0m\n\u001b[1;32m----> 3\u001b[1;33m     \u001b[0mwords\u001b[0m\u001b[1;33m.\u001b[0m\u001b[0mappend\u001b[0m\u001b[1;33m(\u001b[0m\u001b[1;36m1\u001b[0m\u001b[1;33m)\u001b[0m \u001b[1;31m#petla nieskonczona, bo w kazdej iteracji cos dodajemy\u001b[0m\u001b[1;33m\u001b[0m\u001b[0m\n\u001b[0m\u001b[0;32m      4\u001b[0m \u001b[1;33m\u001b[0m\u001b[0m\n\u001b[0;32m      5\u001b[0m \u001b[0mwords\u001b[0m \u001b[1;31m# nie zmienia wartosci\u001b[0m\u001b[1;33m\u001b[0m\u001b[0m\n",
      "\u001b[1;31mKeyboardInterrupt\u001b[0m: "
     ]
    }
   ],
   "source": [
    "words = [[], [], []]\n",
    "for w in words:\n",
    "    words.append(1) #petla nieskonczona, bo w kazdej iteracji cos dodajemy\n",
    "        \n",
    "words # nie zmienia wartosci"
   ]
  },
  {
   "cell_type": "code",
   "execution_count": 32,
   "metadata": {
    "collapsed": false
   },
   "outputs": [
    {
     "data": {
      "text/plain": [
       "[[], [], [], 1, 1, 1]"
      ]
     },
     "execution_count": 32,
     "metadata": {},
     "output_type": "execute_result"
    }
   ],
   "source": [
    "words = [[], [], []]\n",
    "for w in words[:]: # kopia uwaga!\n",
    "    words.append(1) #petla nieskonczona, bo w kazdej iteracji cos dodajemy\n",
    "        \n",
    "words # nie zmienia wartosci"
   ]
  },
  {
   "cell_type": "code",
   "execution_count": 34,
   "metadata": {
    "collapsed": true
   },
   "outputs": [],
   "source": [
    "# break \n",
    "# continue"
   ]
  },
  {
   "cell_type": "markdown",
   "metadata": {},
   "source": [
    "** Zadanie ** \n",
    "Napisz f-cje `pierwsza()`, ktora sprawdza, czy dana liczba naturalna jest liczba pierwsza, czyli czy dzieli sie tylko przez się oraz 1."
   ]
  },
  {
   "cell_type": "code",
   "execution_count": 45,
   "metadata": {
    "collapsed": false
   },
   "outputs": [
    {
     "name": "stdout",
     "output_type": "stream",
     "text": [
      "1 True\n",
      "2 True\n",
      "3 True\n",
      "4 False\n",
      "5 True\n",
      "6 False\n",
      "7 True\n",
      "8 False\n",
      "9 False\n",
      "10 False\n",
      "11 True\n",
      "12 False\n",
      "13 True\n",
      "14 False\n"
     ]
    }
   ],
   "source": [
    "from math import floor\n",
    "\n",
    "def pierwsza(n):\n",
    "    '''\n",
    "    Sprawdza czy f-cja jest pierwsza\n",
    "    '''\n",
    "    for i in range(2, floor(n**0.5)+1):\n",
    "        if n % i == 0: \n",
    "            #print(\"liczba nie jest pierwsza\")\n",
    "            return False\n",
    "    return True\n",
    "        \n",
    "for i in range(1, 15):\n",
    "    print(i, pierwsza(i))"
   ]
  },
  {
   "cell_type": "code",
   "execution_count": 47,
   "metadata": {
    "collapsed": false
   },
   "outputs": [
    {
     "name": "stdout",
     "output_type": "stream",
     "text": [
      "1 True\n",
      "2 True\n",
      "3 True\n",
      "4 False\n",
      "5 True\n",
      "6 False\n",
      "7 True\n",
      "8 False\n",
      "9 False\n",
      "10 False\n",
      "11 True\n",
      "12 False\n",
      "13 True\n",
      "14 False\n"
     ]
    }
   ],
   "source": [
    "def pierwsza(n):\n",
    "    '''\n",
    "    Sprawdza czy f-cja jest pierwsza\n",
    "    '''\n",
    "    k = 2\n",
    "    while k <= n ** 0.5:\n",
    "        if n % k == 0:\n",
    "            wynik = False\n",
    "            break\n",
    "        k += 1\n",
    "    else: #wywolanie przez niespelnienie warunku, a nie breaka\n",
    "        wynik = True\n",
    "    return wynik\n",
    "        \n",
    "for i in range(1, 15):\n",
    "    print(i, pierwsza(i))"
   ]
  },
  {
   "cell_type": "markdown",
   "metadata": {},
   "source": [
    "** Zadanie **\n",
    "Napisz f-cje `which_max(x)`, ktora zwraca\n",
    "indeks pierwszego elementu, ktory jest maksimum z danej listy x"
   ]
  },
  {
   "cell_type": "code",
   "execution_count": 51,
   "metadata": {
    "collapsed": false
   },
   "outputs": [
    {
     "data": {
      "text/plain": [
       "2"
      ]
     },
     "execution_count": 51,
     "metadata": {},
     "output_type": "execute_result"
    }
   ],
   "source": [
    "def which_max(x):\n",
    "    mx = x[0]\n",
    "    imx = 0\n",
    "    for i in range(len(x[1:])):\n",
    "        if mx < x[i]:\n",
    "            mx = x[i]\n",
    "            imx = i\n",
    "    return imx\n",
    "\n",
    "which_max([4,5,6,5,6])        "
   ]
  },
  {
   "cell_type": "markdown",
   "metadata": {},
   "source": [
    "** Zadanie **\n",
    "Napisz f-cje `pierwsza_dod(x)`, ktora zwraca\n",
    "indeks pierwszego elementu, ktory jest dodatni w danej liscie x"
   ]
  },
  {
   "cell_type": "code",
   "execution_count": 55,
   "metadata": {
    "collapsed": false
   },
   "outputs": [
    {
     "data": {
      "text/plain": [
       "3"
      ]
     },
     "execution_count": 55,
     "metadata": {},
     "output_type": "execute_result"
    }
   ],
   "source": [
    "def pierwsza_dod(x):\n",
    "    imx = 0\n",
    "    for i in range(len(x[1:])):\n",
    "        if 0 < x[i]:\n",
    "            imx = i\n",
    "            break\n",
    "    return imx\n",
    "\n",
    "pierwsza_dod([-4,-5,-6,5,6])    "
   ]
  },
  {
   "cell_type": "code",
   "execution_count": 59,
   "metadata": {
    "collapsed": false
   },
   "outputs": [
    {
     "data": {
      "text/plain": [
       "[(1, 'aga'), (1, 'ala'), (2, 'kamil'), (3, 'romek'), (4, 'jola')]"
      ]
     },
     "execution_count": 59,
     "metadata": {},
     "output_type": "execute_result"
    }
   ],
   "source": [
    "# funckje anonimowa (wyrazenia lambda)\n",
    "# przydaha sie, gdy chcemy stworzyc \n",
    "# jednolinijkowa f-cje inline\n",
    "pary =[\n",
    "    (1, 'ala'),\n",
    "    (4, 'jola'),\n",
    "    (3, 'romek'),\n",
    "    (2, 'kamil'),\n",
    "    (1, 'aga')\n",
    "]\n",
    "\n",
    "pary.sort() \n",
    "# sortuje leksykograficzne, \n",
    "# pierwszy z pierwszej pary,\n",
    "# drugi z pierwszej pary (jesli wczesniejsze sa rowne),...\n",
    "pary"
   ]
  },
  {
   "cell_type": "code",
   "execution_count": 62,
   "metadata": {
    "collapsed": false
   },
   "outputs": [
    {
     "data": {
      "text/plain": [
       "[(1, 'aga'), (1, 'ala'), (4, 'jola'), (2, 'kamil'), (3, 'romek')]"
      ]
     },
     "execution_count": 62,
     "metadata": {},
     "output_type": "execute_result"
    }
   ],
   "source": [
    "def kryterium(para):\n",
    "    return para[1]\n",
    "    \n",
    "pary.sort(key = kryterium) # sortujemy po drugim elemencie\n",
    "pary"
   ]
  },
  {
   "cell_type": "code",
   "execution_count": 64,
   "metadata": {
    "collapsed": false
   },
   "outputs": [
    {
     "data": {
      "text/plain": [
       "[(1, 'aga'), (1, 'ala'), (4, 'jola'), (2, 'kamil'), (3, 'romek')]"
      ]
     },
     "execution_count": 64,
     "metadata": {},
     "output_type": "execute_result"
    }
   ],
   "source": [
    "# zeby nie tworzyc f-cji\n",
    "pary.sort(key = lambda para: para[1]) # lambda nazwa_argumentu1, nazwa_argumentu2: to_co_zwracamy (bez return!)\n",
    "pary"
   ]
  },
  {
   "cell_type": "code",
   "execution_count": null,
   "metadata": {
    "collapsed": true
   },
   "outputs": [],
   "source": []
  }
 ],
 "metadata": {
  "kernelspec": {
   "display_name": "Python 3",
   "language": "python",
   "name": "python3"
  },
  "language_info": {
   "codemirror_mode": {
    "name": "ipython",
    "version": 3
   },
   "file_extension": ".py",
   "mimetype": "text/x-python",
   "name": "python",
   "nbconvert_exporter": "python",
   "pygments_lexer": "ipython3",
   "version": "3.4.3"
  }
 },
 "nbformat": 4,
 "nbformat_minor": 0
}
