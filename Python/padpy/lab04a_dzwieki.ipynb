{
 "cells": [
  {
   "cell_type": "code",
   "execution_count": 8,
   "metadata": {
    "collapsed": false
   },
   "outputs": [],
   "source": [
    "import numpy as np\n",
    "\n",
    "T = 5\n",
    "fs = 44100\n",
    "f = (432-216)/10*5 + 216\n",
    "t = np.linspace(0,T,fs*T)\n",
    "y = np.sin(2*np.pi*f*t)"
   ]
  },
  {
   "cell_type": "code",
   "execution_count": 9,
   "metadata": {
    "collapsed": false
   },
   "outputs": [
    {
     "data": {
      "text/plain": [
       "[\"Playing WAVE '/home/samba/potockan/python/test2.wav' : Signed 16 bit Little Endian, Rate 44100 Hz, Mono\"]"
      ]
     },
     "execution_count": 9,
     "metadata": {},
     "output_type": "execute_result"
    }
   ],
   "source": [
    "import scipy.io.wavfile\n",
    "scipy.io.wavfile.write(\"/home/samba/potockan/python/test2.wav\", \n",
    "                       fs, \n",
    "                       np.int16(y/max(np.abs(y))*32767))\n",
    "!!aplay /home/samba/potockan/python/test2.wav"
   ]
  },
  {
   "cell_type": "code",
   "execution_count": 27,
   "metadata": {
    "collapsed": false
   },
   "outputs": [
    {
     "data": {
      "image/png": "[encoded data removed]",
      "text/plain": [
       "<matplotlib.figure.Figure at 0x7f6f85fbd240>"
      ]
     },
     "metadata": {},
     "output_type": "display_data"
    }
   ],
   "source": [
    "import matplotlib.pylab as plt\n",
    "%matplotlib inline\n",
    "plt.plot(t[0:1000], y[0:1000])\n",
    "plt.show()"
   ]
  },
  {
   "cell_type": "code",
   "execution_count": 58,
   "metadata": {
    "collapsed": false
   },
   "outputs": [],
   "source": [
    "const = 457.69/432"
   ]
  },
  {
   "cell_type": "code",
   "execution_count": 66,
   "metadata": {
    "collapsed": false
   },
   "outputs": [
    {
     "data": {
      "text/plain": [
       "[\"Playing WAVE '/home/samba/potockan/python/test3.wav' : Signed 16 bit Little Endian, Rate 44100 Hz, Mono\"]"
      ]
     },
     "execution_count": 66,
     "metadata": {},
     "output_type": "execute_result"
    }
   ],
   "source": [
    "T = 1\n",
    "fs = 44100\n",
    "f = 432\n",
    "f1 = [np.r_[f, f*const**3, f*const**5]]\n",
    "t = np.linspace(0,T,fs*T)\n",
    "\n",
    "y = np.r_[np.sin(2*np.pi*f*t), \n",
    "          np.sin(2*np.pi*f*(const**3)*t), \n",
    "          np.sin(2*np.pi*f*(const**7)*t) ]\n",
    "\n",
    "scipy.io.wavfile.write(\"/home/samba/potockan/python/test3.wav\", \n",
    "                       fs, \n",
    "                       np.int16(y/max(np.abs(y))*32767))\n",
    "!!aplay /home/samba/potockan/python/test3.wav"
   ]
  },
  {
   "cell_type": "code",
   "execution_count": 84,
   "metadata": {
    "collapsed": false
   },
   "outputs": [
    {
     "data": {
      "text/plain": [
       "[\"Playing WAVE '/home/samba/potockan/python/test4.wav' : Signed 16 bit Little Endian, Rate 44100 Hz, Mono\"]"
      ]
     },
     "execution_count": 84,
     "metadata": {},
     "output_type": "execute_result"
    }
   ],
   "source": [
    "T = 3\n",
    "fs = 44100\n",
    "f = 432\n",
    "t = np.linspace(0,T,fs*T)\n",
    "\n",
    "y = np.r_[np.sin(2*np.pi*f*t) +\n",
    "          np.sin(2*np.pi*f*(const**3)*t) +\n",
    "          np.sin(2*np.pi*f*(const**7)*t) ]\n",
    "\n",
    "scipy.io.wavfile.write(\"/home/samba/potockan/python/test4.wav\", \n",
    "                       fs, \n",
    "                       np.int16(y/max(np.abs(y))*32767))\n",
    "!!aplay /home/samba/potockan/python/test4.wav"
   ]
  },
  {
   "cell_type": "code",
   "execution_count": 82,
   "metadata": {
    "collapsed": false
   },
   "outputs": [
    {
     "name": "stdout",
     "output_type": "stream",
     "text": [
      "[ 0.  1.  1. ..., -1. -1. -1.]\n"
     ]
    },
    {
     "data": {
      "text/plain": [
       "[\"Playing WAVE '/home/samba/potockan/python/test5.wav' : Signed 16 bit Little Endian, Rate 44100 Hz, Mono\"]"
      ]
     },
     "execution_count": 82,
     "metadata": {},
     "output_type": "execute_result"
    }
   ],
   "source": [
    "T = 1\n",
    "fs = 44100\n",
    "f = 432\n",
    "t = np.linspace(0,T,fs*T)\n",
    "\n",
    "y = np.r_[np.sin(2*np.pi*f*t)]\n",
    "y = np.sign(y)\n",
    "print(y)\n",
    "\n",
    "scipy.io.wavfile.write(\"/home/samba/potockan/python/test5.wav\", \n",
    "                       fs, \n",
    "                       np.int16(y/max(np.abs(y))*32767))\n",
    "!!aplay /home/samba/potockan/python/test5.wav"
   ]
  },
  {
   "cell_type": "code",
   "execution_count": 93,
   "metadata": {
    "collapsed": false
   },
   "outputs": [
    {
     "data": {
      "text/plain": [
       "[\"Playing WAVE '/home/samba/potockan/python/test6.wav' : Signed 16 bit Little Endian, Rate 44100 Hz, Mono\"]"
      ]
     },
     "execution_count": 93,
     "metadata": {},
     "output_type": "execute_result"
    },
    {
     "data": {
      "image/png": "[encoded data removed]",
      "text/plain": [
       "<matplotlib.figure.Figure at 0x7f8cea869898>"
      ]
     },
     "metadata": {},
     "output_type": "display_data"
    }
   ],
   "source": [
    "import scipy.signal\n",
    "t = np.linspace(0, 1, 500)\n",
    "plt.plot(t, scipy.signal.sawtooth(2 * np.pi * 5 * t))\n",
    "\n",
    "T = 1\n",
    "fs = 44100\n",
    "f = 432\n",
    "t = np.linspace(0,T,fs*T)\n",
    "\n",
    "y = scipy.signal.sawtooth(2*np.pi*f*t)\n",
    "\n",
    "\n",
    "scipy.io.wavfile.write(\"/home/samba/potockan/python/test6.wav\", \n",
    "                       fs, \n",
    "                       np.int16(y/max(np.abs(y))*32767))\n",
    "!!aplay /home/samba/potockan/python/test6.wav"
   ]
  },
  {
   "cell_type": "code",
   "execution_count": 23,
   "metadata": {
    "collapsed": true
   },
   "outputs": [],
   "source": [
    "import numpy as np\n",
    "def dzwiek(f, T, a, d):\n",
    "    fs = 44100\n",
    "    t = np.linspace(0,T,fs*T)\n",
    "    y = np.sin(2*np.pi*f*t)\n",
    "    zaokr = np.round(len(y)*a)\n",
    "    zaokr1 = np.round(len(y)*d)\n",
    "    y[0:zaokr] *= np.linspace(0, 1, zaokr)\n",
    "    y[-zaokr1:] *= np.linspace(0, 1, zaokr1)\n",
    "    return y"
   ]
  },
  {
   "cell_type": "code",
   "execution_count": 24,
   "metadata": {
    "collapsed": false,
    "scrolled": true
   },
   "outputs": [
    {
     "name": "stdout",
     "output_type": "stream",
     "text": [
      "[  0.00000000e+00   2.78974078e-06   1.11378326e-05 ...,  -1.22777897e-01\n",
      "  -6.15082047e-02  -1.09748161e-12]\n"
     ]
    },
    {
     "data": {
      "text/plain": [
       "[\"Playing WAVE '/home/samba/potockan/python/test7.wav' : Signed 16 bit Little Endian, Rate 44100 Hz, Mono\"]"
      ]
     },
     "execution_count": 24,
     "metadata": {},
     "output_type": "execute_result"
    }
   ],
   "source": [
    "y = dzwiek(432, 5, 0.1, 0.1)\n",
    "print(y)\n",
    "scipy.io.wavfile.write(\"/home/samba/potockan/python/test7.wav\", \n",
    "                       fs, \n",
    "                       np.int16(y/max(np.abs(y))*32767))\n",
    "!!aplay /home/samba/potockan/python/test7.wav"
   ]
  },
  {
   "cell_type": "code",
   "execution_count": 25,
   "metadata": {
    "collapsed": false
   },
   "outputs": [
    {
     "data": {
      "text/plain": [
       "[\"Playing WAVE '/home/samba/potockan/python/test7.wav' : Signed 16 bit Little Endian, Rate 44100 Hz, Mono\"]"
      ]
     },
     "execution_count": 25,
     "metadata": {},
     "output_type": "execute_result"
    }
   ],
   "source": [
    "y = np.r_[dzwiek(384.87, 0.5, 0.1, 0.1), \n",
    "          dzwiek(323.63, 0.5, 0.1, 0.1), \n",
    "          dzwiek(323.63, 0.5, 0.1, 0.1),\n",
    "          dzwiek(342.88, 0.5, 0.1, 0.1),\n",
    "          dzwiek(288.33, 0.5, 0.1, 0.1),\n",
    "          dzwiek(288.33, 0.5, 0.1, 0.1),\n",
    "          dzwiek(256.87, 0.5, 0.1, 0.1),\n",
    "          dzwiek(323.63, 0.5, 0.1, 0.1),\n",
    "          dzwiek(384.87, 0.5, 0.1, 0.1),\n",
    "         ]\n",
    "scipy.io.wavfile.write(\"/home/samba/potockan/python/test7.wav\", \n",
    "                       fs, \n",
    "                       np.int16(y/max(np.abs(y))*32767))\n",
    "!!aplay /home/samba/potockan/python/test7.wav"
   ]
  },
  {
   "cell_type": "code",
   "execution_count": 33,
   "metadata": {
    "collapsed": false
   },
   "outputs": [
    {
     "name": "stderr",
     "output_type": "stream",
     "text": [
      "/opt/anaconda/lib/python3.4/site-packages/numpy/core/numeric.py:462: ComplexWarning: Casting complex values to real discards the imaginary part\n",
      "  return array(a, dtype, copy=False, order=order)\n"
     ]
    },
    {
     "data": {
      "image/png": "[encoded data removed]",
      "text/plain": [
       "<matplotlib.figure.Figure at 0x7f6f865ed518>"
      ]
     },
     "metadata": {},
     "output_type": "display_data"
    }
   ],
   "source": [
    "import scipy.fftpack\n",
    "yf = scipy.fftpack.fft(y)\n",
    "n = len(y)\n",
    "xf = np.linspace(0,44100/2, n/2)\n",
    "plt.plot(xf, 2*(yf[1:int(n/2)+1])/n)\n",
    "#plt.xscale('log')\n",
    "plt.show()"
   ]
  },
  {
   "cell_type": "code",
   "execution_count": 35,
   "metadata": {
    "collapsed": false
   },
   "outputs": [
    {
     "data": {
      "text/plain": [
       "[\"Playing WAVE '/home/samba/potockan/python/test8.wav' : Signed 16 bit Little Endian, Rate 44100 Hz, Mono\"]"
      ]
     },
     "execution_count": 35,
     "metadata": {},
     "output_type": "execute_result"
    }
   ],
   "source": [
    "fs, y = scipy.io.wavfile.read(\"/home/samba/potockan/python/Ensoniq-SQ-2-Piano-C7.wav\")\n",
    "y = np.mean(y, axis=1)\n",
    "y /= 32767\n",
    "\n",
    "scipy.io.wavfile.write(\"/home/samba/potockan/python/test8.wav\", \n",
    "                       fs, \n",
    "                       np.int16(y/max(np.abs(y))*32767))\n",
    "!!aplay /home/samba/potockan/python/test8.wav"
   ]
  },
  {
   "cell_type": "code",
   "execution_count": 92,
   "metadata": {
    "collapsed": false
   },
   "outputs": [
    {
     "name": "stderr",
     "output_type": "stream",
     "text": [
      "/opt/anaconda/lib/python3.4/site-packages/scipy/io/wavfile.py:172: WavFileWarning: Chunk (non-data) not understood, skipping it.\n",
      "  WavFileWarning)\n"
     ]
    },
    {
     "data": {
      "text/plain": [
       "[\"Playing WAVE '/home/samba/potockan/python/test8.wav' : Signed 16 bit Little Endian, Rate 44100 Hz, Mono\"]"
      ]
     },
     "execution_count": 92,
     "metadata": {},
     "output_type": "execute_result"
    }
   ],
   "source": [
    "fs1, y1 = scipy.io.wavfile.read(\"/home/samba/potockan/python/Snare-Drum-2.wav\")\n",
    "fs2, y2 = scipy.io.wavfile.read(\"/home/samba/potockan/python/Side-Stick-4.wav\")\n",
    "fs3, y3 = scipy.io.wavfile.read(\"/home/samba/potockan/python/Deep-Kick.wav\")\n",
    "fs = fs1\n",
    "y1 = np.tile(y1[:len(y1/2)], 2)\n",
    "y2 = np.tile(y2[:len(y2/2)], 2)\n",
    "y3 = np.tile(y3[:len(y3/2)], 2)\n",
    "y = np.r_[y1, y2]\n",
    "#y = np.repeat(y, 4, axis = 0)\n",
    "y = np.tile(y, [4,4])\n",
    "y = np.mean(y, axis=1)\n",
    "y /= 32767\n",
    "\n",
    "\n",
    "scipy.io.wavfile.write(\"/home/samba/potockan/python/test8.wav\", \n",
    "                       fs, \n",
    "                       np.int16(y/max(np.abs(y))*32767))\n",
    "!!aplay /home/samba/potockan/python/test8.wav"
   ]
  },
  {
   "cell_type": "markdown",
   "metadata": {},
   "source": [
    "Pakiet `librosa` - do zabawy rozpoznawania featuresów w muzyce"
   ]
  }
 ],
 "metadata": {
  "kernelspec": {
   "display_name": "Python 3",
   "language": "python",
   "name": "python3"
  },
  "language_info": {
   "codemirror_mode": {
    "name": "ipython",
    "version": 3
   },
   "file_extension": ".py",
   "mimetype": "text/x-python",
   "name": "python",
   "nbconvert_exporter": "python",
   "pygments_lexer": "ipython3",
   "version": "3.4.3"
  }
 },
 "nbformat": 4,
 "nbformat_minor": 0
}
