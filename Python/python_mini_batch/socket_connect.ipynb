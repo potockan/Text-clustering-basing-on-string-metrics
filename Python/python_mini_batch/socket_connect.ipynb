{
 "cells": [
  {
   "cell_type": "code",
   "execution_count": null,
   "metadata": {
    "collapsed": true
   },
   "outputs": [],
   "source": [
    "# -*- coding: utf-8 -*-\n",
    "\"\"\"\n",
    "Created on Mon Aug 31 19:48:40 2015\n",
    "\n",
    "@author: natalia\n",
    "\"\"\"\n",
    "\n",
    "\n",
    "#################\n",
    "# Echo client program\n",
    "import socket\n",
    "\n",
    "HOST = \"192.168.0.11\"\n",
    "PORT = 50007\n",
    "s = socket.socket(socket.AF_INET, socket.SOCK_STREAM)\n",
    "s.connect((HOST, PORT))\n",
    "s.sendall(str([1,2,3,3]))\n",
    "data = s.recv(1024)\n",
    "s.close()\n",
    "print 'Received', repr(data)\n",
    "#################\n",
    "\n",
    "#################\n",
    "# Echo server program\n",
    "import socket\n",
    "\n",
    "HOST = ''                 # Symbolic name meaning all available interfaces\n",
    "PORT = 50007              # Arbitrary non-privileged port\n",
    "s = socket.socket(socket.AF_INET, socket.SOCK_STREAM)\n",
    "s.bind((HOST, PORT))\n",
    "s.listen(1)\n",
    "conn, addr = s.accept()\n",
    "print 'Connected by', addr\n",
    "while 1:\n",
    "    data = conn.recv(1024)\n",
    "    if not data: break\n",
    "    conn.sendall(data)\n",
    "conn.close()\n",
    "#################"
   ]
  },
  {
   "cell_type": "code",
   "execution_count": 14,
   "metadata": {
    "collapsed": false
   },
   "outputs": [],
   "source": [
    "####################################################################\n",
    "########################### improvements ###########################\n",
    "####################################################################\n",
    "\n",
    "\n",
    "#################\n",
    "# Echo client program\n",
    "import socket, pickle, numpy as np\n",
    "\n",
    "HOST = \"10.0.0.108\"\n",
    "PORT = 50007\n",
    "s = socket.socket(socket.AF_INET, socket.SOCK_STREAM)"
   ]
  },
  {
   "cell_type": "code",
   "execution_count": 16,
   "metadata": {
    "collapsed": false
   },
   "outputs": [
    {
     "ename": "OSError",
     "evalue": "[Errno 106] Transport endpoint is already connected",
     "output_type": "error",
     "traceback": [
      "\u001b[1;31m---------------------------------------------------------------------------\u001b[0m",
      "\u001b[1;31mOSError\u001b[0m                                   Traceback (most recent call last)",
      "\u001b[1;32m<ipython-input-16-a82574f2dcc3>\u001b[0m in \u001b[0;36m<module>\u001b[1;34m()\u001b[0m\n\u001b[1;32m----> 1\u001b[1;33m \u001b[0ms\u001b[0m\u001b[1;33m.\u001b[0m\u001b[0mconnect\u001b[0m\u001b[1;33m(\u001b[0m\u001b[1;33m(\u001b[0m\u001b[0mHOST\u001b[0m\u001b[1;33m,\u001b[0m \u001b[0mPORT\u001b[0m\u001b[1;33m)\u001b[0m\u001b[1;33m)\u001b[0m\u001b[1;33m\u001b[0m\u001b[0m\n\u001b[0m",
      "\u001b[1;31mOSError\u001b[0m: [Errno 106] Transport endpoint is already connected"
     ]
    }
   ],
   "source": [
    "s.connect((HOST, PORT))"
   ]
  },
  {
   "cell_type": "code",
   "execution_count": 17,
   "metadata": {
    "collapsed": false
   },
   "outputs": [
    {
     "data": {
      "text/plain": [
       "189"
      ]
     },
     "execution_count": 17,
     "metadata": {},
     "output_type": "execute_result"
    }
   ],
   "source": [
    "\n",
    "arr = np.array([[1, 2], [3, 4]])\n",
    "data_string = pickle.dumps(arr)\n",
    "s.send(data_string)\n"
   ]
  },
  {
   "cell_type": "code",
   "execution_count": 9,
   "metadata": {
    "collapsed": false
   },
   "outputs": [
    {
     "ename": "KeyboardInterrupt",
     "evalue": "",
     "output_type": "error",
     "traceback": [
      "\u001b[1;31m---------------------------------------------------------------------------\u001b[0m",
      "\u001b[1;31mKeyboardInterrupt\u001b[0m                         Traceback (most recent call last)",
      "\u001b[1;32m<ipython-input-9-4cbb9e4e8eff>\u001b[0m in \u001b[0;36m<module>\u001b[1;34m()\u001b[0m\n\u001b[0;32m      1\u001b[0m \u001b[1;33m\u001b[0m\u001b[0m\n\u001b[1;32m----> 2\u001b[1;33m \u001b[0mdata\u001b[0m \u001b[1;33m=\u001b[0m \u001b[0ms\u001b[0m\u001b[1;33m.\u001b[0m\u001b[0mrecv\u001b[0m\u001b[1;33m(\u001b[0m\u001b[1;36m4096\u001b[0m\u001b[1;33m)\u001b[0m\u001b[1;33m\u001b[0m\u001b[0m\n\u001b[0m\u001b[0;32m      3\u001b[0m \u001b[0mdata_arr\u001b[0m \u001b[1;33m=\u001b[0m \u001b[0mpickle\u001b[0m\u001b[1;33m.\u001b[0m\u001b[0mloads\u001b[0m\u001b[1;33m(\u001b[0m\u001b[0mdata\u001b[0m\u001b[1;33m)\u001b[0m\u001b[1;33m\u001b[0m\u001b[0m\n\u001b[0;32m      4\u001b[0m \u001b[0ms\u001b[0m\u001b[1;33m.\u001b[0m\u001b[0mclose\u001b[0m\u001b[1;33m(\u001b[0m\u001b[1;33m)\u001b[0m\u001b[1;33m\u001b[0m\u001b[0m\n\u001b[0;32m      5\u001b[0m \u001b[0mprint\u001b[0m \u001b[1;33m(\u001b[0m\u001b[1;34m'Received'\u001b[0m\u001b[1;33m,\u001b[0m \u001b[0mrepr\u001b[0m\u001b[1;33m(\u001b[0m\u001b[0mdata_arr\u001b[0m\u001b[1;33m)\u001b[0m\u001b[1;33m)\u001b[0m\u001b[1;33m\u001b[0m\u001b[0m\n",
      "\u001b[1;31mKeyboardInterrupt\u001b[0m: "
     ]
    }
   ],
   "source": [
    "\n",
    "data = s.recv(4096)\n",
    "data_arr = pickle.loads(data)\n",
    "s.close()\n",
    "print ('Received', repr(data_arr))"
   ]
  },
  {
   "cell_type": "code",
   "execution_count": 13,
   "metadata": {
    "collapsed": true
   },
   "outputs": [],
   "source": [
    "s.close()"
   ]
  },
  {
   "cell_type": "code",
   "execution_count": null,
   "metadata": {
    "collapsed": true
   },
   "outputs": [],
   "source": [
    "#################\n",
    "# Echo server program\n",
    "import socket, pickle, numpy as np\n",
    "\n",
    "HOST = ''\n",
    "PORT = 50007\n",
    "s = socket.socket(socket.AF_INET, socket.SOCK_STREAM)\n",
    "s.bind((HOST, PORT))\n",
    "s.listen(1)\n",
    "conn, addr = s.accept()\n",
    "print 'Connected by', addr\n",
    "while 1:\n",
    "    data = conn.recv(4096)\n",
    "    if not data: break\n",
    "    L = pickle.loads(data)\n",
    "    L = np.vstack((L, np.array([[5,6]])))\n",
    "    data_out = pickle.dumps(L)\n",
    "    conn.send(data_out)\n",
    "conn.close()\n",
    "s.close()"
   ]
  }
 ],
 "metadata": {
  "kernelspec": {
   "display_name": "Python 3",
   "language": "python",
   "name": "python3"
  },
  "language_info": {
   "codemirror_mode": {
    "name": "ipython",
    "version": 3
   },
   "file_extension": ".py",
   "mimetype": "text/x-python",
   "name": "python",
   "nbconvert_exporter": "python",
   "pygments_lexer": "ipython3",
   "version": "3.4.3"
  }
 },
 "nbformat": 4,
 "nbformat_minor": 0
}
