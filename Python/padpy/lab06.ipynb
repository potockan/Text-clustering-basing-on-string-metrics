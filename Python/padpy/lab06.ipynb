{
 "cells": [
  {
   "cell_type": "markdown",
   "metadata": {},
   "source": [
    "# Cython...\n",
    "czyli jak bezbolesnie przyspieszyc kod 100 razy\n",
    "\n",
    "!= CPython\n",
    "\n",
    "prawie CPython (99% kompatybilnosci) + rozszerzenia\n",
    "\n",
    "http://cython.org\n",
    "\n",
    "jak przygotujemy pakiet w Cythonie albo modul,\n",
    "to moze on zostac bez problemu zaladowany w normalnym python\n",
    "\n",
    "* daje dostep do wywolan funkcji w C i C++ i Fortranie z kodu\n",
    "* kod Cythona kompilowany jest do C/C++ i to jest kompilowane za pomoca gcc/clang do ladowanej dynamicznie biblioteki (.dll/.so)\n",
    "* dobrze zintegrowany tez numpy"
   ]
  },
  {
   "cell_type": "markdown",
   "metadata": {},
   "source": [
    "Zadanie: napisz funkcje pi1() ktora przybliza wartosc pi, dla danego n, wg nastepujacego wzoru:\n",
    "$$\n",
    "\\pi \\simeq 4 \\sum_{i=0}^n \\frac{(-1)^i}{2i+1}\n",
    "$$\n",
    "(wzor Gregory'ego-Leibniza)"
   ]
  },
  {
   "cell_type": "code",
   "execution_count": null,
   "metadata": {
    "collapsed": true
   },
   "outputs": [],
   "source": [
    "def pi1(n):\n",
    "    \"\"\"\n",
    "    wersja pure Python\n",
    "    \"\"\"\n",
    "    s = 1\n",
    "    a = 1\n",
    "    for i in range(1, n+1):\n",
    "            a = -a\n",
    "            s += a/(2*i+1)\n",
    "    return 4*s"
   ]
  },
  {
   "cell_type": "code",
   "execution_count": null,
   "metadata": {
    "collapsed": false
   },
   "outputs": [],
   "source": [
    "pi1(10000)"
   ]
  },
  {
   "cell_type": "code",
   "execution_count": null,
   "metadata": {
    "collapsed": true
   },
   "outputs": [],
   "source": [
    "import numpy as np\n",
    "def pi2(n):\n",
    "    \"\"\"\n",
    "    wersja numpy-style (vectorized)\n",
    "    \"\"\"\n",
    "    x = np.arange(0, n+1)\n",
    "    x = 1/(2*x+1)\n",
    "    x[1::2] *= -1\n",
    "    return 4*x.sum()"
   ]
  },
  {
   "cell_type": "code",
   "execution_count": null,
   "metadata": {
    "collapsed": false
   },
   "outputs": [],
   "source": [
    "pi2(10000)"
   ]
  },
  {
   "cell_type": "code",
   "execution_count": null,
   "metadata": {
    "collapsed": false
   },
   "outputs": [],
   "source": [
    "%timeit pi1(1000000)\n",
    "%timeit pi2(1000000)"
   ]
  },
  {
   "cell_type": "markdown",
   "metadata": {},
   "source": [
    "Wlaczamy obsluge Cython-a w Jupyterze"
   ]
  },
  {
   "cell_type": "code",
   "execution_count": null,
   "metadata": {
    "collapsed": false
   },
   "outputs": [],
   "source": [
    "%load_ext Cython"
   ]
  },
  {
   "cell_type": "code",
   "execution_count": null,
   "metadata": {
    "collapsed": true
   },
   "outputs": [],
   "source": [
    "%%cython\n",
    "def pi3(n):\n",
    "    s = 1\n",
    "    a = 1\n",
    "    for i in range(1, n+1):\n",
    "            a = -a\n",
    "            s += a/(2*i+1)\n",
    "    return 4*s"
   ]
  },
  {
   "cell_type": "code",
   "execution_count": null,
   "metadata": {
    "collapsed": false
   },
   "outputs": [],
   "source": [
    "%timeit pi1(1000000)\n",
    "%timeit pi3(1000000)"
   ]
  },
  {
   "cell_type": "markdown",
   "metadata": {},
   "source": [
    "Ciekawostka - w Jupyterze sprobujmy\n",
    "%%cython -a"
   ]
  },
  {
   "cell_type": "code",
   "execution_count": null,
   "metadata": {
    "collapsed": false
   },
   "outputs": [],
   "source": [
    "%%cython -a\n",
    "def pi3(n):\n",
    "    s = 1\n",
    "    a = 1\n",
    "    for i in range(1, n+1):\n",
    "            a = -a\n",
    "            s += a/(2*i+1)\n",
    "    return 4*s"
   ]
  },
  {
   "cell_type": "markdown",
   "metadata": {},
   "source": [
    "Optymalizacja kodu polega w wiekszosci na:\n",
    "* deklaracji typowanych zmiennych\n",
    "\n",
    "Zlota regula: kazda zmienna ktora pojawia sie w funkcji powinna miec okreslony typ.\n",
    "\n",
    "Nazwy typow prawie jak z C: int, double\n",
    "\n",
    "w powyzszym kodzie mamy 4 zmienne: n,s,a,i (nie zapominiamy o i)"
   ]
  },
  {
   "cell_type": "code",
   "execution_count": null,
   "metadata": {
    "collapsed": false
   },
   "outputs": [],
   "source": [
    "%%cython -a\n",
    "def pi4(unsigned int n):\n",
    "    cdef double s = 1\n",
    "    cdef double a = 1\n",
    "    cdef unsigned int i\n",
    "    for i in range(1, n+1):\n",
    "            a = -a\n",
    "            s += a/(2*i+1)\n",
    "    return 4*s"
   ]
  },
  {
   "cell_type": "code",
   "execution_count": null,
   "metadata": {
    "collapsed": false
   },
   "outputs": [],
   "source": [
    "%timeit pi1(1000000)\n",
    "%timeit pi4(1000000)"
   ]
  },
  {
   "cell_type": "markdown",
   "metadata": {},
   "source": [
    "Zadanie: napisz funkcje w pythonie i cythonie do liczenia n-tej liczby fibonacciego\n",
    "\n",
    "uwaga: int tutaj to nie bigint z pythona (mozna sprobowac double)"
   ]
  },
  {
   "cell_type": "markdown",
   "metadata": {},
   "source": [
    "Zadanie: Napisz funkcje sum1 przy uzyciu petli for,\n",
    "ktora liczy sume elementow w danym obiekcie iterowalnym"
   ]
  },
  {
   "cell_type": "code",
   "execution_count": null,
   "metadata": {
    "collapsed": false
   },
   "outputs": [],
   "source": [
    "def sum1(x):\n",
    "    s = 0\n",
    "    n = len(x)\n",
    "    for i in range(0, n):\n",
    "            s += x[i]\n",
    "    return s"
   ]
  },
  {
   "cell_type": "code",
   "execution_count": null,
   "metadata": {
    "collapsed": false
   },
   "outputs": [],
   "source": [
    "np.random.seed(123)\n",
    "x = np.random.random(100000)\n",
    "sum1(x)"
   ]
  },
  {
   "cell_type": "code",
   "execution_count": null,
   "metadata": {
    "collapsed": true
   },
   "outputs": [],
   "source": [
    "def sum2(x):\n",
    "    s = 0\n",
    "    for e in x:\n",
    "        s = s + e\n",
    "    return s"
   ]
  },
  {
   "cell_type": "code",
   "execution_count": null,
   "metadata": {
    "collapsed": false
   },
   "outputs": [],
   "source": [
    "%timeit sum1(x)\n",
    "%timeit sum2(x)"
   ]
  },
  {
   "cell_type": "code",
   "execution_count": null,
   "metadata": {
    "collapsed": false
   },
   "outputs": [],
   "source": [
    "sum2([1,2,3,4])"
   ]
  },
  {
   "cell_type": "code",
   "execution_count": null,
   "metadata": {
    "collapsed": false
   },
   "outputs": [],
   "source": [
    "sum2((1,2,3))"
   ]
  },
  {
   "cell_type": "code",
   "execution_count": null,
   "metadata": {
    "collapsed": false
   },
   "outputs": [],
   "source": [
    "sum2(range(1, 10))"
   ]
  },
  {
   "cell_type": "markdown",
   "metadata": {},
   "source": [
    "zalozmy ze robimy wersje python tylko dla wektorow o wartosciach rzeczywistych\n",
    "\n",
    "np.ndarray[np.double_t]"
   ]
  },
  {
   "cell_type": "code",
   "execution_count": null,
   "metadata": {
    "collapsed": false
   },
   "outputs": [],
   "source": [
    "%%cython -a\n",
    "cimport numpy as np\n",
    "import numpy as np\n",
    "cimport cython\n",
    "\n",
    "@cython.boundscheck(False)\n",
    "def sum3(np.ndarray[np.double_t] x):\n",
    "    cdef np.double_t s = 0\n",
    "    cdef unsigned int i, n = len(x)\n",
    "    for i in range(0, n):\n",
    "            s += x[i]\n",
    "    return s\n",
    "\n",
    "@cython.boundscheck(False)\n",
    "def sum4(np.ndarray[np.double_t] x):\n",
    "    cdef np.double_t s = 0\n",
    "    cdef np.double_t e\n",
    "    for e in x:\n",
    "        s = s + e\n",
    "    return s"
   ]
  },
  {
   "cell_type": "code",
   "execution_count": null,
   "metadata": {
    "collapsed": true
   },
   "outputs": [],
   "source": [
    "# Moral z tej bajki: niskopoziomowo"
   ]
  },
  {
   "cell_type": "code",
   "execution_count": null,
   "metadata": {
    "collapsed": false
   },
   "outputs": [],
   "source": [
    "%timeit sum1(x)\n",
    "%timeit sum2(x)\n",
    "%timeit sum3(x)\n",
    "%timeit sum4(x)"
   ]
  },
  {
   "cell_type": "code",
   "execution_count": null,
   "metadata": {
    "collapsed": false
   },
   "outputs": [],
   "source": [
    "# auto sprawdzanie typow!\n",
    "sum3(np.arange(0, 10))"
   ]
  },
  {
   "cell_type": "code",
   "execution_count": null,
   "metadata": {
    "collapsed": false
   },
   "outputs": [],
   "source": [
    "sum3(np.arange(0, 10).astype(float))"
   ]
  },
  {
   "cell_type": "code",
   "execution_count": null,
   "metadata": {
    "collapsed": true
   },
   "outputs": [],
   "source": [
    "# zadanie: splot 2 macierzy numpy, C=A*B\n",
    "def convolve1(A, B):\n",
    "    C = A.copy()\n",
    "    n, m = A.shape\n",
    "    k = B.shape[0]//2\n",
    "    for i in range(k, n-k):\n",
    "        for j in range(k, m-k):\n",
    "            C[i,j] = 0\n",
    "            for ai in range(0, 2*k+1):\n",
    "                for aj in range(0, 2*k+1):\n",
    "                    C[i,j] += A[i+ai-k,j+aj-k]*B[ai,aj]\n",
    "    return C"
   ]
  },
  {
   "cell_type": "code",
   "execution_count": null,
   "metadata": {
    "collapsed": false
   },
   "outputs": [],
   "source": [
    "import matplotlib.pyplot as plt\n",
    "%matplotlib inline\n",
    "import skimage.data\n",
    "A = skimage.data.lena().mean(axis=2)\n",
    "B = np.ones((7,7))/(7*7)\n",
    "C = convolve1(A, B)\n",
    "\n",
    "fig, (ax0, ax1) = plt.subplots(1,2)\n",
    "ax0.imshow(A, cmap=plt.cm.gray)\n",
    "ax0.axis('off')\n",
    "\n",
    "ax1.imshow(C, cmap=plt.cm.gray)\n",
    "ax1.axis('off')\n",
    "\n",
    "plt.show()"
   ]
  },
  {
   "cell_type": "code",
   "execution_count": null,
   "metadata": {
    "collapsed": false
   },
   "outputs": [],
   "source": [
    "%%cython\n",
    "import numpy as np\n",
    "cimport numpy as np\n",
    "cimport cython\n",
    "\n",
    "@cython.boundscheck(False)\n",
    "def convolve2(np.ndarray[np.double_t,ndim=2] A, \n",
    "              np.ndarray[np.double_t,ndim=2] B):\n",
    "    cdef np.ndarray[np.double_t,ndim=2] C = A.copy()\n",
    "    cdef unsigned int n, m\n",
    "    # 99% procent kompatybilnosci:\n",
    "    # n,m = A.shape nie dziala\n",
    "    n = A.shape[0]\n",
    "    m = A.shape[1]\n",
    "    cdef unsigned int k = B.shape[0]//2\n",
    "    cdef unsigned int i, j, ai, aj\n",
    "    for i in range(k, n-k):\n",
    "        for j in range(k, m-k):\n",
    "            C[i,j] = 0\n",
    "            for ai in range(0, 2*k+1):\n",
    "                for aj in range(0, 2*k+1):\n",
    "                    C[i,j] += A[i+ai-k,j+aj-k]*B[ai,aj]\n",
    "    return C"
   ]
  },
  {
   "cell_type": "code",
   "execution_count": null,
   "metadata": {
    "collapsed": false
   },
   "outputs": [],
   "source": [
    "%timeit convolve1(A,B)\n",
    "%timeit convolve2(A,B)"
   ]
  },
  {
   "cell_type": "code",
   "execution_count": null,
   "metadata": {
    "collapsed": false
   },
   "outputs": [],
   "source": [
    "%%cython\n",
    "cimport numpy as np\n",
    "\n",
    "def f2(np.double_t x):\n",
    "    return x**2\n",
    "\n",
    "def test(np.ndarray[np.double_t] t, f):\n",
    "    # f nietypowane...\n",
    "    cdef unsigned int n = len(t), i\n",
    "    cdef double s = 0\n",
    "    for i in range(0, n):\n",
    "        s += f(t[i])\n",
    "    return s"
   ]
  },
  {
   "cell_type": "code",
   "execution_count": null,
   "metadata": {
    "collapsed": false
   },
   "outputs": [],
   "source": [
    "x = np.random.random(10000)\n",
    "test(x, f2)"
   ]
  },
  {
   "cell_type": "code",
   "execution_count": null,
   "metadata": {
    "collapsed": false
   },
   "outputs": [],
   "source": [
    "%timeit test(x, f2)\n",
    "%timeit sum([xi**2 for xi in x])"
   ]
  },
  {
   "cell_type": "code",
   "execution_count": null,
   "metadata": {
    "collapsed": false
   },
   "outputs": [],
   "source": [
    "def f4(x):\n",
    "    return x**2"
   ]
  },
  {
   "cell_type": "code",
   "execution_count": null,
   "metadata": {
    "collapsed": false
   },
   "outputs": [],
   "source": [
    "test(x, f4)"
   ]
  },
  {
   "cell_type": "code",
   "execution_count": null,
   "metadata": {
    "collapsed": false
   },
   "outputs": [],
   "source": [
    "%timeit test(x, f2)\n",
    "%timeit test(x, f4)"
   ]
  },
  {
   "cell_type": "markdown",
   "metadata": {},
   "source": [
    "## Cython w modulach i pakietach pythona"
   ]
  },
  {
   "cell_type": "markdown",
   "metadata": {},
   "source": [
    "Stworzmy plik \"modul_cython_test.pyx\"\n",
    "ktory zawiera cythonowe definicje funkcji convolve, sum, pi (w katalogu biezacym)"
   ]
  },
  {
   "cell_type": "code",
   "execution_count": null,
   "metadata": {
    "collapsed": false
   },
   "outputs": [],
   "source": [
    "import os\n",
    "os.getcwd()"
   ]
  },
  {
   "cell_type": "markdown",
   "metadata": {},
   "source": [
    "```python\n",
    "# cython: boundscheck=False, wraparound=False, nonecheck=False\n",
    "import numpy as np\n",
    "cimport numpy as np\n",
    "cimport cython\n",
    "\n",
    "\n",
    "def convolve2(np.ndarray[np.double_t,ndim=2] A,\n",
    "              np.ndarray[np.double_t,ndim=2] B):\n",
    "    cdef np.ndarray[np.double_t,ndim=2] C = A.copy()\n",
    "    cdef unsigned int n, m\n",
    "    # 99% procent kompatybilnosci:\n",
    "    # n,m = A.shape nie dziala\n",
    "    n = A.shape[0]\n",
    "    m = A.shape[1]\n",
    "    cdef unsigned int k = B.shape[0]//2\n",
    "    cdef unsigned int i, j, ai, aj\n",
    "    for i in range(k, n-k):\n",
    "        for j in range(k, m-k):\n",
    "            C[i,j] = 0\n",
    "            for ai in range(0, 2*k+1):\n",
    "                for aj in range(0, 2*k+1):\n",
    "                    C[i,j] += A[i+ai-k,j+aj-k]*B[ai,aj]\n",
    "    return C\n",
    "\n",
    "def sum3(np.ndarray[np.double_t] x):\n",
    "    cdef np.double_t s = 0\n",
    "    cdef unsigned int i, n = len(x)\n",
    "    for i in range(0, n):\n",
    "            s += x[i]\n",
    "    return s\n",
    "\n",
    "def pi4(unsigned int n):\n",
    "    cdef double s = 1\n",
    "    cdef double a = 1\n",
    "    cdef unsigned int i\n",
    "    for i in range(1, n+1):\n",
    "            a = -a\n",
    "            s += a/(2*i+1)\n",
    "    return 4*s\n",
    "\n",
    "\n",
    "```"
   ]
  },
  {
   "cell_type": "code",
   "execution_count": 2,
   "metadata": {
    "collapsed": false
   },
   "outputs": [
    {
     "data": {
      "text/plain": [
       "(None, <pyximport.pyximport.PyxImporter at 0x7fd7e16ffb00>)"
      ]
     },
     "execution_count": 2,
     "metadata": {},
     "output_type": "execute_result"
    }
   ],
   "source": [
    "# robimy raz\n",
    "import pyximport\n",
    "import numpy as np\n",
    "pyximport.install(setup_args={'include_dirs': np.get_include()})\n",
    "# uzywamy tutaj numpy, trzeba dodac specjalne flagi dla kompilatora\n",
    "# (katalog z plikami .h -- specyfikacja jest podobna jak w pliku setup.py ponizej)"
   ]
  },
  {
   "cell_type": "code",
   "execution_count": 3,
   "metadata": {
    "collapsed": true
   },
   "outputs": [],
   "source": [
    "import modul_cython_test as mct"
   ]
  },
  {
   "cell_type": "code",
   "execution_count": null,
   "metadata": {
    "collapsed": false
   },
   "outputs": [],
   "source": [
    "mct.pi4(10000)"
   ]
  },
  {
   "cell_type": "markdown",
   "metadata": {},
   "source": [
    "TODO: czy cython + jupyter dziala pod Windows??"
   ]
  },
  {
   "cell_type": "markdown",
   "metadata": {},
   "source": [
    "## Pakiety z Cythonem:\n",
    "\n",
    "3 pliki:\n",
    "\n",
    "`pakiet_cython/modul_cython_test.pyx`:\n",
    "\n",
    "jw.\n",
    "\n",
    "`pakiet_cython/__init__.py`:\n",
    "```python\n",
    "from . import modul_cython_test\n",
    "```\n",
    "\n",
    "`pakiet_cython/setup.py`:\n",
    "```python\n",
    "from distutils.core import setup\n",
    "from distutils.extension import Extension\n",
    "from Cython.Distutils import build_ext\n",
    "import numpy as np\n",
    "\n",
    "setup(\n",
    "    name = 'Moj pierwszy pakiet Cython',\n",
    "    include_dirs = [np.get_include()],\n",
    "    ext_modules = [\n",
    "        Extension(\"modul_cython_test\",\n",
    "                   [\"modul_cython_test.pyx\"]\n",
    "                 )\n",
    "    ],\n",
    "    cmdclass = {\n",
    "        \"build_ext\": build_ext\n",
    "    }\n",
    ")\n",
    "```\n",
    "\n",
    "W terminalu wchodzimy do katalogu,\n",
    "w ktorym jest plik setup.py\n",
    "\n",
    "Pakiet trzeba \"zbudowac\" przed importem\n",
    "\n",
    "cd costam/pakiet_cython\n",
    "/opt/anaconda3/bin/python3 setup.py build_ext --inplace"
   ]
  },
  {
   "cell_type": "code",
   "execution_count": null,
   "metadata": {
    "collapsed": false
   },
   "outputs": [],
   "source": [
    "import pakiet_cython\n",
    "pakiet_cython.modul_cython_test.pi4(10000)"
   ]
  },
  {
   "cell_type": "markdown",
   "metadata": {},
   "source": [
    "## OPENMP\n",
    "\n",
    "```python\n",
    "# cython: boundscheck=False, wraparound=False, nonecheck=False\n",
    "import numpy as np\n",
    "cimport numpy as np\n",
    "cimport cython\n",
    "cimport cython.parallel\n",
    "cimport openmp\n",
    "\n",
    "def convolve3(np.ndarray[np.double_t,ndim=2] A,\n",
    "              np.ndarray[np.double_t,ndim=2] B):\n",
    "    cdef np.ndarray[np.double_t,ndim=2] C = A.copy()\n",
    "    cdef unsigned int n, m\n",
    "    \n",
    "    openmp.omp_set_num_threads(4)\n",
    "\n",
    "    n = A.shape[0]\n",
    "    m = A.shape[1]\n",
    "    cdef unsigned int k = B.shape[0]//2\n",
    "    cdef unsigned int i, j, ai, aj\n",
    "\n",
    "    for i in cython.parallel.prange(k, n-k, nogil=True):\n",
    "        for j in range(k, m-k):\n",
    "            C[i,j] = 0\n",
    "            for ai in range(0, 2*k+1):\n",
    "                for aj in range(0, 2*k+1):\n",
    "                    C[i,j] += A[i+ai-k,j+aj-k]*B[ai,aj]\n",
    "    return C\n",
    "```\n",
    "\n",
    "setup.py:\n",
    "\n",
    "```\n",
    "from distutils.core import setup\n",
    "from distutils.extension import Extension\n",
    "from Cython.Distutils import build_ext\n",
    "import numpy as np\n",
    "\n",
    "setup(\n",
    "    name = 'Moj pierwszy pakiet Cython',\n",
    "    include_dirs = [np.get_include()],\n",
    "    ext_modules = [\n",
    "        Extension(\"modul_cython_test\",\n",
    "                   [\"modul_cython_test.pyx\"]\n",
    "                 ),\n",
    "        Extension(\"openmp_test\",\n",
    "                   [\"openmp_test.pyx\"],\n",
    "                   extra_compile_args=['-fopenmp'],\n",
    "                   extra_link_args=['-fopenmp']\n",
    "                 )\n",
    "    ],\n",
    "    cmdclass = {\n",
    "        \"build_ext\": build_ext\n",
    "    }\n",
    ")\n",
    "\n",
    "```\n",
    "\n",
    "`__init__.py`:\n",
    "\n",
    "```\n",
    "from . import modul_cython_test\n",
    "from . import openmp_test\n",
    "```"
   ]
  },
  {
   "cell_type": "code",
   "execution_count": 1,
   "metadata": {
    "collapsed": false,
    "scrolled": true
   },
   "outputs": [],
   "source": [
    "import pakiet_cython\n",
    "import skimage.data\n",
    "import numpy as np\n",
    "A = skimage.data.lena().mean(axis=2)\n",
    "B = np.ones((15,15))\n",
    "B /= B.sum()\n",
    "#%timeit pakiet_cython.modul_cython_test.convolve2(A,B)\n",
    "#%timeit pakiet_cython.openmp_test.convolve3(A,B)"
   ]
  },
  {
   "cell_type": "code",
   "execution_count": null,
   "metadata": {
    "collapsed": false
   },
   "outputs": [],
   "source": [
    "A = np.random.random((1000,1000))\n",
    "B = np.ones((101,101))\n",
    "#C = pakiet_cython.modul_cython_test.convolve2(A,B)\n",
    "C = pakiet_cython.openmp_test.convolve3(A,B)"
   ]
  },
  {
   "cell_type": "code",
   "execution_count": null,
   "metadata": {
    "collapsed": true
   },
   "outputs": [],
   "source": []
  }
 ],
 "metadata": {
  "kernelspec": {
   "display_name": "Python 3",
   "language": "python",
   "name": "python3"
  },
  "language_info": {
   "codemirror_mode": {
    "name": "ipython",
    "version": 3
   },
   "file_extension": ".py",
   "mimetype": "text/x-python",
   "name": "python",
   "nbconvert_exporter": "python",
   "pygments_lexer": "ipython3",
   "version": "3.4.3"
  }
 },
 "nbformat": 4,
 "nbformat_minor": 0
}
