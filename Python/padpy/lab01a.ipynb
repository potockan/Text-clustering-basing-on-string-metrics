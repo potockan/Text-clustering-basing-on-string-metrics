{
 "cells": [
  {
   "cell_type": "code",
   "execution_count": 11,
   "metadata": {
    "collapsed": false
   },
   "outputs": [
    {
     "data": {
      "text/plain": [
       "4"
      ]
     },
     "execution_count": 11,
     "metadata": {},
     "output_type": "execute_result"
    }
   ],
   "source": [
    "2+2 \n",
    "#ctrl + enter (wykonuje), \n",
    "#alt + enter (wykonuje, tworzy nowa komorke i przenosi), \n",
    "#shift + enter (wykonuje, przechodzi dalej, nie tworzy)"
   ]
  },
  {
   "cell_type": "code",
   "execution_count": 13,
   "metadata": {
    "collapsed": false
   },
   "outputs": [
    {
     "name": "stdout",
     "output_type": "stream",
     "text": [
      "egss and ham\n"
     ]
    }
   ],
   "source": [
    "print('egss and ham')"
   ]
  },
  {
   "cell_type": "code",
   "execution_count": null,
   "metadata": {
    "collapsed": true
   },
   "outputs": [],
   "source": [
    "%matplotlib inline #informacja dla kompilatora, obrazki maja sie tu wyswietlac a nie w innym okienku\n",
    "import matplotlib.pyplot as plt #biblioteka do rysowania, podobna do matlaba\n",
    "import numpy as np #do obliczen numerycznych\n",
    "a = np.linspace(0, 10, 100) #ciag wartosci od 0 do 10, 100 pkt\n",
    "b = np.exp(-a)\n",
    "plt.plot(a,b)\n",
    "plt.show()"
   ]
  },
  {
   "cell_type": "markdown",
   "metadata": {},
   "source": [
    "### Skroty\n",
    "tab, shift + tab cofa\n",
    "ctrl+d usuwa cala linie\n",
    "a,b; x,c,v; dd; h; o\n",
    "y- python, m - markdown"
   ]
  },
  {
   "cell_type": "code",
   "execution_count": 18,
   "metadata": {
    "collapsed": false
   },
   "outputs": [
    {
     "name": "stdout",
     "output_type": "stream",
     "text": [
      "100000000 loops, best of 3: 13.1 ns per loop\n"
     ]
    }
   ],
   "source": [
    "#IPython magics\n",
    "%timeit 2+2"
   ]
  },
  {
   "cell_type": "code",
   "execution_count": 19,
   "metadata": {
    "collapsed": true
   },
   "outputs": [],
   "source": [
    "?type"
   ]
  }
 ],
 "metadata": {
  "kernelspec": {
   "display_name": "Python 3",
   "language": "python",
   "name": "python3"
  },
  "language_info": {
   "codemirror_mode": {
    "name": "ipython",
    "version": 3
   },
   "file_extension": ".py",
   "mimetype": "text/x-python",
   "name": "python",
   "nbconvert_exporter": "python",
   "pygments_lexer": "ipython3",
   "version": "3.4.3"
  }
 },
 "nbformat": 4,
 "nbformat_minor": 0
}
